{
 "cells": [
  {
   "cell_type": "code",
   "id": "initial_id",
   "metadata": {
    "collapsed": true,
    "ExecuteTime": {
     "end_time": "2025-03-25T16:43:14.372390Z",
     "start_time": "2025-03-25T16:43:14.364009Z"
    }
   },
   "source": [
    ""
   ],
   "outputs": [],
   "execution_count": null
  },
  {
   "metadata": {
    "ExecuteTime": {
     "end_time": "2025-03-26T10:24:46.025223Z",
     "start_time": "2025-03-26T10:24:42.905522Z"
    }
   },
   "cell_type": "code",
   "source": [
    "#!/usr/bin/env python3\n",
    "\"\"\"\n",
    "MacOS Environment Debugging Script for Protein Graph Machine Learning\n",
    "This script checks GPU availability, DSSP installation, PyTorch configuration and\n",
    "other environment variables critical for running Graphein and protein structure analysis.\n",
    "\"\"\"\n",
    "\n",
    "import sys\n",
    "import os\n",
    "import platform\n",
    "import subprocess\n",
    "from datetime import datetime\n",
    "import shutil\n",
    "import warnings\n",
    "\n",
    "# Suppress specific warnings that might clutter the output\n",
    "warnings.filterwarnings(\"ignore\", category=UserWarning)\n",
    "warnings.filterwarnings(\"ignore\", category=FutureWarning)\n",
    "\n",
    "def print_header(title):\n",
    "    \"\"\"Print a formatted section header\"\"\"\n",
    "    print(\"\\n\" + \"=\"*80)\n",
    "    print(f\" {title} \".center(80, \"=\"))\n",
    "    print(\"=\"*80)\n",
    "\n",
    "def run_command(command, check=False):\n",
    "    \"\"\"Run a shell command and return the output\"\"\"\n",
    "    try:\n",
    "        result = subprocess.run(\n",
    "            command,\n",
    "            stdout=subprocess.PIPE,\n",
    "            stderr=subprocess.PIPE,\n",
    "            text=True,\n",
    "            check=check,\n",
    "            shell=True\n",
    "        )\n",
    "        return result.stdout.strip(), result.stderr.strip(), result.returncode\n",
    "    except Exception as e:\n",
    "        return \"\", str(e), 1\n",
    "\n",
    "def check_command_exists(command):\n",
    "    \"\"\"Check if a command exists in the system PATH\"\"\"\n",
    "    return shutil.which(command) is not None\n",
    "\n",
    "def main():\n",
    "    print_header(\"SYSTEM INFORMATION\")\n",
    "    print(f\"Date and time: {datetime.now()}\")\n",
    "    print(f\"Python version: {sys.version}\")\n",
    "    print(f\"Python executable: {sys.executable}\")\n",
    "    print(f\"Platform: {platform.platform()}\")\n",
    "    print(f\"macOS version: {platform.mac_ver()[0]}\")\n",
    "    print(f\"Processor: {platform.processor()}\")\n",
    "    print(f\"Machine: {platform.machine()}\")\n",
    "\n",
    "    # Check if running on Apple Silicon or Intel\n",
    "    is_apple_silicon = platform.machine() == \"arm64\"\n",
    "    print(f\"Apple Silicon: {is_apple_silicon}\")\n",
    "\n",
    "    # Check if we're in a virtual environment\n",
    "    in_venv = sys.prefix != sys.base_prefix\n",
    "    print(f\"Running in virtual environment: {in_venv}\")\n",
    "\n",
    "    print_header(\"GPU AVAILABILITY\")\n",
    "\n",
    "    # Check for Metal (Apple's GPU framework)\n",
    "    metal_check, metal_err, _ = run_command(\"system_profiler SPDisplaysDataType\")\n",
    "    if \"Graphics\" in metal_check:\n",
    "        print(\"Metal Graphics Info:\")\n",
    "        for line in metal_check.split('\\n'):\n",
    "            if any(term in line for term in [\"Graphics\", \"VRAM\", \"Metal\", \"GPU\", \"Vendor\"]):\n",
    "                print(f\"  {line.strip()}\")\n",
    "    else:\n",
    "        print(\"Could not detect Metal graphics information\")\n",
    "\n",
    "    # PyTorch and CUDA Information\n",
    "    print_header(\"PYTORCH & GPU FRAMEWORKS\")\n",
    "    try:\n",
    "        import torch\n",
    "        print(f\"PyTorch version: {torch.__version__}\")\n",
    "\n",
    "        # Check if MPS (Metal Performance Shaders) is available for Apple Silicon\n",
    "        mps_available = hasattr(torch, 'mps') and hasattr(torch.mps, 'is_available')\n",
    "        if mps_available:\n",
    "            print(f\"MPS (Metal) available: {torch.mps.is_available()}\")\n",
    "            if torch.mps.is_available():\n",
    "                print(\"PyTorch can use Metal for GPU acceleration\")\n",
    "\n",
    "        # Check CUDA availability (less common on Mac but possible)\n",
    "        print(f\"CUDA available: {torch.cuda.is_available()}\")\n",
    "        if torch.cuda.is_available():\n",
    "            print(f\"CUDA version: {torch.version.cuda}\")\n",
    "            print(f\"Number of CUDA devices: {torch.cuda.device_count()}\")\n",
    "            for i in range(torch.cuda.device_count()):\n",
    "                print(f\"CUDA device {i}: {torch.cuda.get_device_name(i)}\")\n",
    "            print(f\"Current CUDA device: {torch.cuda.current_device()}\")\n",
    "    except ImportError:\n",
    "        print(\"PyTorch is not installed\")\n",
    "    except Exception as e:\n",
    "        print(f\"Error checking PyTorch configuration: {e}\")\n",
    "\n",
    "    # Graphein Installation Check\n",
    "    print_header(\"GRAPHEIN INSTALLATION\")\n",
    "    try:\n",
    "        import graphein\n",
    "        print(f\"Graphein version: {graphein.__version__}\")\n",
    "\n",
    "        # Import key graphein modules to verify they work\n",
    "        from graphein.protein.config import ProteinGraphConfig\n",
    "        from graphein.protein.graphs import construct_graph\n",
    "\n",
    "        print(\"Successfully imported key Graphein modules\")\n",
    "    except ImportError:\n",
    "        print(\"Graphein is not installed or there's an import error\")\n",
    "    except Exception as e:\n",
    "        print(f\"Error when importing Graphein: {e}\")\n",
    "\n",
    "    # Check Installed Packages\n",
    "    print_header(\"KEY PACKAGES\")\n",
    "    import pkg_resources\n",
    "\n",
    "    # Show key packages\n",
    "    key_packages = [\"graphein\", \"torch\", \"numpy\", \"pandas\", \"biopython\",\n",
    "                   \"networkx\", \"scipy\", \"biotite\", \"pyparsing\", \"requests\"]\n",
    "    for pkg in key_packages:\n",
    "        try:\n",
    "            version = pkg_resources.get_distribution(pkg).version\n",
    "            print(f\"{pkg}: {version}\")\n",
    "        except pkg_resources.DistributionNotFound:\n",
    "            print(f\"{pkg}: Not installed\")\n",
    "\n",
    "    # DSSP Availability Check\n",
    "    print_header(\"DSSP AVAILABILITY\")\n",
    "\n",
    "    # Check if DSSP is available through Homebrew or other installation\n",
    "    dssp_available = check_command_exists(\"dssp\")\n",
    "    print(f\"DSSP command available: {dssp_available}\")\n",
    "\n",
    "    # Check for mkdssp (newer name for DSSP)\n",
    "    mkdssp_available = check_command_exists(\"mkdssp\")\n",
    "    print(f\"mkdssp command available: {mkdssp_available}\")\n",
    "\n",
    "    # Try to locate DSSP\n",
    "    if dssp_available:\n",
    "        dssp_path, _, _ = run_command(\"which dssp\")\n",
    "        print(f\"DSSP located at: {dssp_path}\")\n",
    "\n",
    "        # Try to get DSSP version\n",
    "        dssp_version, dssp_err, _ = run_command(\"dssp --version\")\n",
    "        if dssp_version:\n",
    "            print(f\"DSSP version: {dssp_version}\")\n",
    "        else:\n",
    "            print(f\"Could not get DSSP version. Error: {dssp_err}\")\n",
    "\n",
    "    # Try to locate mkdssp\n",
    "    if mkdssp_available:\n",
    "        mkdssp_path, _, _ = run_command(\"which mkdssp\")\n",
    "        print(f\"mkdssp located at: {mkdssp_path}\")\n",
    "\n",
    "        # Try to get mkdssp version\n",
    "        mkdssp_version, mkdssp_err, _ = run_command(\"mkdssp --version\")\n",
    "        if mkdssp_version:\n",
    "            print(f\"mkdssp version: {mkdssp_version}\")\n",
    "        else:\n",
    "            print(f\"Could not get mkdssp version. Error: {mkdssp_err}\")\n",
    "\n",
    "    # Homebrew check (for DSSP installation if needed)\n",
    "    homebrew_exists = check_command_exists(\"brew\")\n",
    "    print(f\"Homebrew installed: {homebrew_exists}\")\n",
    "\n",
    "    if not dssp_available and not mkdssp_available:\n",
    "        print(\"\\nDSSP not found. To install with Homebrew, try: brew install brewsci/bio/dssp\")\n",
    "\n",
    "    # Check if environment variables are set for DSSP\n",
    "    dssp_env = os.environ.get(\"DSSP_PATH\", \"Not set\")\n",
    "    print(f\"DSSP_PATH environment variable: {dssp_env}\")\n",
    "\n",
    "    # Try to configure DSSP for Graphein if installed\n",
    "    if dssp_available or mkdssp_available:\n",
    "        print_header(\"GRAPHEIN DSSP CONFIGURATION\")\n",
    "\n",
    "        try:\n",
    "            # Import the correct DSSP function for Graphein\n",
    "            from graphein.protein.features.nodes.dssp import add_dssp_feature\n",
    "            print(\"Successfully imported DSSP feature from Graphein\")\n",
    "\n",
    "            # Set DSSP path if not already set\n",
    "            if dssp_available and dssp_path:\n",
    "                if \"DSSP_PATH\" not in os.environ:\n",
    "                    os.environ[\"DSSP_PATH\"] = dssp_path\n",
    "                    print(f\"Set DSSP_PATH to: {dssp_path}\")\n",
    "            elif mkdssp_available and mkdssp_path:\n",
    "                if \"DSSP_PATH\" not in os.environ:\n",
    "                    os.environ[\"DSSP_PATH\"] = mkdssp_path\n",
    "                    print(f\"Set DSSP_PATH to: {mkdssp_path}\")\n",
    "\n",
    "            # Example configuration to use DSSP\n",
    "            config = ProteinGraphConfig()\n",
    "            config.node_metadata_functions = [add_dssp_feature]\n",
    "            print(\"Successfully configured Graphein to use DSSP\")\n",
    "\n",
    "        except ImportError as e:\n",
    "            print(f\"Could not import DSSP feature from Graphein: {e}\")\n",
    "        except Exception as e:\n",
    "            print(f\"Error setting up DSSP: {e}\")\n",
    "\n",
    "    print_header(\"VERIFICATION TESTS\")\n",
    "\n",
    "    # Test if we can create a simple PyTorch tensor and move it to GPU if available\n",
    "    try:\n",
    "        import torch\n",
    "        print(\"Creating test PyTorch tensor...\")\n",
    "        test_tensor = torch.tensor([1.0, 2.0, 3.0])\n",
    "        print(f\"Default tensor device: {test_tensor.device}\")\n",
    "\n",
    "        # Test MPS if available\n",
    "        if hasattr(torch, 'mps') and torch.mps.is_available():\n",
    "            try:\n",
    "                mps_device = torch.device(\"mps\")\n",
    "                mps_tensor = test_tensor.to(mps_device)\n",
    "                print(f\"Successfully moved tensor to MPS device: {mps_tensor.device}\")\n",
    "            except Exception as e:\n",
    "                print(f\"Error moving tensor to MPS device: {e}\")\n",
    "\n",
    "        # Test CUDA if available\n",
    "        if torch.cuda.is_available():\n",
    "            try:\n",
    "                cuda_tensor = test_tensor.to(\"cuda\")\n",
    "                print(f\"Successfully moved tensor to CUDA device: {cuda_tensor.device}\")\n",
    "            except Exception as e:\n",
    "                print(f\"Error moving tensor to CUDA device: {e}\")\n",
    "    except ImportError:\n",
    "        print(\"PyTorch not available for testing\")\n",
    "    except Exception as e:\n",
    "        print(f\"Error testing PyTorch tensor operations: {e}\")\n",
    "\n",
    "    # Test simple PDB loading with Graphein if available\n",
    "    try:\n",
    "        from graphein.protein.config import ProteinGraphConfig\n",
    "        from graphein.protein.graphs import construct_graph\n",
    "        from graphein.protein.utils import download_pdb\n",
    "        import tempfile\n",
    "\n",
    "        print(\"\\nTesting PDB file download and parsing...\")\n",
    "        with tempfile.TemporaryDirectory() as tmpdir:\n",
    "            # Try to download a small test PDB file (1BDD - a small protein)\n",
    "            pdb_code = \"1BDD\"\n",
    "            pdb_path = os.path.join(tmpdir, f\"{pdb_code}.pdb\")\n",
    "\n",
    "            try:\n",
    "                download_success = download_pdb(pdb_code, out_dir=tmpdir)\n",
    "                if download_success:\n",
    "                    print(f\"Successfully downloaded PDB file for {pdb_code}\")\n",
    "\n",
    "                    # Create a minimal configuration\n",
    "                    config = ProteinGraphConfig()\n",
    "\n",
    "                    # Try to construct a graph\n",
    "                    try:\n",
    "                        graph = construct_graph(path=pdb_path, config=config)\n",
    "                        print(f\"Successfully constructed graph with {len(graph.nodes)} nodes and {len(graph.edges)} edges\")\n",
    "                    except Exception as e:\n",
    "                        print(f\"Error constructing graph: {e}\")\n",
    "                else:\n",
    "                    print(f\"Failed to download PDB file for {pdb_code}\")\n",
    "            except Exception as e:\n",
    "                print(f\"Error downloading PDB file: {e}\")\n",
    "    except ImportError:\n",
    "        print(\"Graphein not available for testing PDB parsing\")\n",
    "    except Exception as e:\n",
    "        print(f\"Error in PDB parsing test: {e}\")\n",
    "\n",
    "    print_header(\"RECOMMENDATIONS\")\n",
    "\n",
    "    if not dssp_available and not mkdssp_available:\n",
    "        print(\"- Install DSSP using: brew install brewsci/bio/dssp\")\n",
    "\n",
    "    if is_apple_silicon and not (hasattr(torch, 'mps') and torch.mps.is_available()):\n",
    "        print(\"- For Apple Silicon Macs, install PyTorch with MPS support:\")\n",
    "        print(\"  pip install --upgrade torch\")\n",
    "\n",
    "    if not is_apple_silicon and not torch.cuda.is_available():\n",
    "        print(\"- PyTorch CUDA support not detected.\")\n",
    "        print(\"  If you have an NVIDIA GPU, ensure CUDA toolkit and cuDNN are installed.\")\n",
    "\n",
    "    print(\"\\nCompleted environment diagnostics.\")\n",
    "\n",
    "if __name__ == \"__main__\":\n",
    "    main()"
   ],
   "id": "e46f57eba525c275",
   "outputs": [
    {
     "name": "stdout",
     "output_type": "stream",
     "text": [
      "\n",
      "================================================================================\n",
      "============================== SYSTEM INFORMATION ==============================\n",
      "================================================================================\n",
      "Date and time: 2025-03-26 11:24:42.932835\n",
      "Python version: 3.9.6 (default, Nov 11 2024, 03:15:38) \n",
      "[Clang 16.0.0 (clang-1600.0.26.6)]\n",
      "Python executable: /Users/alexchilton/PycharmProjects/final_try/.venv/bin/python\n",
      "Platform: macOS-15.3.2-arm64-arm-64bit\n",
      "macOS version: 15.3.2\n",
      "Processor: arm\n",
      "Machine: arm64\n",
      "Apple Silicon: True\n",
      "Running in virtual environment: True\n",
      "\n",
      "================================================================================\n",
      "=============================== GPU AVAILABILITY ===============================\n",
      "================================================================================\n",
      "Metal Graphics Info:\n",
      "  Graphics/Displays:\n",
      "  Type: GPU\n",
      "  Vendor: Apple (0x106b)\n",
      "  Metal Support: Metal 3\n",
      "\n",
      "================================================================================\n",
      "=========================== PYTORCH & GPU FRAMEWORKS ===========================\n",
      "================================================================================\n",
      "PyTorch version: 1.11.0\n",
      "CUDA available: False\n",
      "\n",
      "================================================================================\n",
      "============================ GRAPHEIN INSTALLATION =============================\n",
      "================================================================================\n",
      "Graphein version: 1.7.7\n"
     ]
    },
    {
     "name": "stderr",
     "output_type": "stream",
     "text": [
      "/Users/alexchilton/PycharmProjects/final_try/.venv/lib/python3.9/site-packages/urllib3/__init__.py:35: NotOpenSSLWarning: urllib3 v2 only supports OpenSSL 1.1.1+, currently the 'ssl' module is compiled with 'LibreSSL 2.8.3'. See: https://github.com/urllib3/urllib3/issues/3020\n",
      "  warnings.warn(\n"
     ]
    },
    {
     "name": "stdout",
     "output_type": "stream",
     "text": [
      "Successfully imported key Graphein modules\n",
      "\n",
      "================================================================================\n",
      "================================= KEY PACKAGES =================================\n",
      "================================================================================\n",
      "graphein: 1.7.7\n",
      "torch: 1.11.0\n",
      "numpy: 1.26.4\n",
      "pandas: 2.2.3\n",
      "biopython: 1.85\n",
      "networkx: 3.2.1\n",
      "scipy: 1.13.1\n",
      "biotite: Not installed\n",
      "pyparsing: 3.2.1\n",
      "requests: 2.32.3\n",
      "\n",
      "================================================================================\n",
      "============================== DSSP AVAILABILITY ===============================\n",
      "================================================================================\n",
      "DSSP command available: False\n",
      "mkdssp command available: True\n",
      "mkdssp located at: /opt/homebrew/bin/mkdssp\n",
      "mkdssp version: mkdssp version 4.4.10\n",
      "Homebrew installed: True\n",
      "DSSP_PATH environment variable: Not set\n",
      "\n",
      "================================================================================\n",
      "========================= GRAPHEIN DSSP CONFIGURATION ==========================\n",
      "================================================================================\n",
      "Successfully imported DSSP feature from Graphein\n",
      "Set DSSP_PATH to: /opt/homebrew/bin/mkdssp\n",
      "Successfully configured Graphein to use DSSP\n",
      "\n",
      "================================================================================\n",
      "============================== VERIFICATION TESTS ==============================\n",
      "================================================================================\n",
      "Creating test PyTorch tensor...\n",
      "Default tensor device: cpu\n",
      "\n",
      "Testing PDB file download and parsing...\n"
     ]
    },
    {
     "data": {
      "text/plain": [
       "Output()"
      ],
      "application/vnd.jupyter.widget-view+json": {
       "version_major": 2,
       "version_minor": 0,
       "model_id": "f0831627eb4d4145b6226d946de86d28"
      }
     },
     "metadata": {},
     "output_type": "display_data"
    },
    {
     "name": "stdout",
     "output_type": "stream",
     "text": [
      "Successfully downloaded PDB file for 1BDD\n"
     ]
    },
    {
     "data": {
      "text/plain": [],
      "text/html": [
       "<pre style=\"white-space:pre;overflow-x:auto;line-height:normal;font-family:Menlo,'DejaVu Sans Mono',consolas,'Courier New',monospace\"></pre>\n"
      ]
     },
     "metadata": {},
     "output_type": "display_data"
    },
    {
     "name": "stdout",
     "output_type": "stream",
     "text": [
      "Successfully constructed graph with 60 nodes and 59 edges\n",
      "\n",
      "================================================================================\n",
      "=============================== RECOMMENDATIONS ================================\n",
      "================================================================================\n",
      "- For Apple Silicon Macs, install PyTorch with MPS support:\n",
      "  pip install --upgrade torch\n",
      "\n",
      "Completed environment diagnostics.\n"
     ]
    }
   ],
   "execution_count": 3
  },
  {
   "metadata": {
    "ExecuteTime": {
     "end_time": "2025-03-25T16:43:15.003616Z",
     "start_time": "2025-03-25T16:43:15.002074Z"
    }
   },
   "cell_type": "code",
   "source": "",
   "id": "e770c5e4ebd0d66f",
   "outputs": [],
   "execution_count": null
  },
  {
   "metadata": {
    "ExecuteTime": {
     "end_time": "2025-03-25T16:43:15.028939Z",
     "start_time": "2025-03-25T16:43:15.027408Z"
    }
   },
   "cell_type": "code",
   "source": "",
   "id": "fa0f56c57246d4b4",
   "outputs": [],
   "execution_count": null
  },
  {
   "metadata": {
    "ExecuteTime": {
     "end_time": "2025-03-25T16:43:15.072888Z",
     "start_time": "2025-03-25T16:43:15.068898Z"
    }
   },
   "cell_type": "code",
   "source": "",
   "id": "e516d6ea0eaea99f",
   "outputs": [],
   "execution_count": null
  },
  {
   "metadata": {
    "ExecuteTime": {
     "end_time": "2025-03-25T16:43:17.423274Z",
     "start_time": "2025-03-25T16:43:15.113115Z"
    }
   },
   "cell_type": "code",
   "source": [
    "import os\n",
    "from graphein.protein.config import ProteinGraphConfig, DSSPConfig\n",
    "from graphein.protein.graphs import construct_graph\n",
    "from graphein.protein.features.nodes.dssp import add_dssp_df\n",
    "from graphein.protein.utils import download_pdb\n",
    "\n",
    "# Set DSSP path environment variable\n",
    "os.environ[\"DSSP_PATH\"] = \"/opt/homebrew/bin/mkdssp\"\n",
    "print(f\"DSSP_PATH set to: {os.environ['DSSP_PATH']}\")\n",
    "\n",
    "# Create a DSSP config with no parameters\n",
    "dssp_config = DSSPConfig()\n",
    "print(\"Created DSSPConfig object\")\n",
    "\n",
    "# Download the PDB file\n",
    "pdb_code = \"1BDD\"\n",
    "pdb_path = download_pdb(pdb_code, out_dir=\"./\")\n",
    "print(f\"Downloaded PDB file to {pdb_path}\")\n",
    "\n",
    "# Create basic protein graph config\n",
    "config = ProteinGraphConfig()\n",
    "# Attach DSSP config to graph config\n",
    "config.dssp_config = dssp_config\n",
    "print(\"Created protein graph config with DSSP config\")\n",
    "\n",
    "# Construct the graph\n",
    "print(\"Constructing graph...\")\n",
    "graph = construct_graph(path=pdb_path, config=config)\n",
    "print(f\"Graph contains {len(graph.nodes)} nodes and {len(graph.edges)} edges\")\n",
    "\n",
    "# Try to add DSSP dataframe\n",
    "print(\"Adding DSSP dataframe...\")\n",
    "try:\n",
    "    graph = add_dssp_df(graph, dssp_config=dssp_config)\n",
    "    print(\"DSSP dataframe successfully added\")\n",
    "\n",
    "    # Check for DSSP dataframe in graph\n",
    "    if \"dssp_df\" in graph.graph:\n",
    "        print(\"Success: DSSP dataframe is in the graph\")\n",
    "    else:\n",
    "        print(\"Warning: DSSP dataframe not found in graph\")\n",
    "except Exception as e:\n",
    "    print(f\"Error adding DSSP dataframe: {str(e)}\")\n",
    "\n",
    "# Print available node attributes\n",
    "sample_node = list(graph.nodes)[0]\n",
    "print(f\"\\nSample node: {sample_node}\")\n",
    "print(\"Available attributes:\")\n",
    "for key in graph.nodes[sample_node]:\n",
    "    print(f\"- {key}\")"
   ],
   "id": "3f1cef72f99e95ef",
   "outputs": [
    {
     "data": {
      "text/plain": [
       "Output()"
      ],
      "application/vnd.jupyter.widget-view+json": {
       "version_major": 2,
       "version_minor": 0,
       "model_id": "70a77b77cb1f4669be7ed3f98a6eb627"
      }
     },
     "metadata": {},
     "output_type": "display_data"
    },
    {
     "name": "stdout",
     "output_type": "stream",
     "text": [
      "DSSP_PATH set to: /opt/homebrew/bin/mkdssp\n",
      "Created DSSPConfig object\n",
      "Downloaded PDB file to 1bdd.pdb\n",
      "Created protein graph config with DSSP config\n",
      "Constructing graph...\n"
     ]
    },
    {
     "data": {
      "text/plain": [],
      "text/html": [
       "<pre style=\"white-space:pre;overflow-x:auto;line-height:normal;font-family:Menlo,'DejaVu Sans Mono',consolas,'Courier New',monospace\"></pre>\n"
      ]
     },
     "metadata": {},
     "output_type": "display_data"
    },
    {
     "name": "stdout",
     "output_type": "stream",
     "text": [
      "Graph contains 60 nodes and 59 edges\n",
      "Adding DSSP dataframe...\n",
      "DSSP dataframe successfully added\n",
      "Success: DSSP dataframe is in the graph\n",
      "\n",
      "Sample node: A:THR:1\n",
      "Available attributes:\n",
      "- chain_id\n",
      "- residue_name\n",
      "- residue_number\n",
      "- atom_type\n",
      "- element_symbol\n",
      "- coords\n",
      "- b_factor\n",
      "- meiler\n"
     ]
    }
   ],
   "execution_count": 4
  },
  {
   "metadata": {
    "ExecuteTime": {
     "end_time": "2025-03-25T16:43:17.441823Z",
     "start_time": "2025-03-25T16:43:17.439389Z"
    }
   },
   "cell_type": "code",
   "source": "",
   "id": "4fe9f924d7b6ebf",
   "outputs": [],
   "execution_count": null
  },
  {
   "metadata": {
    "ExecuteTime": {
     "end_time": "2025-03-25T16:43:19.334944Z",
     "start_time": "2025-03-25T16:43:17.512954Z"
    }
   },
   "cell_type": "code",
   "source": [
    "import os\n",
    "import pandas as pd\n",
    "from graphein.protein.config import ProteinGraphConfig, DSSPConfig\n",
    "from graphein.protein.graphs import construct_graph\n",
    "from graphein.protein.features.nodes.dssp import add_dssp_df\n",
    "from graphein.protein.utils import download_pdb\n",
    "\n",
    "def add_secondary_structure_to_nodes(graph):\n",
    "    \"\"\"\n",
    "    Extract secondary structure from DSSP dataframe and add to nodes.\n",
    "    This is the bare minimum to test DSSP functionality.\n",
    "    \"\"\"\n",
    "    # Check if DSSP dataframe exists\n",
    "    if \"dssp_df\" not in graph.graph:\n",
    "        print(\"No DSSP dataframe found in graph\")\n",
    "        return graph\n",
    "\n",
    "    # Get the DSSP dataframe\n",
    "    dssp_df = graph.graph[\"dssp_df\"]\n",
    "\n",
    "    # Check if secondary structure column exists\n",
    "    if \"ss\" not in dssp_df.columns:\n",
    "        print(f\"No 'ss' column found in DSSP dataframe. Available columns: {dssp_df.columns}\")\n",
    "        return graph\n",
    "\n",
    "    # Count how many nodes were updated\n",
    "    updated_count = 0\n",
    "\n",
    "    # Add secondary structure to each node\n",
    "    for node, data in graph.nodes(data=True):\n",
    "        # Extract chain and residue info from node ID\n",
    "        parts = str(node).split(':')\n",
    "        if len(parts) >= 3:\n",
    "            chain = parts[0]\n",
    "            residue_num = parts[2]\n",
    "\n",
    "            # Try to find matching row in DSSP dataframe\n",
    "            try:\n",
    "                # Different versions of Graphein might have different column names\n",
    "                if 'chain_id' in dssp_df.columns and 'residue_number' in dssp_df.columns:\n",
    "                    mask = (dssp_df['chain_id'] == chain) & (dssp_df['residue_number'] == int(residue_num))\n",
    "                elif 'chain' in dssp_df.columns and 'resnum' in dssp_df.columns:\n",
    "                    mask = (dssp_df['chain'] == chain) & (dssp_df['resnum'] == int(residue_num))\n",
    "                else:\n",
    "                    # Try to guess based on available columns\n",
    "                    chain_col = next((col for col in dssp_df.columns if 'chain' in col.lower()), None)\n",
    "                    res_col = next((col for col in dssp_df.columns if 'res' in col.lower() and 'num' in col.lower()), None)\n",
    "\n",
    "                    if chain_col and res_col:\n",
    "                        mask = (dssp_df[chain_col] == chain) & (dssp_df[res_col] == int(residue_num))\n",
    "                    else:\n",
    "                        continue\n",
    "\n",
    "                # If we found a matching row, add the SS value\n",
    "                matching_rows = dssp_df[mask]\n",
    "                if not matching_rows.empty:\n",
    "                    data['ss_value'] = matching_rows['ss'].values[0]\n",
    "                    updated_count += 1\n",
    "            except (ValueError, KeyError) as e:\n",
    "                # Skip this node if there are issues\n",
    "                continue\n",
    "\n",
    "    print(f\"Added secondary structure to {updated_count} out of {len(graph.nodes)} nodes\")\n",
    "    return graph\n",
    "\n",
    "# Main function to test everything\n",
    "def test_dssp_minimal():\n",
    "    # Set DSSP path\n",
    "    os.environ[\"DSSP_PATH\"] = \"/opt/homebrew/bin/mkdssp\"\n",
    "\n",
    "    # Download PDB and create graph\n",
    "    pdb_code = \"1BDD\"\n",
    "    pdb_path = download_pdb(pdb_code, out_dir=\"./\")\n",
    "\n",
    "    # Configure graph with DSSP\n",
    "    config = ProteinGraphConfig()\n",
    "    config.dssp_config = DSSPConfig()\n",
    "\n",
    "    # Construct graph\n",
    "    graph = construct_graph(path=pdb_path, config=config)\n",
    "\n",
    "    # Add DSSP dataframe\n",
    "    graph = add_dssp_df(graph, dssp_config=config.dssp_config)\n",
    "\n",
    "    # Add secondary structure to nodes\n",
    "    graph = add_secondary_structure_to_nodes(graph)\n",
    "\n",
    "    # Check results\n",
    "    has_ss = any('ss_value' in graph.nodes[node] for node in graph.nodes)\n",
    "    print(f\"Secondary structure found in nodes: {'Yes' if has_ss else 'No'}\")\n",
    "\n",
    "    if has_ss:\n",
    "        # Get a node with secondary structure\n",
    "        ss_node = next((node for node in graph.nodes if 'ss_value' in graph.nodes[node]), None)\n",
    "        if ss_node:\n",
    "            print(f\"Example node {ss_node} has secondary structure: {graph.nodes[ss_node]['ss_value']}\")\n",
    "\n",
    "            # Count by secondary structure type\n",
    "            ss_types = {}\n",
    "            for node in graph.nodes:\n",
    "                if 'ss_value' in graph.nodes[node]:\n",
    "                    ss = graph.nodes[node]['ss_value']\n",
    "                    ss_types[ss] = ss_types.get(ss, 0) + 1\n",
    "\n",
    "            print(\"Secondary structure distribution:\")\n",
    "            for ss, count in ss_types.items():\n",
    "                print(f\"  {ss}: {count} residues\")\n",
    "\n",
    "    return graph\n",
    "\n",
    "# Run the test\n",
    "result = test_dssp_minimal()"
   ],
   "id": "3d35dc042a61c69c",
   "outputs": [
    {
     "data": {
      "text/plain": [
       "Output()"
      ],
      "application/vnd.jupyter.widget-view+json": {
       "version_major": 2,
       "version_minor": 0,
       "model_id": "7a3c081dd4a447c18941470be30e1dbb"
      }
     },
     "metadata": {},
     "output_type": "display_data"
    },
    {
     "data": {
      "text/plain": [],
      "text/html": [
       "<pre style=\"white-space:pre;overflow-x:auto;line-height:normal;font-family:Menlo,'DejaVu Sans Mono',consolas,'Courier New',monospace\"></pre>\n"
      ]
     },
     "metadata": {},
     "output_type": "display_data"
    },
    {
     "name": "stdout",
     "output_type": "stream",
     "text": [
      "Added secondary structure to 60 out of 60 nodes\n",
      "Secondary structure found in nodes: Yes\n",
      "Example node A:THR:1 has secondary structure: -\n",
      "Secondary structure distribution:\n",
      "  -: 12 residues\n",
      "  S: 6 residues\n",
      "  H: 36 residues\n",
      "  T: 6 residues\n"
     ]
    }
   ],
   "execution_count": 5
  },
  {
   "metadata": {
    "ExecuteTime": {
     "end_time": "2025-03-25T16:43:21.952820Z",
     "start_time": "2025-03-25T16:43:19.354646Z"
    }
   },
   "cell_type": "code",
   "source": [
    "import os\n",
    "import numpy as np\n",
    "import pandas as pd\n",
    "import matplotlib.pyplot as plt\n",
    "import networkx as nx\n",
    "from graphein.protein.config import ProteinGraphConfig, DSSPConfig\n",
    "from graphein.protein.graphs import construct_graph\n",
    "from graphein.protein.features.nodes.dssp import add_dssp_df\n",
    "from graphein.protein.utils import download_pdb\n",
    "\n",
    "def add_all_dssp_features_to_nodes(graph):\n",
    "    \"\"\"\n",
    "    Extract all available DSSP features from the dataframe and add them to nodes.\n",
    "    \"\"\"\n",
    "    if \"dssp_df\" not in graph.graph:\n",
    "        print(\"No DSSP dataframe found in graph\")\n",
    "        return graph\n",
    "\n",
    "    # Get the DSSP dataframe\n",
    "    dssp_df = graph.graph[\"dssp_df\"]\n",
    "\n",
    "    # Print available columns in DSSP dataframe\n",
    "    print(f\"Available DSSP features: {list(dssp_df.columns)}\")\n",
    "\n",
    "    # Map of common DSSP column names and their descriptions\n",
    "    dssp_features = {\n",
    "        'ss': 'Secondary structure (ss_value)',\n",
    "        'aa': 'Amino acid (dssp_aa)',\n",
    "        'acc': 'Absolute solvent accessibility (acc)',\n",
    "        'phi': 'Phi angle (phi)',\n",
    "        'psi': 'Psi angle (psi)',\n",
    "        'dssp_index': 'DSSP residue index (dssp_index)',\n",
    "        'NH_O_1_relidx': 'First NH-O hydrogen bond relative index (nh_o1_relidx)',\n",
    "        'NH_O_1_energy': 'First NH-O hydrogen bond energy (nh_o1_energy)',\n",
    "        'O_NH_1_relidx': 'First O-NH hydrogen bond relative index (o_nh1_relidx)',\n",
    "        'O_NH_1_energy': 'First O-NH hydrogen bond energy (o_nh1_energy)',\n",
    "        'NH_O_2_relidx': 'Second NH-O hydrogen bond relative index (nh_o2_relidx)',\n",
    "        'NH_O_2_energy': 'Second NH-O hydrogen bond energy (nh_o2_energy)',\n",
    "        'O_NH_2_relidx': 'Second O-NH hydrogen bond relative index (o_nh2_relidx)',\n",
    "        'O_NH_2_energy': 'Second O-NH hydrogen bond energy (o_nh2_energy)',\n",
    "    }\n",
    "\n",
    "    # Variation in column naming across different versions\n",
    "    alt_column_names = {\n",
    "        'ss': ['ss', 'SS', 'sec_struc'],\n",
    "        'aa': ['aa', 'AA', 'amino_acid'],\n",
    "        'acc': ['acc', 'ACC', 'accessibility'],\n",
    "        'phi': ['phi', 'PHI'],\n",
    "        'psi': ['psi', 'PSI'],\n",
    "        'dssp_index': ['dssp_index', 'id'],\n",
    "        'NH_O_1_relidx': ['NH_O_1_relidx', 'NH-O_1_relidx', 'NH_O_1_ridx'],\n",
    "        'NH_O_1_energy': ['NH_O_1_energy', 'NH-O_1_energy'],\n",
    "        'O_NH_1_relidx': ['O_NH_1_relidx', 'O-NH_1_relidx', 'O_NH_1_ridx'],\n",
    "        'O_NH_1_energy': ['O_NH_1_energy', 'O-NH_1_energy'],\n",
    "        'NH_O_2_relidx': ['NH_O_2_relidx', 'NH-O_2_relidx', 'NH_O_2_ridx'],\n",
    "        'NH_O_2_energy': ['NH_O_2_energy', 'NH-O_2_energy'],\n",
    "        'O_NH_2_relidx': ['O_NH_2_relidx', 'O-NH_2_relidx', 'O_NH_2_ridx'],\n",
    "        'O_NH_2_energy': ['O_NH_2_energy', 'O-NH_2_energy'],\n",
    "    }\n",
    "\n",
    "    # Find the actual column names in the dataframe\n",
    "    actual_columns = {}\n",
    "    for feature, alternatives in alt_column_names.items():\n",
    "        for alt in alternatives:\n",
    "            if alt in dssp_df.columns:\n",
    "                actual_columns[feature] = alt\n",
    "                break\n",
    "\n",
    "    print(f\"Found {len(actual_columns)} DSSP features in the dataframe\")\n",
    "\n",
    "    # Track how many nodes were updated\n",
    "    updated_nodes = 0\n",
    "    features_added = set()\n",
    "\n",
    "    # Different versions of Graphein might have different column names for chain & residue\n",
    "    # Try to identify the correct column names\n",
    "    chain_col = next((c for c in dssp_df.columns if 'chain' in c.lower()), None)\n",
    "    res_num_col = next((c for c in dssp_df.columns if 'res' in c.lower() and 'num' in c.lower()), None)\n",
    "\n",
    "    if not chain_col or not res_num_col:\n",
    "        print(f\"Could not identify chain and residue number columns in DSSP dataframe\")\n",
    "        print(f\"Available columns: {dssp_df.columns}\")\n",
    "        return graph\n",
    "\n",
    "    print(f\"Using '{chain_col}' for chain ID and '{res_num_col}' for residue number\")\n",
    "\n",
    "    # Add features to each node\n",
    "    for node, data in graph.nodes(data=True):\n",
    "        # Extract chain and residue info from node ID\n",
    "        parts = str(node).split(':')\n",
    "        if len(parts) < 3:\n",
    "            continue\n",
    "\n",
    "        chain = parts[0]\n",
    "        residue_num = parts[2]\n",
    "\n",
    "        try:\n",
    "            # Find matching row in DSSP dataframe\n",
    "            mask = (dssp_df[chain_col] == chain) & (dssp_df[res_num_col] == int(residue_num))\n",
    "            matching_rows = dssp_df[mask]\n",
    "\n",
    "            if matching_rows.empty:\n",
    "                continue\n",
    "\n",
    "            # Add all available features to the node\n",
    "            for feature, col_name in actual_columns.items():\n",
    "                # Get the node attribute name from feature descriptions\n",
    "                node_attr = dssp_features[feature].split('(')[1].split(')')[0] if '(' in dssp_features[feature] else feature\n",
    "\n",
    "                # Add the feature to the node\n",
    "                if col_name in matching_rows.columns:\n",
    "                    data[node_attr] = matching_rows[col_name].values[0]\n",
    "                    features_added.add(node_attr)\n",
    "\n",
    "            updated_nodes += 1\n",
    "\n",
    "        except (ValueError, KeyError) as e:\n",
    "            # Skip this node if there are issues\n",
    "            continue\n",
    "\n",
    "    print(f\"Updated {updated_nodes} out of {len(graph.nodes)} nodes\")\n",
    "    print(f\"Added the following features to nodes: {sorted(list(features_added))}\")\n",
    "\n",
    "    return graph\n",
    "\n",
    "def visualize_protein_structure(graph, feature='ss_value', title='Protein Structure Visualization', figsize=(12, 10)):\n",
    "    \"\"\"\n",
    "    Visualize the protein structure with nodes colored by a selected DSSP feature.\n",
    "    \"\"\"\n",
    "    # Check if the feature exists in the graph\n",
    "    has_feature = any(feature in graph.nodes[node] for node in graph.nodes)\n",
    "    if not has_feature:\n",
    "        print(f\"Feature '{feature}' not found in graph nodes\")\n",
    "        return\n",
    "\n",
    "    # Create a subgraph for visualization (limit to first 100 nodes for clarity)\n",
    "    node_list = list(graph.nodes)[:100]\n",
    "    subgraph = graph.subgraph(node_list)\n",
    "\n",
    "    # Setup colors for secondary structure\n",
    "    if feature == 'ss_value':\n",
    "        # Define colors for each secondary structure type\n",
    "        ss_colors = {\n",
    "            'H': 'red',       # Alpha helix\n",
    "            'B': 'yellow',    # Beta bridge\n",
    "            'E': 'yellow',    # Extended strand\n",
    "            'G': 'orange',    # 3-10 helix\n",
    "            'I': 'pink',      # Pi helix\n",
    "            'T': 'green',     # Turn\n",
    "            'S': 'cyan',      # Bend\n",
    "            ' ': 'grey',      # Loop/irregular\n",
    "        }\n",
    "\n",
    "        # Assign colors to nodes\n",
    "        node_colors = []\n",
    "        for node in subgraph.nodes:\n",
    "            if feature in subgraph.nodes[node]:\n",
    "                node_colors.append(ss_colors.get(subgraph.nodes[node][feature], 'black'))\n",
    "            else:\n",
    "                node_colors.append('black')\n",
    "\n",
    "        # Create a legend\n",
    "        legend_elements = [plt.Line2D([0], [0], marker='o', color='w',\n",
    "                                      markerfacecolor=color, markersize=10, label=struct)\n",
    "                           for struct, color in ss_colors.items() if any(subgraph.nodes[node].get(feature) == struct for node in subgraph.nodes)]\n",
    "    else:\n",
    "        # For numerical features, use a colormap\n",
    "        values = [subgraph.nodes[node].get(feature, np.nan) for node in subgraph.nodes]\n",
    "        if all(isinstance(v, (int, float)) for v in values if v is not np.nan):\n",
    "            # Use a colormap for numerical values\n",
    "            node_colors = values\n",
    "            cmap = plt.cm.viridis\n",
    "            vmin, vmax = np.nanmin(values), np.nanmax(values)\n",
    "            legend_elements = None\n",
    "        else:\n",
    "            # For categorical features, assign unique colors\n",
    "            unique_values = set(v for v in values if v is not np.nan)\n",
    "            value_colors = {val: plt.cm.tab10(i/10) for i, val in enumerate(unique_values)}\n",
    "            node_colors = [value_colors.get(val, (0,0,0,1)) for val in values]\n",
    "            legend_elements = [plt.Line2D([0], [0], marker='o', color='w',\n",
    "                                          markerfacecolor=color, markersize=10, label=val)\n",
    "                               for val, color in value_colors.items()]\n",
    "\n",
    "    # Create the figure\n",
    "    plt.figure(figsize=figsize)\n",
    "\n",
    "    # Compute node positions (use spring layout for better visualization)\n",
    "    pos = nx.spring_layout(subgraph, seed=42)\n",
    "\n",
    "    # Draw the graph\n",
    "    nx.draw(subgraph, pos,\n",
    "            node_color=node_colors,\n",
    "            with_labels=True,\n",
    "            node_size=500,\n",
    "            font_size=8,\n",
    "            font_weight='bold',\n",
    "            edge_color='gray',\n",
    "            width=0.5)\n",
    "\n",
    "    # Add a title\n",
    "    plt.title(f\"{title} - colored by {feature}\")\n",
    "\n",
    "    # Add a legend if applicable\n",
    "    if legend_elements:\n",
    "        plt.legend(handles=legend_elements, loc='upper left', bbox_to_anchor=(1, 1))\n",
    "\n",
    "    plt.tight_layout()\n",
    "    plt.show()\n",
    "\n",
    "def analyze_secondary_structure(graph):\n",
    "    \"\"\"\n",
    "    Analyze the secondary structure composition of the protein.\n",
    "    \"\"\"\n",
    "    # Check if secondary structure is available\n",
    "    has_ss = any('ss_value' in graph.nodes[node] for node in graph.nodes)\n",
    "    if not has_ss:\n",
    "        print(\"No secondary structure information found in the graph\")\n",
    "        return\n",
    "\n",
    "    # Collect secondary structure information\n",
    "    ss_values = []\n",
    "    for node in graph.nodes:\n",
    "        if 'ss_value' in graph.nodes[node]:\n",
    "            ss_values.append(graph.nodes[node]['ss_value'])\n",
    "\n",
    "    # Count occurrences of each secondary structure type\n",
    "    ss_counts = {}\n",
    "    for ss in ss_values:\n",
    "        ss_counts[ss] = ss_counts.get(ss, 0) + 1\n",
    "\n",
    "    # Define secondary structure meanings\n",
    "    ss_meaning = {\n",
    "        'H': 'Alpha helix',\n",
    "        'B': 'Beta bridge',\n",
    "        'E': 'Extended strand',\n",
    "        'G': '3-10 helix',\n",
    "        'I': 'Pi helix',\n",
    "        'T': 'Turn',\n",
    "        'S': 'Bend',\n",
    "        ' ': 'Loop/irregular'\n",
    "    }\n",
    "\n",
    "    # Print distribution\n",
    "    print(\"Secondary Structure Distribution:\")\n",
    "    for ss, count in sorted(ss_counts.items()):\n",
    "        percentage = (count / len(ss_values)) * 100\n",
    "        meaning = ss_meaning.get(ss, 'Unknown')\n",
    "        print(f\"{ss} ({meaning}): {count} residues ({percentage:.1f}%)\")\n",
    "\n",
    "    # Create a pie chart\n",
    "    plt.figure(figsize=(10, 7))\n",
    "    labels = [f\"{ss} - {ss_meaning.get(ss, 'Unknown')}\" for ss in ss_counts.keys()]\n",
    "    sizes = list(ss_counts.values())\n",
    "    colors = ['red', 'yellow', 'orange', 'green', 'blue', 'purple', 'cyan', 'grey'][:len(ss_counts)]\n",
    "\n",
    "    plt.pie(sizes, labels=labels, colors=colors, autopct='%1.1f%%', startangle=140)\n",
    "    plt.axis('equal')\n",
    "    plt.title('Secondary Structure Composition')\n",
    "    plt.tight_layout()\n",
    "    plt.show()\n",
    "\n",
    "def analyze_ramachandran(graph):\n",
    "    \"\"\"\n",
    "    Create a Ramachandran plot using phi/psi angles from DSSP.\n",
    "    \"\"\"\n",
    "    # Check if phi/psi angles are available\n",
    "    has_angles = any('phi' in graph.nodes[node] and 'psi' in graph.nodes[node] for node in graph.nodes)\n",
    "    if not has_angles:\n",
    "        print(\"No phi/psi angle information found in the graph\")\n",
    "        return\n",
    "\n",
    "    # Collect phi/psi angles and secondary structure\n",
    "    phi_values = []\n",
    "    psi_values = []\n",
    "    ss_values = []\n",
    "\n",
    "    for node in graph.nodes:\n",
    "        if 'phi' in graph.nodes[node] and 'psi' in graph.nodes[node]:\n",
    "            phi = graph.nodes[node]['phi']\n",
    "            psi = graph.nodes[node]['psi']\n",
    "\n",
    "            # Skip if angles are not numeric\n",
    "            if not isinstance(phi, (int, float)) or not isinstance(psi, (int, float)):\n",
    "                continue\n",
    "\n",
    "            phi_values.append(phi)\n",
    "            psi_values.append(psi)\n",
    "\n",
    "            # Add secondary structure if available\n",
    "            if 'ss_value' in graph.nodes[node]:\n",
    "                ss_values.append(graph.nodes[node]['ss_value'])\n",
    "            else:\n",
    "                ss_values.append(None)\n",
    "\n",
    "    # Create a Ramachandran plot\n",
    "    plt.figure(figsize=(10, 8))\n",
    "\n",
    "    # If we have secondary structure, color by type\n",
    "    if ss_values and any(ss is not None for ss in ss_values):\n",
    "        # Define colors for each secondary structure type\n",
    "        ss_colors = {\n",
    "            'H': 'red',       # Alpha helix\n",
    "            'B': 'yellow',    # Beta bridge\n",
    "            'E': 'orange',    # Extended strand\n",
    "            'G': 'green',     # 3-10 helix\n",
    "            'I': 'pink',      # Pi helix\n",
    "            'T': 'cyan',      # Turn\n",
    "            'S': 'blue',      # Bend\n",
    "            ' ': 'grey',      # Loop/irregular\n",
    "            None: 'black'     # Unknown\n",
    "        }\n",
    "\n",
    "        # Create scatter plot with colored points\n",
    "        for ss_type in set(ss_values):\n",
    "            indices = [i for i, ss in enumerate(ss_values) if ss == ss_type]\n",
    "            if indices:\n",
    "                plt.scatter(\n",
    "                    [phi_values[i] for i in indices],\n",
    "                    [psi_values[i] for i in indices],\n",
    "                    c=ss_colors.get(ss_type, 'black'),\n",
    "                    label=f\"{ss_type}\" if ss_type else \"Unknown\",\n",
    "                    alpha=0.7,\n",
    "                    s=50\n",
    "                )\n",
    "    else:\n",
    "        # Simple scatter plot without coloring\n",
    "        plt.scatter(phi_values, psi_values, c='blue', alpha=0.5)\n",
    "\n",
    "    # Add grid lines and labels\n",
    "    plt.grid(True, linestyle='--', alpha=0.7)\n",
    "    plt.xlabel('Phi (°)')\n",
    "    plt.ylabel('Psi (°)')\n",
    "    plt.title('Ramachandran Plot')\n",
    "\n",
    "    # Set limits to show relevant angles\n",
    "    plt.xlim(-180, 180)\n",
    "    plt.ylim(-180, 180)\n",
    "\n",
    "    # Add legend if we have secondary structure information\n",
    "    if ss_values and any(ss is not None for ss in ss_values):\n",
    "        plt.legend(title=\"Secondary Structure\")\n",
    "\n",
    "    plt.tight_layout()\n",
    "    plt.show()\n",
    "\n",
    "def analyze_solvent_accessibility(graph):\n",
    "    \"\"\"\n",
    "    Analyze solvent accessibility from DSSP data.\n",
    "    \"\"\"\n",
    "    # Check if accessibility data is available\n",
    "    has_acc = any('acc' in graph.nodes[node] for node in graph.nodes)\n",
    "    if not has_acc:\n",
    "        print(\"No solvent accessibility information found in the graph\")\n",
    "        return\n",
    "\n",
    "    # Collect accessibility values\n",
    "    acc_values = []\n",
    "    residue_names = []\n",
    "\n",
    "    for node in graph.nodes:\n",
    "        if 'acc' in graph.nodes[node]:\n",
    "            acc = graph.nodes[node]['acc']\n",
    "            # Skip if not numeric\n",
    "            if not isinstance(acc, (int, float)):\n",
    "                continue\n",
    "\n",
    "            acc_values.append(acc)\n",
    "            # Get residue name if available\n",
    "            if 'residue_name' in graph.nodes[node]:\n",
    "                residue_names.append(graph.nodes[node]['residue_name'])\n",
    "            else:\n",
    "                residue_names.append('Unknown')\n",
    "\n",
    "    # Create histogram of accessibility values\n",
    "    plt.figure(figsize=(10, 6))\n",
    "    plt.hist(acc_values, bins=20, color='skyblue', edgecolor='black')\n",
    "    plt.xlabel('Solvent Accessibility')\n",
    "    plt.ylabel('Frequency')\n",
    "    plt.title('Distribution of Solvent Accessibility')\n",
    "    plt.grid(True, linestyle='--', alpha=0.7)\n",
    "    plt.tight_layout()\n",
    "    plt.show()\n",
    "\n",
    "    # If we have enough data, show accessibility by residue type\n",
    "    if residue_names and len(set(residue_names)) > 1:\n",
    "        # Group accessibility by residue type\n",
    "        residue_acc = {}\n",
    "        for res, acc in zip(residue_names, acc_values):\n",
    "            if res not in residue_acc:\n",
    "                residue_acc[res] = []\n",
    "            residue_acc[res].append(acc)\n",
    "\n",
    "        # Calculate average accessibility for each residue type\n",
    "        avg_acc = {res: sum(accs)/len(accs) for res, accs in residue_acc.items() if accs}\n",
    "\n",
    "        # Sort residues by average accessibility\n",
    "        sorted_residues = sorted(avg_acc.items(), key=lambda x: x[1], reverse=True)\n",
    "\n",
    "        # Create bar chart\n",
    "        plt.figure(figsize=(12, 6))\n",
    "        residues = [r[0] for r in sorted_residues]\n",
    "        acc_avgs = [r[1] for r in sorted_residues]\n",
    "\n",
    "        bars = plt.bar(residues, acc_avgs, color='lightblue', edgecolor='black')\n",
    "\n",
    "        # Customize the plot\n",
    "        plt.xlabel('Residue Type')\n",
    "        plt.ylabel('Average Solvent Accessibility')\n",
    "        plt.title('Average Solvent Accessibility by Residue Type')\n",
    "        plt.xticks(rotation=45, ha='right')\n",
    "        plt.grid(True, axis='y', linestyle='--', alpha=0.7)\n",
    "        plt.tight_layout()\n",
    "        plt.show()\n",
    "\n",
    "def analyze_hydrogen_bonds(graph):\n",
    "    \"\"\"\n",
    "    Analyze hydrogen bonding patterns from DSSP data.\n",
    "    \"\"\"\n",
    "    # Check if hydrogen bond data is available\n",
    "    has_hbonds = any('nh_o1_energy' in graph.nodes[node] for node in graph.nodes)\n",
    "    if not has_hbonds:\n",
    "        print(\"No hydrogen bond information found in the graph\")\n",
    "        return\n",
    "\n",
    "    # Collect hydrogen bond energies\n",
    "    hbond_energies = []\n",
    "\n",
    "    for node in graph.nodes:\n",
    "        for hb_feature in ['nh_o1_energy', 'o_nh1_energy', 'nh_o2_energy', 'o_nh2_energy']:\n",
    "            if hb_feature in graph.nodes[node]:\n",
    "                energy = graph.nodes[node][hb_feature]\n",
    "                # Skip if not numeric or zero\n",
    "                if not isinstance(energy, (int, float)) or energy == 0:\n",
    "                    continue\n",
    "                hbond_energies.append(energy)\n",
    "\n",
    "    if not hbond_energies:\n",
    "        print(\"No valid hydrogen bond energies found\")\n",
    "        return\n",
    "\n",
    "    # Create histogram of hydrogen bond energies\n",
    "    plt.figure(figsize=(10, 6))\n",
    "    plt.hist(hbond_energies, bins=20, color='lightgreen', edgecolor='black')\n",
    "    plt.xlabel('Hydrogen Bond Energy')\n",
    "    plt.ylabel('Frequency')\n",
    "    plt.title('Distribution of Hydrogen Bond Energies')\n",
    "    plt.grid(True, linestyle='--', alpha=0.7)\n",
    "    plt.tight_layout()\n",
    "    plt.show()\n",
    "\n",
    "    # Basic statistics\n",
    "    print(f\"Hydrogen Bond Statistics:\")\n",
    "    print(f\"Number of hydrogen bonds: {len(hbond_energies)}\")\n",
    "    print(f\"Average energy: {sum(hbond_energies)/len(hbond_energies):.2f}\")\n",
    "    print(f\"Minimum energy: {min(hbond_energies):.2f}\")\n",
    "    print(f\"Maximum energy: {max(hbond_energies):.2f}\")\n",
    "\n",
    "def comprehensive_dssp_example():\n",
    "    \"\"\"\n",
    "    Run a comprehensive example of DSSP functionality in Graphein.\n",
    "    \"\"\"\n",
    "    # Set DSSP path\n",
    "    os.environ[\"DSSP_PATH\"] = \"/opt/homebrew/bin/mkdssp\"\n",
    "    print(f\"Using DSSP at: {os.environ['DSSP_PATH']}\")\n",
    "\n",
    "    # Download the PDB file (using a slightly larger protein with more interesting structure)\n",
    "    pdb_code = \"1UBQ\"  # Ubiquitin, a well-structured small protein\n",
    "    print(f\"Downloading protein {pdb_code}...\")\n",
    "    pdb_path = download_pdb(pdb_code, out_dir=\"./\")\n",
    "    print(f\"Downloaded to {pdb_path}\")\n",
    "\n",
    "    # Create configuration with DSSP\n",
    "    config = ProteinGraphConfig()\n",
    "    config.dssp_config = DSSPConfig()\n",
    "    print(\"Created protein graph configuration with DSSP\")\n",
    "\n",
    "    # Construct the graph\n",
    "    print(\"Constructing protein graph...\")\n",
    "    graph = construct_graph(path=pdb_path, config=config)\n",
    "    print(f\"Graph contains {len(graph.nodes)} nodes and {len(graph.edges)} edges\")\n",
    "\n",
    "    # Add DSSP dataframe\n",
    "    print(\"Adding DSSP dataframe...\")\n",
    "    graph = add_dssp_df(graph, dssp_config=config.dssp_config)\n",
    "\n",
    "    # Check if DSSP dataframe was added\n",
    "    if \"dssp_df\" in graph.graph:\n",
    "        print(\"DSSP dataframe successfully added to graph\")\n",
    "        print(f\"DSSP dataframe shape: {graph.graph['dssp_df'].shape}\")\n",
    "        print(f\"DSSP dataframe columns: {list(graph.graph['dssp_df'].columns)}\")\n",
    "    else:\n",
    "        print(\"Failed to add DSSP dataframe to graph\")\n",
    "        return None\n",
    "\n",
    "    # Add all DSSP features to nodes\n",
    "    print(\"Adding DSSP features to nodes...\")\n",
    "    graph = add_all_dssp_features_to_nodes(graph)\n",
    "\n",
    "    # Run analyses\n",
    "    print(\"\\n=== Secondary Structure Analysis ===\")\n",
    "    analyze_secondary_structure(graph)\n",
    "\n",
    "    print(\"\\n=== Ramachandran Plot ===\")\n",
    "    analyze_ramachandran(graph)\n",
    "\n",
    "    print(\"\\n=== Solvent Accessibility Analysis ===\")\n",
    "    analyze_solvent_accessibility(graph)\n",
    "\n",
    "    print(\"\\n=== Hydrogen Bond Analysis ===\")\n",
    "    analyze_hydrogen_bonds(graph)\n",
    "\n",
    "    print(\"\\n=== Visualizing Protein Structure ===\")\n",
    "    visualize_protein_structure(graph, feature='ss_value',\n",
    "                                title=f'Protein {pdb_code} Structure')\n",
    "\n",
    "    print(\"\\nComprehensive DSSP analysis complete!\")\n",
    "    return graph\n",
    "\n",
    "# Run the comprehensive example\n",
    "result = comprehensive_dssp_example()"
   ],
   "id": "fa90cf8b8fc8550e",
   "outputs": [
    {
     "data": {
      "text/plain": [
       "Output()"
      ],
      "application/vnd.jupyter.widget-view+json": {
       "version_major": 2,
       "version_minor": 0,
       "model_id": "c2dd68b9ebaf48a184f7ad69332cd4e8"
      }
     },
     "metadata": {},
     "output_type": "display_data"
    },
    {
     "name": "stdout",
     "output_type": "stream",
     "text": [
      "Using DSSP at: /opt/homebrew/bin/mkdssp\n",
      "Downloading protein 1UBQ...\n",
      "Downloaded to 1ubq.pdb\n",
      "Created protein graph configuration with DSSP\n",
      "Constructing protein graph...\n"
     ]
    },
    {
     "data": {
      "text/plain": [],
      "text/html": [
       "<pre style=\"white-space:pre;overflow-x:auto;line-height:normal;font-family:Menlo,'DejaVu Sans Mono',consolas,'Courier New',monospace\"></pre>\n"
      ]
     },
     "metadata": {},
     "output_type": "display_data"
    },
    {
     "name": "stdout",
     "output_type": "stream",
     "text": [
      "Graph contains 76 nodes and 75 edges\n",
      "Adding DSSP dataframe...\n",
      "DSSP dataframe successfully added to graph\n",
      "DSSP dataframe shape: (76, 17)\n",
      "DSSP dataframe columns: ['chain', 'resnum', 'icode', 'aa', 'ss', 'asa', 'phi', 'psi', 'dssp_index', 'NH_O_1_relidx', 'NH_O_1_energy', 'O_NH_1_relidx', 'O_NH_1_energy', 'NH_O_2_relidx', 'NH_O_2_energy', 'O_NH_2_relidx', 'O_NH_2_energy']\n",
      "Adding DSSP features to nodes...\n",
      "Available DSSP features: ['chain', 'resnum', 'icode', 'aa', 'ss', 'asa', 'phi', 'psi', 'dssp_index', 'NH_O_1_relidx', 'NH_O_1_energy', 'O_NH_1_relidx', 'O_NH_1_energy', 'NH_O_2_relidx', 'NH_O_2_energy', 'O_NH_2_relidx', 'O_NH_2_energy']\n",
      "Found 13 DSSP features in the dataframe\n",
      "Using 'chain' for chain ID and 'resnum' for residue number\n",
      "Updated 76 out of 76 nodes\n",
      "Added the following features to nodes: ['dssp_aa', 'dssp_index', 'nh_o1_energy', 'nh_o1_relidx', 'nh_o2_energy', 'nh_o2_relidx', 'o_nh1_energy', 'o_nh1_relidx', 'o_nh2_energy', 'o_nh2_relidx', 'phi', 'psi', 'ss_value']\n",
      "\n",
      "=== Secondary Structure Analysis ===\n",
      "Secondary Structure Distribution:\n",
      "- (Unknown): 12 residues (15.8%)\n",
      "B (Beta bridge): 2 residues (2.6%)\n",
      "E (Extended strand): 24 residues (31.6%)\n",
      "G (3-10 helix): 6 residues (7.9%)\n",
      "H (Alpha helix): 12 residues (15.8%)\n",
      "P (Unknown): 4 residues (5.3%)\n",
      "S (Bend): 4 residues (5.3%)\n",
      "T (Turn): 12 residues (15.8%)\n"
     ]
    },
    {
     "data": {
      "text/plain": [
       "<Figure size 1000x700 with 1 Axes>"
      ],
      "image/png": "[encoded data removed]"
     },
     "metadata": {},
     "output_type": "display_data"
    },
    {
     "name": "stdout",
     "output_type": "stream",
     "text": [
      "\n",
      "=== Ramachandran Plot ===\n"
     ]
    },
    {
     "data": {
      "text/plain": [
       "<Figure size 1000x800 with 1 Axes>"
      ],
      "image/png": "[encoded data removed]"
     },
     "metadata": {},
     "output_type": "display_data"
    },
    {
     "name": "stdout",
     "output_type": "stream",
     "text": [
      "\n",
      "=== Solvent Accessibility Analysis ===\n",
      "No solvent accessibility information found in the graph\n",
      "\n",
      "=== Hydrogen Bond Analysis ===\n"
     ]
    },
    {
     "data": {
      "text/plain": [
       "<Figure size 1000x600 with 1 Axes>"
      ],
      "image/png": "[encoded data removed]"
     },
     "metadata": {},
     "output_type": "display_data"
    },
    {
     "name": "stdout",
     "output_type": "stream",
     "text": [
      "Hydrogen Bond Statistics:\n",
      "Number of hydrogen bonds: 278\n",
      "Average energy: -0.91\n",
      "Minimum energy: -3.30\n",
      "Maximum energy: -0.10\n",
      "\n",
      "=== Visualizing Protein Structure ===\n"
     ]
    },
    {
     "data": {
      "text/plain": [
       "<Figure size 1200x1000 with 1 Axes>"
      ],
      "image/png": "[encoded data removed]"
     },
     "metadata": {},
     "output_type": "display_data"
    },
    {
     "name": "stdout",
     "output_type": "stream",
     "text": [
      "\n",
      "Comprehensive DSSP analysis complete!\n"
     ]
    }
   ],
   "execution_count": 6
  },
  {
   "metadata": {
    "ExecuteTime": {
     "end_time": "2025-03-25T17:10:26.594672Z",
     "start_time": "2025-03-25T17:10:24.981361Z"
    }
   },
   "cell_type": "code",
   "source": [
    "import os\n",
    "import pandas as pd\n",
    "from graphein.protein.config import ProteinGraphConfig, DSSPConfig\n",
    "from graphein.protein.graphs import construct_graph\n",
    "from graphein.protein.features.nodes.dssp import add_dssp_df\n",
    "from graphein.protein.utils import download_pdb\n",
    "\n",
    "def add_secondary_structure_to_nodes(graph):\n",
    "    \"\"\"\n",
    "    Extract secondary structure from DSSP dataframe and add to nodes.\n",
    "    This is the bare minimum to test DSSP functionality.\n",
    "    \"\"\"\n",
    "    # Check if DSSP dataframe exists\n",
    "    if \"dssp_df\" not in graph.graph:\n",
    "        print(\"No DSSP dataframe found in graph\")\n",
    "        return graph\n",
    "\n",
    "    # Get the DSSP dataframe\n",
    "    dssp_df = graph.graph[\"dssp_df\"]\n",
    "\n",
    "    # Check if secondary structure column exists\n",
    "    if \"ss\" not in dssp_df.columns:\n",
    "        print(f\"No 'ss' column found in DSSP dataframe. Available columns: {dssp_df.columns}\")\n",
    "        return graph\n",
    "\n",
    "    # Count how many nodes were updated\n",
    "    updated_count = 0\n",
    "\n",
    "    # Add secondary structure to each node\n",
    "    for node, data in graph.nodes(data=True):\n",
    "        # Extract chain and residue info from node ID\n",
    "        parts = str(node).split(':')\n",
    "        if len(parts) >= 3:\n",
    "            chain = parts[0]\n",
    "            residue_num = parts[2]\n",
    "\n",
    "            # Try to find matching row in DSSP dataframe\n",
    "            try:\n",
    "                # Different versions of Graphein might have different column names\n",
    "                if 'chain_id' in dssp_df.columns and 'residue_number' in dssp_df.columns:\n",
    "                    mask = (dssp_df['chain_id'] == chain) & (dssp_df['residue_number'] == int(residue_num))\n",
    "                elif 'chain' in dssp_df.columns and 'resnum' in dssp_df.columns:\n",
    "                    mask = (dssp_df['chain'] == chain) & (dssp_df['resnum'] == int(residue_num))\n",
    "                else:\n",
    "                    # Try to guess based on available columns\n",
    "                    chain_col = next((col for col in dssp_df.columns if 'chain' in col.lower()), None)\n",
    "                    res_col = next((col for col in dssp_df.columns if 'res' in col.lower() and 'num' in col.lower()), None)\n",
    "\n",
    "                    if chain_col and res_col:\n",
    "                        mask = (dssp_df[chain_col] == chain) & (dssp_df[res_col] == int(residue_num))\n",
    "                    else:\n",
    "                        continue\n",
    "\n",
    "                # If we found a matching row, add the SS value\n",
    "                matching_rows = dssp_df[mask]\n",
    "                if not matching_rows.empty:\n",
    "                    data['ss_value'] = matching_rows['ss'].values[0]\n",
    "                    updated_count += 1\n",
    "            except (ValueError, KeyError) as e:\n",
    "                # Skip this node if there are issues\n",
    "                continue\n",
    "\n",
    "    print(f\"Added secondary structure to {updated_count} out of {len(graph.nodes)} nodes\")\n",
    "    return graph\n",
    "\n",
    "# Main function to test everything\n",
    "def test_dssp_minimal():\n",
    "    # Set DSSP path\n",
    "    os.environ[\"DSSP_PATH\"] = \"/opt/homebrew/bin/mkdssp\"\n",
    "\n",
    "    # Download PDB and create graph\n",
    "    pdb_code = \"1BDD\"\n",
    "    pdb_path = download_pdb(pdb_code, out_dir=\"./\")\n",
    "\n",
    "    # Configure graph with DSSP\n",
    "    config = ProteinGraphConfig()\n",
    "    config.dssp_config = DSSPConfig()\n",
    "\n",
    "    # Construct graph\n",
    "    graph = construct_graph(path=\"1bdd.pdb\", config=config)\n",
    "\n",
    "    # Add DSSP dataframe\n",
    "    graph = add_dssp_df(graph, dssp_config=config.dssp_config)\n",
    "\n",
    "    # Add secondary structure to nodes\n",
    "    graph = add_secondary_structure_to_nodes(graph)\n",
    "\n",
    "    # Check results\n",
    "    has_ss = any('ss_value' in graph.nodes[node] for node in graph.nodes)\n",
    "    print(f\"Secondary structure found in nodes: {'Yes' if has_ss else 'No'}\")\n",
    "\n",
    "    if has_ss:\n",
    "        # Get a node with secondary structure\n",
    "        ss_node = next((node for node in graph.nodes if 'ss_value' in graph.nodes[node]), None)\n",
    "        if ss_node:\n",
    "            print(f\"Example node {ss_node} has secondary structure: {graph.nodes[ss_node]['ss_value']}\")\n",
    "\n",
    "            # Count by secondary structure type\n",
    "            ss_types = {}\n",
    "            for node in graph.nodes:\n",
    "                if 'ss_value' in graph.nodes[node]:\n",
    "                    ss = graph.nodes[node]['ss_value']\n",
    "                    ss_types[ss] = ss_types.get(ss, 0) + 1\n",
    "\n",
    "            print(\"Secondary structure distribution:\")\n",
    "            for ss, count in ss_types.items():\n",
    "                print(f\"  {ss}: {count} residues\")\n",
    "\n",
    "    return graph\n",
    "\n",
    "# Run the test\n",
    "result = test_dssp_minimal()"
   ],
   "id": "b83131f7d18e9cf4",
   "outputs": [
    {
     "data": {
      "text/plain": [
       "Output()"
      ],
      "application/vnd.jupyter.widget-view+json": {
       "version_major": 2,
       "version_minor": 0,
       "model_id": "648f1b202f3c49e1aac8754c152e7efd"
      }
     },
     "metadata": {},
     "output_type": "display_data"
    },
    {
     "data": {
      "text/plain": [],
      "text/html": [
       "<pre style=\"white-space:pre;overflow-x:auto;line-height:normal;font-family:Menlo,'DejaVu Sans Mono',consolas,'Courier New',monospace\"></pre>\n"
      ]
     },
     "metadata": {},
     "output_type": "display_data"
    },
    {
     "name": "stdout",
     "output_type": "stream",
     "text": [
      "Added secondary structure to 60 out of 60 nodes\n",
      "Secondary structure found in nodes: Yes\n",
      "Example node A:THR:1 has secondary structure: -\n",
      "Secondary structure distribution:\n",
      "  -: 12 residues\n",
      "  S: 6 residues\n",
      "  H: 36 residues\n",
      "  T: 6 residues\n"
     ]
    }
   ],
   "execution_count": 14
  },
  {
   "metadata": {
    "ExecuteTime": {
     "end_time": "2025-03-26T08:08:05.871923Z",
     "start_time": "2025-03-26T08:08:05.863821Z"
    }
   },
   "cell_type": "code",
   "source": [
    "def debug_graph(graph):\n",
    "    # Check graph type\n",
    "    print(f\"Graph type: {type(graph)}\")\n",
    "\n",
    "    # Print basic node info\n",
    "    print(f\"\\nNumber of nodes: {len(graph.nodes())}\")\n",
    "    if len(graph.nodes()) > 0:\n",
    "        sample_node = list(graph.nodes())[0]\n",
    "        print(f\"Sample node: {sample_node}\")\n",
    "        print(f\"Sample node attributes: {graph.nodes[sample_node]}\")\n",
    "\n",
    "    # Print basic edge info\n",
    "    print(f\"\\nNumber of edges: {len(graph.edges())}\")\n",
    "    if len(graph.edges()) > 0:\n",
    "        sample_edge = list(graph.edges())[0]\n",
    "        print(f\"Sample edge: {sample_edge}\")\n",
    "        print(f\"Sample edge attributes: {graph.edges[sample_edge]}\")\n",
    "\n"
   ],
   "id": "dff1af564b67f7ba",
   "outputs": [],
   "execution_count": 17
  },
  {
   "metadata": {
    "ExecuteTime": {
     "end_time": "2025-03-26T08:12:48.029211Z",
     "start_time": "2025-03-26T08:12:48.023104Z"
    }
   },
   "cell_type": "code",
   "source": [
    "def test_minimal_no_dssp():\n",
    "    # Set DSSP path\n",
    "    os.environ[\"DSSP_PATH\"] = \"/opt/homebrew/bin/mkdssp\"\n",
    "\n",
    "    # Download PDB and create graph\n",
    "    pdb_code = \"1BDD\"\n",
    "    pdb_path = download_pdb(pdb_code, out_dir=\"./\")\n",
    "\n",
    "    # Configure graph with DSSP\n",
    "    config = ProteinGraphConfig()\n",
    "    #config.dssp_config = DSSPConfig()\n",
    "\n",
    "    # Construct graph\n",
    "    graph = construct_graph(path=\"2WZP_nanobody_K.pdb\", config=config)\n",
    "\n",
    "    # Add DSSP dataframe\n",
    "    #graph = add_dssp_df(graph, dssp_config=config.dssp_config)\n",
    "\n",
    "    # Add secondary structure to nodes\n",
    "    #graph = add_secondary_structure_to_nodes(graph)\n",
    "\n",
    "    # Check results\n",
    "    #has_ss = any('ss_value' in graph.nodes[node] for node in graph.nodes)\n",
    "    #print(f\"Secondary structure found in nodes: {'Yes' if has_ss else 'No'}\")\n",
    "\n",
    "    return graph\n",
    "\n"
   ],
   "id": "95940af466179a22",
   "outputs": [],
   "execution_count": 24
  },
  {
   "metadata": {
    "ExecuteTime": {
     "end_time": "2025-03-26T08:12:50.759459Z",
     "start_time": "2025-03-26T08:12:50.691959Z"
    }
   },
   "cell_type": "code",
   "source": [
    "# Run the test and debug\n",
    "result = test_minimal_no_dssp()\n",
    "debug_graph(result)"
   ],
   "id": "e5a3a5846096a5c7",
   "outputs": [
    {
     "data": {
      "text/plain": [
       "Output()"
      ],
      "application/vnd.jupyter.widget-view+json": {
       "version_major": 2,
       "version_minor": 0,
       "model_id": "b463314953d94c3891fa3351632dfa23"
      }
     },
     "metadata": {},
     "output_type": "display_data"
    },
    {
     "data": {
      "text/plain": [],
      "text/html": [
       "<pre style=\"white-space:pre;overflow-x:auto;line-height:normal;font-family:Menlo,'DejaVu Sans Mono',consolas,'Courier New',monospace\"></pre>\n"
      ]
     },
     "metadata": {},
     "output_type": "display_data"
    },
    {
     "name": "stdout",
     "output_type": "stream",
     "text": [
      "Graph type: <class 'networkx.classes.graph.Graph'>\n",
      "\n",
      "Number of nodes: 122\n",
      "Sample node: K:VAL:2\n",
      "Sample node attributes: {'chain_id': 'K', 'residue_name': 'VAL', 'residue_number': 2, 'atom_type': 'CA', 'element_symbol': 'C', 'coords': array([  2.166,  77.022, 342.372], dtype=float32), 'b_factor': 131.3000030517578, 'meiler': dim_1    3.67\n",
      "dim_2    0.14\n",
      "dim_3    3.00\n",
      "dim_4    1.22\n",
      "dim_5    6.02\n",
      "dim_6    0.27\n",
      "dim_7    0.49\n",
      "Name: VAL, dtype: float64}\n",
      "\n",
      "Number of edges: 121\n",
      "Sample edge: ('K:VAL:2', 'K:GLN:3')\n",
      "Sample edge attributes: {'kind': {'peptide_bond'}, 'distance': 3.9335760545057625}\n"
     ]
    }
   ],
   "execution_count": 25
  },
  {
   "metadata": {
    "ExecuteTime": {
     "end_time": "2025-03-26T08:55:54.653767Z",
     "start_time": "2025-03-26T08:55:54.644254Z"
    }
   },
   "cell_type": "code",
   "source": [
    "'''\n",
    "This is the maximum amount of useful stuff we can get without using the dssp -\n",
    "Which we cant use without the full proteins. the nanos wont allow it...\n",
    "so will need to splice them in from the full proteins\n",
    "This is constructing the networkx graph object from the pdb file\n",
    "'''\n",
    "\n",
    "# CONFIGS\n",
    "import graphein.protein as gp\n",
    "from functools import partial\n",
    "from graphein.ml.conversion import GraphFormatConvertor\n",
    "from graphein.protein.edges.distance import (add_peptide_bonds,\n",
    "                                             add_hydrogen_bond_interactions,\n",
    "                                             add_disulfide_interactions,\n",
    "                                             add_ionic_interactions,\n",
    "                                             add_aromatic_interactions,\n",
    "                                             add_aromatic_sulphur_interactions,\n",
    "                                             add_cation_pi_interactions\n",
    "                                             )\n",
    "\n",
    "\n",
    "def test_adding_stuff_no_dssp():\n",
    "\n",
    "    config = ProteinGraphConfig()\n",
    "\n",
    "    # Use this edge function set for complete biochemical interactions\n",
    "    all_edge_func = {\"edge_construction_functions\": [\n",
    "\n",
    "                                                add_peptide_bonds,\n",
    "                                                 add_aromatic_interactions,\n",
    "                                                 add_hydrogen_bond_interactions,\n",
    "                                                 add_disulfide_interactions,\n",
    "                                                 add_ionic_interactions,\n",
    "                                                 add_aromatic_sulphur_interactions,\n",
    "                                                 add_cation_pi_interactions,\n",
    "                                                 gp.add_hydrophobic_interactions,\n",
    "                                                 gp.add_salt_bridges]}\n",
    "\n",
    "    all_node_metadata = {\"node_metadata_functions\" : [gp.amino_acid_one_hot,\n",
    "                                                      gp.meiler_embedding,\n",
    "                                                      partial(gp.expasy_protein_scale, add_separate=True)],\n",
    "                         }\n",
    "\n",
    "    # Use these metadata configurations for the properties you need\n",
    "    complete_config = {\n",
    "        #\"graph_metadata_functions\": [gp.rsa, gp.secondary_structure],\n",
    "        \"node_metadata_functions\": [gp.amino_acid_one_hot,\n",
    "                                    gp.meiler_embedding,\n",
    "                                    partial(gp.expasy_protein_scale, add_separate=True)]\n",
    "    }\n",
    "\n",
    "    # Combined configuration\n",
    "    full_config = gp.ProteinGraphConfig(**{**all_edge_func, **complete_config})\n",
    "\n",
    "    # Construct graph\n",
    "    #graph = construct_graph(path=\"2WZP_nanobody_K.pdb\", config=full_config)\n",
    "\n",
    "    graph = construct_graph(path=\"/Users/alexchilton/Downloads/nanobody_extractedtest/2WZP_nanobody_K.pdb\", config=full_config)\n",
    "    return graph\n",
    "\n"
   ],
   "id": "95c4e39783806ec1",
   "outputs": [],
   "execution_count": 43
  },
  {
   "metadata": {
    "ExecuteTime": {
     "end_time": "2025-03-26T08:55:56.121435Z",
     "start_time": "2025-03-26T08:55:55.992488Z"
    }
   },
   "cell_type": "code",
   "source": [
    "# Run the test and debug\n",
    "result = test_adding_stuff_no_dssp()\n",
    "debug_graph(result)"
   ],
   "id": "d8b544843c7677ba",
   "outputs": [
    {
     "data": {
      "text/plain": [
       "Output()"
      ],
      "application/vnd.jupyter.widget-view+json": {
       "version_major": 2,
       "version_minor": 0,
       "model_id": "756d3e09982b43be8009992f1a822576"
      }
     },
     "metadata": {},
     "output_type": "display_data"
    },
    {
     "data": {
      "text/plain": [],
      "text/html": [
       "<pre style=\"white-space:pre;overflow-x:auto;line-height:normal;font-family:Menlo,'DejaVu Sans Mono',consolas,'Courier New',monospace\"></pre>\n"
      ]
     },
     "metadata": {},
     "output_type": "display_data"
    },
    {
     "name": "stdout",
     "output_type": "stream",
     "text": [
      "Graph type: <class 'networkx.classes.graph.Graph'>\n",
      "\n",
      "Number of nodes: 122\n",
      "Sample node: K:VAL:2\n",
      "Sample node attributes: {'chain_id': 'K', 'residue_name': 'VAL', 'residue_number': 2, 'atom_type': 'CA', 'element_symbol': 'C', 'coords': array([  2.166,  77.022, 342.372], dtype=float32), 'b_factor': 131.3000030517578, 'amino_acid_one_hot': array([0, 0, 0, 0, 0, 0, 0, 0, 0, 0, 0, 0, 0, 0, 0, 0, 0, 1, 0, 0]), 'meiler': dim_1    3.67\n",
      "dim_2    0.14\n",
      "dim_3    3.00\n",
      "dim_4    1.22\n",
      "dim_5    6.02\n",
      "dim_6    0.27\n",
      "dim_7    0.49\n",
      "Name: VAL, dtype: float64, 'pka_cooh_alpha': 2.29, 'pka_nh3': 9.74, 'pka_rgroup': 7.0, 'isoelectric_points': 6.02, 'molecularweight': 117.0, 'numbercodons': 4.0, 'bulkiness': 21.57, 'polarityzimmerman': 0.13, 'polaritygrantham': 5.9, 'refractivity': 13.92, 'recognitionfactors': 89.0, 'hphob_eisenberg': 1.08, 'hphob_sweet': 0.91, 'hphob_woods': -1.5, 'hphob_doolittle': 4.2, 'hphob_manavalan': 15.71, 'hphob_leo': 1.73, 'hphob_black': 0.825, 'hphob_breese': -0.75, 'hphob_fauchere': 1.22, 'hphob_guy': -1.27, 'hphob_janin': 0.6, 'hphob_miyazawa': 7.63, 'hphob_argos': 1.37, 'hphob_roseman': 1.3, 'hphob_tanford': 1.8, 'hphob_wolfenden': 1.99, 'hphob_welling': -0.13, 'hphob_wilson': 5.9, 'hphob_parker': -3.7, 'hphob_ph3_4': 1.34, 'hphob_ph7_5': 1.32, 'hphob_mobility': 8.5, 'hplchfba': 2.1, 'hplctfa': 3.5, 'transmembranetendency': 1.46, 'hplc2_1': 3.3, 'hplc7_4': 2.7, 'buriedresidues': 12.9, 'accessibleresidues': 4.5, 'hphob_chothia': 0.54, 'hphob_rose': 0.86, 'ratioside': 0.0, 'averageburied': 141.0, 'averageflexibility': 0.39, 'alpha_helixfasman': 1.06, 'beta_sheetfasman': 1.7, 'beta_turnfasman': 0.5, 'alpha_helixroux': 0.99, 'beta_sheetroux': 1.965, 'beta_turnroux': 0.387, 'coilroux': 0.772, 'alpha_helixlevitt': 0.91, 'beta_sheetlevitt': 1.49, 'beta_turnlevitt': 0.47, 'totalbeta_strand': 1.81, 'antiparallelbeta_strand': 1.53, 'parallelbeta_strand': 2.63, 'a_a_composition': 6.6, 'a_a_swiss_prot': 6.87, 'relativemutability': 74.0}\n",
      "\n",
      "Number of edges: 220\n",
      "Sample edge: ('K:VAL:2', 'K:GLN:3')\n",
      "Sample edge attributes: {'kind': {'peptide_bond'}, 'distance': 3.9335760545057625}\n"
     ]
    }
   ],
   "execution_count": 44
  },
  {
   "metadata": {
    "ExecuteTime": {
     "end_time": "2025-03-26T08:43:38.914158Z",
     "start_time": "2025-03-26T08:43:35.762314Z"
    }
   },
   "cell_type": "code",
   "source": [
    "'''splice the networkx with the config etc and build the pytorch data loader\n",
    "rsa and secondary structure are coming from dssp\n",
    "\n",
    "This works with 1 file -2WZP_nanobody_K - if it doesnt work with all then need\n",
    "to find out which ones dont work ... :-(\n",
    "'''\n",
    "\n",
    "from graphein.ml import InMemoryProteinGraphDataset\n",
    "import os\n",
    "\n",
    "# Use this edge function set for complete biochemical interactions\n",
    "all_edge_func = {\"edge_construction_functions\": [\n",
    "\n",
    "    add_peptide_bonds,\n",
    "    add_aromatic_interactions,\n",
    "    add_hydrogen_bond_interactions,\n",
    "    add_disulfide_interactions,\n",
    "    add_ionic_interactions,\n",
    "    add_aromatic_sulphur_interactions,\n",
    "    add_cation_pi_interactions,\n",
    "    gp.add_hydrophobic_interactions,\n",
    "    gp.add_salt_bridges]}\n",
    "\n",
    "# Use these metadata configurations for the properties you need\n",
    "complete_config = {\n",
    "    #\"graph_metadata_functions\": [gp.rsa, gp.secondary_structure],\n",
    "    \"node_metadata_functions\": [gp.amino_acid_one_hot,\n",
    "                                gp.meiler_embedding,\n",
    "                                partial(gp.expasy_protein_scale, add_separate=True)]\n",
    "}\n",
    "\n",
    "# Combined configuration\n",
    "full_config = gp.ProteinGraphConfig(**{**all_edge_func, **complete_config})\n",
    "\n",
    "\n",
    "\n",
    "\n",
    "convertor = GraphFormatConvertor(src_format=\"nx\", dst_format=\"pyg\", columns=\n",
    "[\"coords\", \"edge_index\",                                                                 \"amino_acid_one_hot\",\n",
    " \"meiler\",\n",
    "#\"rsa\",\n",
    "\"pka_rgroup\",                                                                           \"isoelectric_points\",                                                                   \"hphob_black\",                                                                   \"transmembranetendency\",                                                                #\"secondary_structure\"\n",
    " ])\n",
    "\n",
    "# Get paths to all your PDB files\n",
    "pdb_dir = os.path.expanduser(\"~/Downloads/nanobody_extractedtest\")\n",
    "pdb_paths = [os.path.join(pdb_dir, f) for f in os.listdir(pdb_dir) if f.endswith('.pdb')]\n",
    "\n",
    "# Create label map (assuming you have a way to determine labels)\n",
    "# For example, if nanobody in filename means label=1:\n",
    "label_map = {os.path.splitext(os.path.basename(path))[0]: 1 if \"nanobody\" in path else 0\n",
    "             for path in pdb_paths}\n",
    "\n",
    "# Create the dataset\n",
    "train_ds = InMemoryProteinGraphDataset(\n",
    "    root=\"data/\",\n",
    "    name=\"train\",\n",
    "    paths=pdb_paths,  # Use paths instead of pdb_codes\n",
    "    graph_label_map=label_map,\n",
    "    graphein_config=full_config,  # Use whichever config you prefer\n",
    "    graph_format_convertor=convertor,\n",
    "    graph_transformation_funcs=[],\n",
    "\n",
    ")\n",
    "\n",
    "\n",
    "\n"
   ],
   "id": "902d48960b0b2a8e",
   "outputs": [
    {
     "name": "stdout",
     "output_type": "stream",
     "text": [
      "Constructing Graphs...\n"
     ]
    },
    {
     "name": "stderr",
     "output_type": "stream",
     "text": [
      "Processing...\n"
     ]
    },
    {
     "data": {
      "text/plain": [
       "  0%|          | 0/1 [00:00<?, ?it/s]"
      ],
      "application/vnd.jupyter.widget-view+json": {
       "version_major": 2,
       "version_minor": 0,
       "model_id": "29753347ff904efb841824dd4f8cd4d5"
      }
     },
     "metadata": {},
     "output_type": "display_data"
    },
    {
     "name": "stderr",
     "output_type": "stream",
     "text": [
      "/Users/alexchilton/PycharmProjects/final_try/.venv/lib/python3.9/site-packages/urllib3/__init__.py:35: NotOpenSSLWarning: urllib3 v2 only supports OpenSSL 1.1.1+, currently the 'ssl' module is compiled with 'LibreSSL 2.8.3'. See: https://github.com/urllib3/urllib3/issues/3020\n",
      "  warnings.warn(\n"
     ]
    },
    {
     "name": "stdout",
     "output_type": "stream",
     "text": [
      "\u001B[2KReading PDB file...         \u001B[90m━━━━━━━━━━━━━━━━━━━━━━━━━━━━━━━━━━━━━━━\u001B[0m \u001B[35m100%\u001B[0m \u001B[36m0:00:00\u001B[0m\n",
      "\u001B[2K\u001B[1A\u001B[2KReading PDB file...         \u001B[90m━━━━━━━━━━━━━━━━━━━━━━━━━━━━━━━━━━━━━━━\u001B[0m \u001B[35m100%\u001B[0m \u001B[36m0:00:00\u001B[0m\n",
      "Processing PDB dataframe... \u001B[90m━━━━━━━━━━━━━━━━━━━━━━━━━━━━━━━━━━━━━━━\u001B[0m \u001B[35m100%\u001B[0m \u001B[36m0:00:00\u001B[0m\n",
      "\u001B[2K\u001B[1A\u001B[2K\u001B[1A\u001B[2KReading PDB file...         \u001B[90m━━━━━━━━━━━━━━━━━━━━━━━━━━━━━━━━━━━━━━━\u001B[0m \u001B[35m100%\u001B[0m \u001B[36m0:00:00\u001B[0m\n",
      "Processing PDB dataframe... \u001B[90m━━━━━━━━━━━━━━━━━━━━━━━━━━━━━━━━━━━━━━━\u001B[0m \u001B[35m100%\u001B[0m \u001B[36m0:00:00\u001B[0m\n",
      "Initializing graph...       \u001B[90m━━━━━━━━━━━━━━━━━━━━━━━━━━━━━━━━━━━━━━━\u001B[0m \u001B[35m100%\u001B[0m \u001B[36m0:00:00\u001B[0m\n",
      "\u001B[2K\u001B[1A\u001B[2K\u001B[1A\u001B[2K\u001B[1A\u001B[2KReading PDB file...         \u001B[90m━━━━━━━━━━━━━━━━━━━━━━━━━━━━━━━━━━━━━━━\u001B[0m \u001B[35m100%\u001B[0m \u001B[36m0:00:00\u001B[0m\n",
      "Processing PDB dataframe... \u001B[90m━━━━━━━━━━━━━━━━━━━━━━━━━━━━━━━━━━━━━━━\u001B[0m \u001B[35m100%\u001B[0m \u001B[36m0:00:00\u001B[0m\n",
      "Initializing graph...       \u001B[90m━━━━━━━━━━━━━━━━━━━━━━━━━━━━━━━━━━━━━━━\u001B[0m \u001B[35m100%\u001B[0m \u001B[36m0:00:00\u001B[0m\n",
      "\u001B[2K\u001B[1A\u001B[2K\u001B[1A\u001B[2K\u001B[1A\u001B[2KReading PDB file...         \u001B[90m━━━━━━━━━━━━━━━━━━━━━━━━━━━━━━━━━━━━━━━\u001B[0m \u001B[35m100%\u001B[0m \u001B[36m0:00:00\u001B[0m\n",
      "Processing PDB dataframe... \u001B[90m━━━━━━━━━━━━━━━━━━━━━━━━━━━━━━━━━━━━━━━\u001B[0m \u001B[35m100%\u001B[0m \u001B[36m0:00:00\u001B[0m\n",
      "Initializing graph...       \u001B[90m━━━━━━━━━━━━━━━━━━━━━━━━━━━━━━━━━━━━━━━\u001B[0m \u001B[35m100%\u001B[0m \u001B[36m0:00:00\u001B[0m\n",
      "Constructing edges...       \u001B[90m━━━━━━━━━━━━━━━━━━━━━━━━━━━━━━━━━━━━━━━\u001B[0m \u001B[35m100%\u001B[0m \u001B[36m0:00:00\u001B[0m\n",
      "\u001B[1A\u001B[2K\u001B[1A\u001B[2K\u001B[1A\u001B[2K\u001B[1A\u001B[2KTransforming Nx Graphs...\n",
      "Converting Graphs...\n",
      "Assigning graph Labels...\n",
      "Saving Data...\n",
      "Done!\n"
     ]
    },
    {
     "name": "stderr",
     "output_type": "stream",
     "text": [
      "Done!\n"
     ]
    }
   ],
   "execution_count": 40
  },
  {
   "metadata": {},
   "cell_type": "code",
   "outputs": [],
   "execution_count": null,
   "source": "",
   "id": "76353914000d137c"
  },
  {
   "metadata": {},
   "cell_type": "code",
   "outputs": [],
   "execution_count": null,
   "source": "",
   "id": "94bfb37d96b63f83"
  },
  {
   "metadata": {},
   "cell_type": "code",
   "outputs": [],
   "execution_count": null,
   "source": "",
   "id": "95828db9ef636784"
  },
  {
   "metadata": {},
   "cell_type": "code",
   "source": [
    "import os\n",
    "import shutil\n",
    "from pathlib import Path\n",
    "import traceback\n",
    "\n",
    "# Import your graph construction function\n",
    "# from your_module import construct_graph, full_config\n",
    "# Or define them here if needed\n",
    "\n",
    "def sort_pdb_files(source_dir, working_dir, broken_dir):\n",
    "    \"\"\"\n",
    "    Attempt to process each PDB file and sort into working/broken directories.\n",
    "\n",
    "    Args:\n",
    "        source_dir: Directory containing PDB files\n",
    "        working_dir: Directory to copy working PDB files to\n",
    "        broken_dir: Directory to copy broken PDB files to\n",
    "\n",
    "    Returns:\n",
    "        tuple: (list of working files, list of broken files)\n",
    "    \"\"\"\n",
    "    # Expand user directory if needed\n",
    "    source_dir = os.path.expanduser(source_dir)\n",
    "    working_dir = os.path.expanduser(working_dir)\n",
    "    broken_dir = os.path.expanduser(broken_dir)\n",
    "\n",
    "    # Create destination directories if they don't exist\n",
    "    for directory in [working_dir, broken_dir]:\n",
    "        os.makedirs(directory, exist_ok=True)\n",
    "\n",
    "    # Get all PDB files in the source directory\n",
    "    pdb_files = [f for f in os.listdir(source_dir) if f.endswith('.pdb')]\n",
    "\n",
    "    working_files = []\n",
    "    broken_files = []\n",
    "\n",
    "    # Process each PDB file\n",
    "    for pdb_file in pdb_files:\n",
    "        source_path = os.path.join(source_dir, pdb_file)\n",
    "\n",
    "        try:\n",
    "            # Attempt to construct graph from the PDB file\n",
    "            graph = construct_graph(path=source_path, config=full_config)\n",
    "\n",
    "            # If successful, copy to working directory\n",
    "            dest_path = os.path.join(working_dir, pdb_file)\n",
    "            shutil.copy2(source_path, dest_path)\n",
    "            working_files.append(pdb_file)\n",
    "            print(f\"✅ Success: {pdb_file}\")\n",
    "\n",
    "        except Exception as e:\n",
    "            # If failed, copy to broken directory\n",
    "            dest_path = os.path.join(broken_dir, pdb_file)\n",
    "            shutil.copy2(source_path, dest_path)\n",
    "            broken_files.append(pdb_file)\n",
    "            print(f\"❌ Failed: {pdb_file}\")\n",
    "            print(f\"   Error: {str(e)}\")\n",
    "\n",
    "    # Print summary\n",
    "    print(f\"\\nSummary:\")\n",
    "    print(f\"- Total files: {len(pdb_files)}\")\n",
    "    print(f\"- Working files: {len(working_files)}\")\n",
    "    print(f\"- Broken files: {len(broken_files)}\")\n",
    "\n",
    "    return working_files, broken_files\n",
    "\n",
    "def create_dataset_from_working_files(working_dir, output_dir=\"data/\"):\n",
    "    \"\"\"\n",
    "    Create a dataset from the working PDB files.\n",
    "\n",
    "    Args:\n",
    "        working_dir: Directory containing working PDB files\n",
    "        output_dir: Directory to save the dataset\n",
    "    \"\"\"\n",
    "    working_dir = os.path.expanduser(working_dir)\n",
    "    pdb_paths = [os.path.join(working_dir, f) for f in os.listdir(working_dir) if f.endswith('.pdb')]\n",
    "\n",
    "    # Create label map (adjust criteria as needed)\n",
    "    label_map = {os.path.splitext(os.path.basename(path))[0]: 1 if \"nanobody\" in path else 0\n",
    "                 for path in pdb_paths}\n",
    "\n",
    "    # Create the dataset\n",
    "    train_ds = InMemoryProteinGraphDataset(\n",
    "        root=output_dir,\n",
    "        name=\"train\",\n",
    "        paths=pdb_paths,\n",
    "        graph_label_map=label_map,\n",
    "        graphein_config=full_config,\n",
    "        graph_format_convertor=convertor,\n",
    "        graph_transformation_funcs=[],\n",
    "    )\n",
    "\n",
    "    return train_ds\n",
    "\n",
    "if __name__ == \"__main__\":\n",
    "    # Define directories\n",
    "    source_dir = \"~/Downloads/nanobody_extracted\"\n",
    "    working_dir = \"~/nanobody_data/working\"\n",
    "    broken_dir = \"~/nanobody_data/broken\"\n",
    "\n",
    "    # Sort PDB files\n",
    "    working_files, broken_files = sort_pdb_files(source_dir, working_dir, broken_dir)\n",
    "\n",
    "    # If you want to create a dataset from working files\n",
    "    if working_files:\n",
    "        try:\n",
    "            dataset = create_dataset_from_working_files(working_dir)\n",
    "            print(f\"Dataset created successfully with {len(dataset)} samples.\")\n",
    "        except Exception as e:\n",
    "            print(f\"Failed to create dataset: {str(e)}\")\n",
    "            traceback.print_exc()"
   ],
   "id": "221969533317f39e",
   "outputs": [],
   "execution_count": null
  },
  {
   "metadata": {},
   "cell_type": "code",
   "outputs": [],
   "execution_count": null,
   "source": "",
   "id": "67b9eff7cbac9fde"
  },
  {
   "metadata": {},
   "cell_type": "code",
   "outputs": [],
   "execution_count": null,
   "source": "",
   "id": "61f37590c4ed15ab"
  },
  {
   "metadata": {
    "ExecuteTime": {
     "end_time": "2025-03-26T10:41:08.495324Z",
     "start_time": "2025-03-26T10:41:08.469764Z"
    }
   },
   "cell_type": "code",
   "source": [
    "''' analysis of the broken files'''\n",
    "import graphein.protein as gp\n",
    "from functools import partial\n",
    "from graphein.ml.conversion import GraphFormatConvertor\n",
    "from graphein.protein.edges.distance import (add_peptide_bonds,\n",
    "                                             add_hydrogen_bond_interactions,\n",
    "                                             add_disulfide_interactions,\n",
    "                                             add_ionic_interactions,\n",
    "                                             add_aromatic_interactions,\n",
    "                                             add_aromatic_sulphur_interactions,\n",
    "                                             add_cation_pi_interactions\n",
    "                                             )\n",
    "\n",
    "import graphein.protein as gp\n",
    "import graphein\n",
    "print(f\"Graphein version: {graphein.__version__}\")\n",
    "\n",
    "# Import key graphein modules to verify they work\n",
    "from graphein.protein.config import ProteinGraphConfig\n",
    "from graphein.protein.graphs import construct_graph\n",
    "\n",
    "\n",
    "def examine_broken_pdb_files(source_dir):\n",
    "\n",
    "    # Expand user directory if needed\n",
    "    source_dir = os.path.expanduser(source_dir)\n",
    "\n",
    "    # Get all PDB files in the source directory\n",
    "    pdb_files = [f for f in os.listdir(source_dir) if f.endswith('.pdb')]\n",
    "\n",
    "\n",
    "    # Process each PDB file\n",
    "    for pdb_file in pdb_files:\n",
    "        source_path = os.path.join(source_dir, pdb_file)\n",
    "\n",
    "        try:\n",
    "\n",
    "            # A: Just one-hot encodings\n",
    "            one_hot = {\"node_metadata_functions\" : [gp.amino_acid_one_hot, gp.meiler_embedding,\n",
    "                                        partial(gp.expasy_protein_scale, add_separate=True)]}\n",
    "\n",
    "            # 1: Distance-based\n",
    "            dist_edge_func = {\n",
    "                \"edge_construction_functions\": [partial(gp.add_distance_threshold,\n",
    "                                                        threshold=5, long_interaction_threshold=0)]}\n",
    "            # 2: Biochemical interactions, select set\n",
    "            select_edge_func = {\"edge_construction_functions\": [add_peptide_bonds,\n",
    "                                                    add_hydrogen_bond_interactions,\n",
    "                                                    ]}\n",
    "            # 2: Biochemical interactions, select set\n",
    "            test_edge_func = {\"edge_construction_functions\": [add_peptide_bonds,\n",
    "                                                              add_aromatic_interactions,\n",
    "                                                              add_hydrogen_bond_interactions,\n",
    "                                                              add_disulfide_interactions,\n",
    "                                                              add_ionic_interactions,\n",
    "                                                              add_aromatic_sulphur_interactions,\n",
    "                                                              add_cation_pi_interactions,\n",
    "                                                              gp.add_hydrophobic_interactions,\n",
    "                                                              ]}\n",
    "\n",
    "\n",
    "            all_edge_func = {\"edge_construction_functions\": [\n",
    "\n",
    "                add_peptide_bonds,\n",
    "                add_aromatic_interactions,\n",
    "                add_hydrogen_bond_interactions,\n",
    "                add_disulfide_interactions,\n",
    "                add_ionic_interactions,\n",
    "                add_aromatic_sulphur_interactions,\n",
    "                add_cation_pi_interactions,\n",
    "                gp.add_hydrophobic_interactions,\n",
    "                gp.add_salt_bridges]}\n",
    "\n",
    "\n",
    "            config_1A = gp.ProteinGraphConfig(**{**test_edge_func, **one_hot})\n",
    "            config = config_1A #1A is least memory-intensive\n",
    "\n",
    "            # Attempt to construct graph from the PDB file\n",
    "            graph = construct_graph(path=source_path, config=config)\n",
    "\n",
    "            # If successful, copy to working directory\n",
    "            print(f\"✅ Success: {pdb_file}\")\n",
    "\n",
    "        except Exception as e:\n",
    "            # If failed, copy to broken directory\n",
    "            print(f\"❌ Failed: {pdb_file}\")\n",
    "            print(f\"   Error: {str(e)}\")\n",
    "\n",
    "    # Print summary\n",
    "    print(f\"\\nSummary:\")\n"
   ],
   "id": "70a8af1d05f655a7",
   "outputs": [
    {
     "name": "stdout",
     "output_type": "stream",
     "text": [
      "Graphein version: 1.7.7\n"
     ]
    }
   ],
   "execution_count": 32
  },
  {
   "metadata": {
    "ExecuteTime": {
     "end_time": "2025-03-26T10:41:55.711725Z",
     "start_time": "2025-03-26T10:41:11.118358Z"
    }
   },
   "cell_type": "code",
   "source": "examine_broken_pdb_files(\"~/nanobody_data/broken\")",
   "id": "94e97b544cc24599",
   "outputs": [
    {
     "data": {
      "text/plain": [
       "Output()"
      ],
      "application/vnd.jupyter.widget-view+json": {
       "version_major": 2,
       "version_minor": 0,
       "model_id": "0c6ea14538b548fca01e732b3b13de3b"
      }
     },
     "metadata": {},
     "output_type": "display_data"
    },
    {
     "data": {
      "text/plain": [],
      "text/html": [
       "<pre style=\"white-space:pre;overflow-x:auto;line-height:normal;font-family:Menlo,'DejaVu Sans Mono',consolas,'Courier New',monospace\"></pre>\n"
      ]
     },
     "metadata": {},
     "output_type": "display_data"
    },
    {
     "data": {
      "text/plain": [
       "Output()"
      ],
      "application/vnd.jupyter.widget-view+json": {
       "version_major": 2,
       "version_minor": 0,
       "model_id": "89c95a1f9f73445898c025395ee3b2c7"
      }
     },
     "metadata": {},
     "output_type": "display_data"
    },
    {
     "name": "stdout",
     "output_type": "stream",
     "text": [
      "✅ Success: 7TGF_nanobody_B.pdb\n"
     ]
    },
    {
     "data": {
      "text/plain": [],
      "text/html": [
       "<pre style=\"white-space:pre;overflow-x:auto;line-height:normal;font-family:Menlo,'DejaVu Sans Mono',consolas,'Courier New',monospace\"></pre>\n"
      ]
     },
     "metadata": {},
     "output_type": "display_data"
    },
    {
     "data": {
      "text/plain": [
       "Output()"
      ],
      "application/vnd.jupyter.widget-view+json": {
       "version_major": 2,
       "version_minor": 0,
       "model_id": "66b23b4702c4465b9c749e05050ec0e5"
      }
     },
     "metadata": {},
     "output_type": "display_data"
    },
    {
     "name": "stdout",
     "output_type": "stream",
     "text": [
      "✅ Success: 7T84_nanobody_B.pdb\n"
     ]
    },
    {
     "data": {
      "text/plain": [],
      "text/html": [
       "<pre style=\"white-space:pre;overflow-x:auto;line-height:normal;font-family:Menlo,'DejaVu Sans Mono',consolas,'Courier New',monospace\"></pre>\n"
      ]
     },
     "metadata": {},
     "output_type": "display_data"
    },
    {
     "data": {
      "text/plain": [
       "Output()"
      ],
      "application/vnd.jupyter.widget-view+json": {
       "version_major": 2,
       "version_minor": 0,
       "model_id": "b397fbaa2eb24343b9745acb5d14dfaa"
      }
     },
     "metadata": {},
     "output_type": "display_data"
    },
    {
     "name": "stdout",
     "output_type": "stream",
     "text": [
      "✅ Success: 8QGZ_nanobody_C.pdb\n"
     ]
    },
    {
     "data": {
      "text/plain": [],
      "text/html": [
       "<pre style=\"white-space:pre;overflow-x:auto;line-height:normal;font-family:Menlo,'DejaVu Sans Mono',consolas,'Courier New',monospace\"></pre>\n"
      ]
     },
     "metadata": {},
     "output_type": "display_data"
    },
    {
     "data": {
      "text/plain": [
       "Output()"
      ],
      "application/vnd.jupyter.widget-view+json": {
       "version_major": 2,
       "version_minor": 0,
       "model_id": "672fe7be26044828994eab7a52ec86d9"
      }
     },
     "metadata": {},
     "output_type": "display_data"
    },
    {
     "name": "stdout",
     "output_type": "stream",
     "text": [
      "✅ Success: 6ZHD_nanobody_E.pdb\n"
     ]
    },
    {
     "data": {
      "text/plain": [],
      "text/html": [
       "<pre style=\"white-space:pre;overflow-x:auto;line-height:normal;font-family:Menlo,'DejaVu Sans Mono',consolas,'Courier New',monospace\"></pre>\n"
      ]
     },
     "metadata": {},
     "output_type": "display_data"
    },
    {
     "data": {
      "text/plain": [
       "Output()"
      ],
      "application/vnd.jupyter.widget-view+json": {
       "version_major": 2,
       "version_minor": 0,
       "model_id": "20d1f4c25454410c83baa9c39228c5bb"
      }
     },
     "metadata": {},
     "output_type": "display_data"
    },
    {
     "name": "stdout",
     "output_type": "stream",
     "text": [
      "✅ Success: 7YZW_nanobody_C.pdb\n"
     ]
    },
    {
     "data": {
      "text/plain": [],
      "text/html": [
       "<pre style=\"white-space:pre;overflow-x:auto;line-height:normal;font-family:Menlo,'DejaVu Sans Mono',consolas,'Courier New',monospace\"></pre>\n"
      ]
     },
     "metadata": {},
     "output_type": "display_data"
    },
    {
     "data": {
      "text/plain": [
       "Output()"
      ],
      "application/vnd.jupyter.widget-view+json": {
       "version_major": 2,
       "version_minor": 0,
       "model_id": "a5d4b696e6614058ae084d7b4c436839"
      }
     },
     "metadata": {},
     "output_type": "display_data"
    },
    {
     "name": "stdout",
     "output_type": "stream",
     "text": [
      "✅ Success: 7O0S_nanobody_A.pdb\n"
     ]
    },
    {
     "data": {
      "text/plain": [],
      "text/html": [
       "<pre style=\"white-space:pre;overflow-x:auto;line-height:normal;font-family:Menlo,'DejaVu Sans Mono',consolas,'Courier New',monospace\"></pre>\n"
      ]
     },
     "metadata": {},
     "output_type": "display_data"
    },
    {
     "data": {
      "text/plain": [
       "Output()"
      ],
      "application/vnd.jupyter.widget-view+json": {
       "version_major": 2,
       "version_minor": 0,
       "model_id": "3430f42513064431a842b2fa6219c293"
      }
     },
     "metadata": {},
     "output_type": "display_data"
    },
    {
     "name": "stdout",
     "output_type": "stream",
     "text": [
      "✅ Success: 4HEM_nanobody_E.pdb\n"
     ]
    },
    {
     "data": {
      "text/plain": [],
      "text/html": [
       "<pre style=\"white-space:pre;overflow-x:auto;line-height:normal;font-family:Menlo,'DejaVu Sans Mono',consolas,'Courier New',monospace\"></pre>\n"
      ]
     },
     "metadata": {},
     "output_type": "display_data"
    },
    {
     "data": {
      "text/plain": [
       "Output()"
      ],
      "application/vnd.jupyter.widget-view+json": {
       "version_major": 2,
       "version_minor": 0,
       "model_id": "0fe16733035341b2b120144858c120b4"
      }
     },
     "metadata": {},
     "output_type": "display_data"
    },
    {
     "name": "stdout",
     "output_type": "stream",
     "text": [
      "✅ Success: 6XYM_nanobody_A.pdb\n"
     ]
    },
    {
     "data": {
      "text/plain": [],
      "text/html": [
       "<pre style=\"white-space:pre;overflow-x:auto;line-height:normal;font-family:Menlo,'DejaVu Sans Mono',consolas,'Courier New',monospace\"></pre>\n"
      ]
     },
     "metadata": {},
     "output_type": "display_data"
    },
    {
     "data": {
      "text/plain": [
       "Output()"
      ],
      "application/vnd.jupyter.widget-view+json": {
       "version_major": 2,
       "version_minor": 0,
       "model_id": "1dc951b6a2e443808352f076c21e831d"
      }
     },
     "metadata": {},
     "output_type": "display_data"
    },
    {
     "name": "stdout",
     "output_type": "stream",
     "text": [
      "✅ Success: 6LZ2_nanobody_B.pdb\n"
     ]
    },
    {
     "data": {
      "text/plain": [],
      "text/html": [
       "<pre style=\"white-space:pre;overflow-x:auto;line-height:normal;font-family:Menlo,'DejaVu Sans Mono',consolas,'Courier New',monospace\"></pre>\n"
      ]
     },
     "metadata": {},
     "output_type": "display_data"
    },
    {
     "name": "stdout",
     "output_type": "stream",
     "text": [
      "✅ Success: 8FQ7_nanobody_A.pdb\n"
     ]
    },
    {
     "data": {
      "text/plain": [
       "Output()"
      ],
      "application/vnd.jupyter.widget-view+json": {
       "version_major": 2,
       "version_minor": 0,
       "model_id": "a9641fa2b8de45fc9ac3543aeeaac5d8"
      }
     },
     "metadata": {},
     "output_type": "display_data"
    },
    {
     "data": {
      "text/plain": [],
      "text/html": [
       "<pre style=\"white-space:pre;overflow-x:auto;line-height:normal;font-family:Menlo,'DejaVu Sans Mono',consolas,'Courier New',monospace\"></pre>\n"
      ]
     },
     "metadata": {},
     "output_type": "display_data"
    },
    {
     "data": {
      "text/plain": [
       "Output()"
      ],
      "application/vnd.jupyter.widget-view+json": {
       "version_major": 2,
       "version_minor": 0,
       "model_id": "47c72445414742e18d416373b56ca2de"
      }
     },
     "metadata": {},
     "output_type": "display_data"
    },
    {
     "name": "stdout",
     "output_type": "stream",
     "text": [
      "✅ Success: 5LMJ_nanobody_C.pdb\n"
     ]
    },
    {
     "data": {
      "text/plain": [],
      "text/html": [
       "<pre style=\"white-space:pre;overflow-x:auto;line-height:normal;font-family:Menlo,'DejaVu Sans Mono',consolas,'Courier New',monospace\"></pre>\n"
      ]
     },
     "metadata": {},
     "output_type": "display_data"
    },
    {
     "data": {
      "text/plain": [
       "Output()"
      ],
      "application/vnd.jupyter.widget-view+json": {
       "version_major": 2,
       "version_minor": 0,
       "model_id": "0aa39e5e44f44f968a33046af7d8457b"
      }
     },
     "metadata": {},
     "output_type": "display_data"
    },
    {
     "name": "stdout",
     "output_type": "stream",
     "text": [
      "✅ Success: 6OQ8_nanobody_D.pdb\n"
     ]
    },
    {
     "data": {
      "text/plain": [],
      "text/html": [
       "<pre style=\"white-space:pre;overflow-x:auto;line-height:normal;font-family:Menlo,'DejaVu Sans Mono',consolas,'Courier New',monospace\"></pre>\n"
      ]
     },
     "metadata": {},
     "output_type": "display_data"
    },
    {
     "data": {
      "text/plain": [
       "Output()"
      ],
      "application/vnd.jupyter.widget-view+json": {
       "version_major": 2,
       "version_minor": 0,
       "model_id": "0f47300e9323431696780afff9ce08d0"
      }
     },
     "metadata": {},
     "output_type": "display_data"
    },
    {
     "name": "stdout",
     "output_type": "stream",
     "text": [
      "✅ Success: 7YZW_nanobody_B.pdb\n"
     ]
    },
    {
     "data": {
      "text/plain": [],
      "text/html": [
       "<pre style=\"white-space:pre;overflow-x:auto;line-height:normal;font-family:Menlo,'DejaVu Sans Mono',consolas,'Courier New',monospace\"></pre>\n"
      ]
     },
     "metadata": {},
     "output_type": "display_data"
    },
    {
     "data": {
      "text/plain": [
       "Output()"
      ],
      "application/vnd.jupyter.widget-view+json": {
       "version_major": 2,
       "version_minor": 0,
       "model_id": "51c5a6298ea6497eb12130281747fb05"
      }
     },
     "metadata": {},
     "output_type": "display_data"
    },
    {
     "name": "stdout",
     "output_type": "stream",
     "text": [
      "✅ Success: 7S2S_nanobody_A.pdb\n"
     ]
    },
    {
     "data": {
      "text/plain": [],
      "text/html": [
       "<pre style=\"white-space:pre;overflow-x:auto;line-height:normal;font-family:Menlo,'DejaVu Sans Mono',consolas,'Courier New',monospace\"></pre>\n"
      ]
     },
     "metadata": {},
     "output_type": "display_data"
    },
    {
     "data": {
      "text/plain": [
       "Output()"
      ],
      "application/vnd.jupyter.widget-view+json": {
       "version_major": 2,
       "version_minor": 0,
       "model_id": "04daa3e264c14cdfadb68c352b508dbb"
      }
     },
     "metadata": {},
     "output_type": "display_data"
    },
    {
     "name": "stdout",
     "output_type": "stream",
     "text": [
      "✅ Success: 6ZHD_nanobody_D.pdb\n"
     ]
    },
    {
     "data": {
      "text/plain": [],
      "text/html": [
       "<pre style=\"white-space:pre;overflow-x:auto;line-height:normal;font-family:Menlo,'DejaVu Sans Mono',consolas,'Courier New',monospace\"></pre>\n"
      ]
     },
     "metadata": {},
     "output_type": "display_data"
    },
    {
     "data": {
      "text/plain": [
       "Output()"
      ],
      "application/vnd.jupyter.widget-view+json": {
       "version_major": 2,
       "version_minor": 0,
       "model_id": "0d09f764f3304fe38046760b006baf81"
      }
     },
     "metadata": {},
     "output_type": "display_data"
    },
    {
     "name": "stdout",
     "output_type": "stream",
     "text": [
      "✅ Success: 8QGZ_nanobody_B.pdb\n"
     ]
    },
    {
     "data": {
      "text/plain": [],
      "text/html": [
       "<pre style=\"white-space:pre;overflow-x:auto;line-height:normal;font-family:Menlo,'DejaVu Sans Mono',consolas,'Courier New',monospace\"></pre>\n"
      ]
     },
     "metadata": {},
     "output_type": "display_data"
    },
    {
     "data": {
      "text/plain": [
       "Output()"
      ],
      "application/vnd.jupyter.widget-view+json": {
       "version_major": 2,
       "version_minor": 0,
       "model_id": "83724feabdd94595b3b2559916aefccc"
      }
     },
     "metadata": {},
     "output_type": "display_data"
    },
    {
     "name": "stdout",
     "output_type": "stream",
     "text": [
      "✅ Success: 8B18_nanobody_B.pdb\n"
     ]
    },
    {
     "data": {
      "text/plain": [],
      "text/html": [
       "<pre style=\"white-space:pre;overflow-x:auto;line-height:normal;font-family:Menlo,'DejaVu Sans Mono',consolas,'Courier New',monospace\"></pre>\n"
      ]
     },
     "metadata": {},
     "output_type": "display_data"
    },
    {
     "data": {
      "text/plain": [
       "Output()"
      ],
      "application/vnd.jupyter.widget-view+json": {
       "version_major": 2,
       "version_minor": 0,
       "model_id": "ae0d222d1e434b6fa5531ce48ed363ba"
      }
     },
     "metadata": {},
     "output_type": "display_data"
    },
    {
     "name": "stdout",
     "output_type": "stream",
     "text": [
      "✅ Success: 4C59_nanobody_B.pdb\n"
     ]
    },
    {
     "data": {
      "text/plain": [],
      "text/html": [
       "<pre style=\"white-space:pre;overflow-x:auto;line-height:normal;font-family:Menlo,'DejaVu Sans Mono',consolas,'Courier New',monospace\"></pre>\n"
      ]
     },
     "metadata": {},
     "output_type": "display_data"
    },
    {
     "data": {
      "text/plain": [
       "Output()"
      ],
      "application/vnd.jupyter.widget-view+json": {
       "version_major": 2,
       "version_minor": 0,
       "model_id": "c0d699ae65e84714a74ea7ec6bb0859b"
      }
     },
     "metadata": {},
     "output_type": "display_data"
    },
    {
     "name": "stdout",
     "output_type": "stream",
     "text": [
      "✅ Success: 2X6M_nanobody_A.pdb\n"
     ]
    },
    {
     "data": {
      "text/plain": [],
      "text/html": [
       "<pre style=\"white-space:pre;overflow-x:auto;line-height:normal;font-family:Menlo,'DejaVu Sans Mono',consolas,'Courier New',monospace\"></pre>\n"
      ]
     },
     "metadata": {},
     "output_type": "display_data"
    },
    {
     "data": {
      "text/plain": [
       "Output()"
      ],
      "application/vnd.jupyter.widget-view+json": {
       "version_major": 2,
       "version_minor": 0,
       "model_id": "5a99604d44da439c86f3a03ecf629ec8"
      }
     },
     "metadata": {},
     "output_type": "display_data"
    },
    {
     "name": "stdout",
     "output_type": "stream",
     "text": [
      "✅ Success: 6ZHD_nanobody_F.pdb\n"
     ]
    },
    {
     "data": {
      "text/plain": [],
      "text/html": [
       "<pre style=\"white-space:pre;overflow-x:auto;line-height:normal;font-family:Menlo,'DejaVu Sans Mono',consolas,'Courier New',monospace\"></pre>\n"
      ]
     },
     "metadata": {},
     "output_type": "display_data"
    },
    {
     "data": {
      "text/plain": [
       "Output()"
      ],
      "application/vnd.jupyter.widget-view+json": {
       "version_major": 2,
       "version_minor": 0,
       "model_id": "c2a350c374704beea307d7b8348649d0"
      }
     },
     "metadata": {},
     "output_type": "display_data"
    },
    {
     "name": "stdout",
     "output_type": "stream",
     "text": [
      "✅ Success: 8B17_nanobody_B.pdb\n"
     ]
    },
    {
     "data": {
      "text/plain": [],
      "text/html": [
       "<pre style=\"white-space:pre;overflow-x:auto;line-height:normal;font-family:Menlo,'DejaVu Sans Mono',consolas,'Courier New',monospace\"></pre>\n"
      ]
     },
     "metadata": {},
     "output_type": "display_data"
    },
    {
     "data": {
      "text/plain": [
       "Output()"
      ],
      "application/vnd.jupyter.widget-view+json": {
       "version_major": 2,
       "version_minor": 0,
       "model_id": "146776ac55fe4e03b5f2d1ec4f22a082"
      }
     },
     "metadata": {},
     "output_type": "display_data"
    },
    {
     "data": {
      "text/plain": [],
      "text/html": [
       "<pre style=\"white-space:pre;overflow-x:auto;line-height:normal;font-family:Menlo,'DejaVu Sans Mono',consolas,'Courier New',monospace\"></pre>\n"
      ]
     },
     "metadata": {},
     "output_type": "display_data"
    },
    {
     "data": {
      "text/plain": [
       "Output()"
      ],
      "application/vnd.jupyter.widget-view+json": {
       "version_major": 2,
       "version_minor": 0,
       "model_id": "69efd1a037884018bd733b3f83456bb7"
      }
     },
     "metadata": {},
     "output_type": "display_data"
    },
    {
     "name": "stdout",
     "output_type": "stream",
     "text": [
      "✅ Success: 7NP9_nanobody_C.pdb\n"
     ]
    },
    {
     "data": {
      "text/plain": [],
      "text/html": [
       "<pre style=\"white-space:pre;overflow-x:auto;line-height:normal;font-family:Menlo,'DejaVu Sans Mono',consolas,'Courier New',monospace\"></pre>\n"
      ]
     },
     "metadata": {},
     "output_type": "display_data"
    },
    {
     "data": {
      "text/plain": [
       "Output()"
      ],
      "application/vnd.jupyter.widget-view+json": {
       "version_major": 2,
       "version_minor": 0,
       "model_id": "6b220897d3f445489aca27b4c434ba8e"
      }
     },
     "metadata": {},
     "output_type": "display_data"
    },
    {
     "name": "stdout",
     "output_type": "stream",
     "text": [
      "✅ Success: 7R20_nanobody_B.pdb\n"
     ]
    },
    {
     "data": {
      "text/plain": [],
      "text/html": [
       "<pre style=\"white-space:pre;overflow-x:auto;line-height:normal;font-family:Menlo,'DejaVu Sans Mono',consolas,'Courier New',monospace\"></pre>\n"
      ]
     },
     "metadata": {},
     "output_type": "display_data"
    },
    {
     "data": {
      "text/plain": [
       "Output()"
      ],
      "application/vnd.jupyter.widget-view+json": {
       "version_major": 2,
       "version_minor": 0,
       "model_id": "765f609ecaa4499688ae56efb1a3b6a5"
      }
     },
     "metadata": {},
     "output_type": "display_data"
    },
    {
     "name": "stdout",
     "output_type": "stream",
     "text": [
      "✅ Success: 8QZ3_nanobody_C.pdb\n"
     ]
    },
    {
     "data": {
      "text/plain": [],
      "text/html": [
       "<pre style=\"white-space:pre;overflow-x:auto;line-height:normal;font-family:Menlo,'DejaVu Sans Mono',consolas,'Courier New',monospace\"></pre>\n"
      ]
     },
     "metadata": {},
     "output_type": "display_data"
    },
    {
     "data": {
      "text/plain": [
       "Output()"
      ],
      "application/vnd.jupyter.widget-view+json": {
       "version_major": 2,
       "version_minor": 0,
       "model_id": "bd58954f72d84fc8b78c63acd42fa9f2"
      }
     },
     "metadata": {},
     "output_type": "display_data"
    },
    {
     "name": "stdout",
     "output_type": "stream",
     "text": [
      "✅ Success: 4HEM_nanobody_F.pdb\n"
     ]
    },
    {
     "data": {
      "text/plain": [],
      "text/html": [
       "<pre style=\"white-space:pre;overflow-x:auto;line-height:normal;font-family:Menlo,'DejaVu Sans Mono',consolas,'Courier New',monospace\"></pre>\n"
      ]
     },
     "metadata": {},
     "output_type": "display_data"
    },
    {
     "data": {
      "text/plain": [
       "Output()"
      ],
      "application/vnd.jupyter.widget-view+json": {
       "version_major": 2,
       "version_minor": 0,
       "model_id": "76510f4cd454481992391a251360089e"
      }
     },
     "metadata": {},
     "output_type": "display_data"
    },
    {
     "name": "stdout",
     "output_type": "stream",
     "text": [
      "✅ Success: 5DXW_nanobody_A.pdb\n"
     ]
    },
    {
     "data": {
      "text/plain": [],
      "text/html": [
       "<pre style=\"white-space:pre;overflow-x:auto;line-height:normal;font-family:Menlo,'DejaVu Sans Mono',consolas,'Courier New',monospace\"></pre>\n"
      ]
     },
     "metadata": {},
     "output_type": "display_data"
    },
    {
     "data": {
      "text/plain": [
       "Output()"
      ],
      "application/vnd.jupyter.widget-view+json": {
       "version_major": 2,
       "version_minor": 0,
       "model_id": "c8f5db6097bd4c9dbbcc1fe71103900c"
      }
     },
     "metadata": {},
     "output_type": "display_data"
    },
    {
     "name": "stdout",
     "output_type": "stream",
     "text": [
      "✅ Success: 7AQZ_nanobody_C.pdb\n"
     ]
    },
    {
     "data": {
      "text/plain": [],
      "text/html": [
       "<pre style=\"white-space:pre;overflow-x:auto;line-height:normal;font-family:Menlo,'DejaVu Sans Mono',consolas,'Courier New',monospace\"></pre>\n"
      ]
     },
     "metadata": {},
     "output_type": "display_data"
    },
    {
     "data": {
      "text/plain": [
       "Output()"
      ],
      "application/vnd.jupyter.widget-view+json": {
       "version_major": 2,
       "version_minor": 0,
       "model_id": "3524184b761844c3808bae6cf46330ec"
      }
     },
     "metadata": {},
     "output_type": "display_data"
    },
    {
     "name": "stdout",
     "output_type": "stream",
     "text": [
      "✅ Success: 6XXO_nanobody_A.pdb\n"
     ]
    },
    {
     "data": {
      "text/plain": [],
      "text/html": [
       "<pre style=\"white-space:pre;overflow-x:auto;line-height:normal;font-family:Menlo,'DejaVu Sans Mono',consolas,'Courier New',monospace\"></pre>\n"
      ]
     },
     "metadata": {},
     "output_type": "display_data"
    },
    {
     "data": {
      "text/plain": [
       "Output()"
      ],
      "application/vnd.jupyter.widget-view+json": {
       "version_major": 2,
       "version_minor": 0,
       "model_id": "e53b12fec8a849e1ab70166d82199ef4"
      }
     },
     "metadata": {},
     "output_type": "display_data"
    },
    {
     "name": "stdout",
     "output_type": "stream",
     "text": [
      "✅ Success: 7YZW_nanobody_A.pdb\n"
     ]
    },
    {
     "data": {
      "text/plain": [],
      "text/html": [
       "<pre style=\"white-space:pre;overflow-x:auto;line-height:normal;font-family:Menlo,'DejaVu Sans Mono',consolas,'Courier New',monospace\"></pre>\n"
      ]
     },
     "metadata": {},
     "output_type": "display_data"
    },
    {
     "data": {
      "text/plain": [
       "Output()"
      ],
      "application/vnd.jupyter.widget-view+json": {
       "version_major": 2,
       "version_minor": 0,
       "model_id": "14b45da9a3e7414da784bd792b52aab7"
      }
     },
     "metadata": {},
     "output_type": "display_data"
    },
    {
     "name": "stdout",
     "output_type": "stream",
     "text": [
      "✅ Success: 7NBB_nanobody_H.pdb\n"
     ]
    },
    {
     "data": {
      "text/plain": [],
      "text/html": [
       "<pre style=\"white-space:pre;overflow-x:auto;line-height:normal;font-family:Menlo,'DejaVu Sans Mono',consolas,'Courier New',monospace\"></pre>\n"
      ]
     },
     "metadata": {},
     "output_type": "display_data"
    },
    {
     "data": {
      "text/plain": [
       "Output()"
      ],
      "application/vnd.jupyter.widget-view+json": {
       "version_major": 2,
       "version_minor": 0,
       "model_id": "77e4b93de4b9473c8c74b10084ecbea3"
      }
     },
     "metadata": {},
     "output_type": "display_data"
    },
    {
     "name": "stdout",
     "output_type": "stream",
     "text": [
      "✅ Success: 7YZ9_nanobody_B.pdb\n"
     ]
    },
    {
     "data": {
      "text/plain": [],
      "text/html": [
       "<pre style=\"white-space:pre;overflow-x:auto;line-height:normal;font-family:Menlo,'DejaVu Sans Mono',consolas,'Courier New',monospace\"></pre>\n"
      ]
     },
     "metadata": {},
     "output_type": "display_data"
    },
    {
     "data": {
      "text/plain": [
       "Output()"
      ],
      "application/vnd.jupyter.widget-view+json": {
       "version_major": 2,
       "version_minor": 0,
       "model_id": "edee39f7ee274a98b58dd8a08bbdd31f"
      }
     },
     "metadata": {},
     "output_type": "display_data"
    },
    {
     "name": "stdout",
     "output_type": "stream",
     "text": [
      "✅ Success: 6JB9_nanobody_A.pdb\n"
     ]
    },
    {
     "data": {
      "text/plain": [],
      "text/html": [
       "<pre style=\"white-space:pre;overflow-x:auto;line-height:normal;font-family:Menlo,'DejaVu Sans Mono',consolas,'Courier New',monospace\"></pre>\n"
      ]
     },
     "metadata": {},
     "output_type": "display_data"
    },
    {
     "data": {
      "text/plain": [
       "Output()"
      ],
      "application/vnd.jupyter.widget-view+json": {
       "version_major": 2,
       "version_minor": 0,
       "model_id": "e710a084405b4adfbcf5c9828a93e6d7"
      }
     },
     "metadata": {},
     "output_type": "display_data"
    },
    {
     "data": {
      "text/plain": [],
      "text/html": [
       "<pre style=\"white-space:pre;overflow-x:auto;line-height:normal;font-family:Menlo,'DejaVu Sans Mono',consolas,'Courier New',monospace\"></pre>\n"
      ]
     },
     "metadata": {},
     "output_type": "display_data"
    },
    {
     "data": {
      "text/plain": [
       "Output()"
      ],
      "application/vnd.jupyter.widget-view+json": {
       "version_major": 2,
       "version_minor": 0,
       "model_id": "2a38a2b7bfc24e2293efe08350e7929c"
      }
     },
     "metadata": {},
     "output_type": "display_data"
    },
    {
     "name": "stdout",
     "output_type": "stream",
     "text": [
      "✅ Success: 4JVP_nanobody_B.pdb\n"
     ]
    },
    {
     "data": {
      "text/plain": [],
      "text/html": [
       "<pre style=\"white-space:pre;overflow-x:auto;line-height:normal;font-family:Menlo,'DejaVu Sans Mono',consolas,'Courier New',monospace\"></pre>\n"
      ]
     },
     "metadata": {},
     "output_type": "display_data"
    },
    {
     "data": {
      "text/plain": [
       "Output()"
      ],
      "application/vnd.jupyter.widget-view+json": {
       "version_major": 2,
       "version_minor": 0,
       "model_id": "804a645c1cfc4becbd108470d26958a4"
      }
     },
     "metadata": {},
     "output_type": "display_data"
    },
    {
     "name": "stdout",
     "output_type": "stream",
     "text": [
      "✅ Success: 6OQ8_nanobody_C.pdb\n"
     ]
    },
    {
     "data": {
      "text/plain": [],
      "text/html": [
       "<pre style=\"white-space:pre;overflow-x:auto;line-height:normal;font-family:Menlo,'DejaVu Sans Mono',consolas,'Courier New',monospace\"></pre>\n"
      ]
     },
     "metadata": {},
     "output_type": "display_data"
    },
    {
     "data": {
      "text/plain": [
       "Output()"
      ],
      "application/vnd.jupyter.widget-view+json": {
       "version_major": 2,
       "version_minor": 0,
       "model_id": "8ebebb6b99824c02a2d849f5b12dde2f"
      }
     },
     "metadata": {},
     "output_type": "display_data"
    },
    {
     "name": "stdout",
     "output_type": "stream",
     "text": [
      "✅ Success: 8CDS_nanobody_A.pdb\n"
     ]
    },
    {
     "data": {
      "text/plain": [],
      "text/html": [
       "<pre style=\"white-space:pre;overflow-x:auto;line-height:normal;font-family:Menlo,'DejaVu Sans Mono',consolas,'Courier New',monospace\"></pre>\n"
      ]
     },
     "metadata": {},
     "output_type": "display_data"
    },
    {
     "data": {
      "text/plain": [
       "Output()"
      ],
      "application/vnd.jupyter.widget-view+json": {
       "version_major": 2,
       "version_minor": 0,
       "model_id": "2a92f9aa52ef4c0886d05d553dddca5f"
      }
     },
     "metadata": {},
     "output_type": "display_data"
    },
    {
     "name": "stdout",
     "output_type": "stream",
     "text": [
      "✅ Success: 4TVS_nanobody_a.pdb\n"
     ]
    },
    {
     "data": {
      "text/plain": [],
      "text/html": [
       "<pre style=\"white-space:pre;overflow-x:auto;line-height:normal;font-family:Menlo,'DejaVu Sans Mono',consolas,'Courier New',monospace\"></pre>\n"
      ]
     },
     "metadata": {},
     "output_type": "display_data"
    },
    {
     "data": {
      "text/plain": [
       "Output()"
      ],
      "application/vnd.jupyter.widget-view+json": {
       "version_major": 2,
       "version_minor": 0,
       "model_id": "3d8445abc8ed4afc87291c680a0fae00"
      }
     },
     "metadata": {},
     "output_type": "display_data"
    },
    {
     "name": "stdout",
     "output_type": "stream",
     "text": [
      "✅ Success: 6LZ2_nanobody_D.pdb\n"
     ]
    },
    {
     "data": {
      "text/plain": [],
      "text/html": [
       "<pre style=\"white-space:pre;overflow-x:auto;line-height:normal;font-family:Menlo,'DejaVu Sans Mono',consolas,'Courier New',monospace\"></pre>\n"
      ]
     },
     "metadata": {},
     "output_type": "display_data"
    },
    {
     "data": {
      "text/plain": [
       "Output()"
      ],
      "application/vnd.jupyter.widget-view+json": {
       "version_major": 2,
       "version_minor": 0,
       "model_id": "b7bd5592bbd64c65a1b6dd87a5ae2cfb"
      }
     },
     "metadata": {},
     "output_type": "display_data"
    },
    {
     "name": "stdout",
     "output_type": "stream",
     "text": [
      "✅ Success: 4B41_nanobody_B.pdb\n"
     ]
    },
    {
     "data": {
      "text/plain": [],
      "text/html": [
       "<pre style=\"white-space:pre;overflow-x:auto;line-height:normal;font-family:Menlo,'DejaVu Sans Mono',consolas,'Courier New',monospace\"></pre>\n"
      ]
     },
     "metadata": {},
     "output_type": "display_data"
    },
    {
     "data": {
      "text/plain": [
       "Output()"
      ],
      "application/vnd.jupyter.widget-view+json": {
       "version_major": 2,
       "version_minor": 0,
       "model_id": "7e3dd07c29ab45b99a1494737dc4d60d"
      }
     },
     "metadata": {},
     "output_type": "display_data"
    },
    {
     "name": "stdout",
     "output_type": "stream",
     "text": [
      "✅ Success: 7LDJ_nanobody_E.pdb\n"
     ]
    },
    {
     "data": {
      "text/plain": [],
      "text/html": [
       "<pre style=\"white-space:pre;overflow-x:auto;line-height:normal;font-family:Menlo,'DejaVu Sans Mono',consolas,'Courier New',monospace\"></pre>\n"
      ]
     },
     "metadata": {},
     "output_type": "display_data"
    },
    {
     "data": {
      "text/plain": [
       "Output()"
      ],
      "application/vnd.jupyter.widget-view+json": {
       "version_major": 2,
       "version_minor": 0,
       "model_id": "bac1d3c57ff9443d96ea11e751dd6c1f"
      }
     },
     "metadata": {},
     "output_type": "display_data"
    },
    {
     "name": "stdout",
     "output_type": "stream",
     "text": [
      "✅ Success: 8E1B_nanobody_A.pdb\n"
     ]
    },
    {
     "data": {
      "text/plain": [],
      "text/html": [
       "<pre style=\"white-space:pre;overflow-x:auto;line-height:normal;font-family:Menlo,'DejaVu Sans Mono',consolas,'Courier New',monospace\"></pre>\n"
      ]
     },
     "metadata": {},
     "output_type": "display_data"
    },
    {
     "data": {
      "text/plain": [
       "Output()"
      ],
      "application/vnd.jupyter.widget-view+json": {
       "version_major": 2,
       "version_minor": 0,
       "model_id": "599ff0ade3f24896ace1713bc8c28e76"
      }
     },
     "metadata": {},
     "output_type": "display_data"
    },
    {
     "name": "stdout",
     "output_type": "stream",
     "text": [
      "✅ Success: 6U14_nanobody_B.pdb\n"
     ]
    },
    {
     "data": {
      "text/plain": [],
      "text/html": [
       "<pre style=\"white-space:pre;overflow-x:auto;line-height:normal;font-family:Menlo,'DejaVu Sans Mono',consolas,'Courier New',monospace\"></pre>\n"
      ]
     },
     "metadata": {},
     "output_type": "display_data"
    },
    {
     "data": {
      "text/plain": [
       "Output()"
      ],
      "application/vnd.jupyter.widget-view+json": {
       "version_major": 2,
       "version_minor": 0,
       "model_id": "cf88223c373940e68de7965f9b1d0c0f"
      }
     },
     "metadata": {},
     "output_type": "display_data"
    },
    {
     "name": "stdout",
     "output_type": "stream",
     "text": [
      "✅ Success: 8SK5_nanobody_B.pdb\n"
     ]
    },
    {
     "data": {
      "text/plain": [],
      "text/html": [
       "<pre style=\"white-space:pre;overflow-x:auto;line-height:normal;font-family:Menlo,'DejaVu Sans Mono',consolas,'Courier New',monospace\"></pre>\n"
      ]
     },
     "metadata": {},
     "output_type": "display_data"
    },
    {
     "data": {
      "text/plain": [
       "Output()"
      ],
      "application/vnd.jupyter.widget-view+json": {
       "version_major": 2,
       "version_minor": 0,
       "model_id": "94712c8505084e47adab2fd1baa2b675"
      }
     },
     "metadata": {},
     "output_type": "display_data"
    },
    {
     "name": "stdout",
     "output_type": "stream",
     "text": [
      "✅ Success: 7T84_nanobody_G.pdb\n"
     ]
    },
    {
     "data": {
      "text/plain": [],
      "text/html": [
       "<pre style=\"white-space:pre;overflow-x:auto;line-height:normal;font-family:Menlo,'DejaVu Sans Mono',consolas,'Courier New',monospace\"></pre>\n"
      ]
     },
     "metadata": {},
     "output_type": "display_data"
    },
    {
     "data": {
      "text/plain": [
       "Output()"
      ],
      "application/vnd.jupyter.widget-view+json": {
       "version_major": 2,
       "version_minor": 0,
       "model_id": "55d003c37ec44daf8dc090bbcf14eaa4"
      }
     },
     "metadata": {},
     "output_type": "display_data"
    },
    {
     "name": "stdout",
     "output_type": "stream",
     "text": [
      "✅ Success: 7YZW_nanobody_F.pdb\n"
     ]
    },
    {
     "data": {
      "text/plain": [],
      "text/html": [
       "<pre style=\"white-space:pre;overflow-x:auto;line-height:normal;font-family:Menlo,'DejaVu Sans Mono',consolas,'Courier New',monospace\"></pre>\n"
      ]
     },
     "metadata": {},
     "output_type": "display_data"
    },
    {
     "data": {
      "text/plain": [
       "Output()"
      ],
      "application/vnd.jupyter.widget-view+json": {
       "version_major": 2,
       "version_minor": 0,
       "model_id": "fa53c78ab6ba4ac9a1ab1853ca7bcf3f"
      }
     },
     "metadata": {},
     "output_type": "display_data"
    },
    {
     "name": "stdout",
     "output_type": "stream",
     "text": [
      "✅ Success: 4C58_nanobody_B.pdb\n"
     ]
    },
    {
     "data": {
      "text/plain": [],
      "text/html": [
       "<pre style=\"white-space:pre;overflow-x:auto;line-height:normal;font-family:Menlo,'DejaVu Sans Mono',consolas,'Courier New',monospace\"></pre>\n"
      ]
     },
     "metadata": {},
     "output_type": "display_data"
    },
    {
     "data": {
      "text/plain": [
       "Output()"
      ],
      "application/vnd.jupyter.widget-view+json": {
       "version_major": 2,
       "version_minor": 0,
       "model_id": "43ba184574954c0a98fed904b2ebb269"
      }
     },
     "metadata": {},
     "output_type": "display_data"
    },
    {
     "name": "stdout",
     "output_type": "stream",
     "text": [
      "✅ Success: 4JVP_nanobody_A.pdb\n"
     ]
    },
    {
     "data": {
      "text/plain": [],
      "text/html": [
       "<pre style=\"white-space:pre;overflow-x:auto;line-height:normal;font-family:Menlo,'DejaVu Sans Mono',consolas,'Courier New',monospace\"></pre>\n"
      ]
     },
     "metadata": {},
     "output_type": "display_data"
    },
    {
     "data": {
      "text/plain": [
       "Output()"
      ],
      "application/vnd.jupyter.widget-view+json": {
       "version_major": 2,
       "version_minor": 0,
       "model_id": "989ee9519429403b8d4a8d481f544251"
      }
     },
     "metadata": {},
     "output_type": "display_data"
    },
    {
     "name": "stdout",
     "output_type": "stream",
     "text": [
      "✅ Success: 8CDT_nanobody_A.pdb\n"
     ]
    },
    {
     "data": {
      "text/plain": [],
      "text/html": [
       "<pre style=\"white-space:pre;overflow-x:auto;line-height:normal;font-family:Menlo,'DejaVu Sans Mono',consolas,'Courier New',monospace\"></pre>\n"
      ]
     },
     "metadata": {},
     "output_type": "display_data"
    },
    {
     "data": {
      "text/plain": [
       "Output()"
      ],
      "application/vnd.jupyter.widget-view+json": {
       "version_major": 2,
       "version_minor": 0,
       "model_id": "6f192b27057c4725925bd183340fbc5d"
      }
     },
     "metadata": {},
     "output_type": "display_data"
    },
    {
     "name": "stdout",
     "output_type": "stream",
     "text": [
      "✅ Success: 8B19_nanobody_B.pdb\n"
     ]
    },
    {
     "data": {
      "text/plain": [],
      "text/html": [
       "<pre style=\"white-space:pre;overflow-x:auto;line-height:normal;font-family:Menlo,'DejaVu Sans Mono',consolas,'Courier New',monospace\"></pre>\n"
      ]
     },
     "metadata": {},
     "output_type": "display_data"
    },
    {
     "data": {
      "text/plain": [
       "Output()"
      ],
      "application/vnd.jupyter.widget-view+json": {
       "version_major": 2,
       "version_minor": 0,
       "model_id": "a9543084dee441a49b1680a42aa4f37f"
      }
     },
     "metadata": {},
     "output_type": "display_data"
    },
    {
     "name": "stdout",
     "output_type": "stream",
     "text": [
      "✅ Success: 4WEM_nanobody_B.pdb\n"
     ]
    },
    {
     "data": {
      "text/plain": [],
      "text/html": [
       "<pre style=\"white-space:pre;overflow-x:auto;line-height:normal;font-family:Menlo,'DejaVu Sans Mono',consolas,'Courier New',monospace\"></pre>\n"
      ]
     },
     "metadata": {},
     "output_type": "display_data"
    },
    {
     "data": {
      "text/plain": [
       "Output()"
      ],
      "application/vnd.jupyter.widget-view+json": {
       "version_major": 2,
       "version_minor": 0,
       "model_id": "afe2f3a8e2a7496592fd4f93b80fde62"
      }
     },
     "metadata": {},
     "output_type": "display_data"
    },
    {
     "name": "stdout",
     "output_type": "stream",
     "text": [
      "✅ Success: 4B41_nanobody_A.pdb\n"
     ]
    },
    {
     "data": {
      "text/plain": [],
      "text/html": [
       "<pre style=\"white-space:pre;overflow-x:auto;line-height:normal;font-family:Menlo,'DejaVu Sans Mono',consolas,'Courier New',monospace\"></pre>\n"
      ]
     },
     "metadata": {},
     "output_type": "display_data"
    },
    {
     "data": {
      "text/plain": [
       "Output()"
      ],
      "application/vnd.jupyter.widget-view+json": {
       "version_major": 2,
       "version_minor": 0,
       "model_id": "581c6e9f789a47c9b9573f9fb3812bda"
      }
     },
     "metadata": {},
     "output_type": "display_data"
    },
    {
     "name": "stdout",
     "output_type": "stream",
     "text": [
      "✅ Success: 6APP_nanobody_A.pdb\n"
     ]
    },
    {
     "data": {
      "text/plain": [],
      "text/html": [
       "<pre style=\"white-space:pre;overflow-x:auto;line-height:normal;font-family:Menlo,'DejaVu Sans Mono',consolas,'Courier New',monospace\"></pre>\n"
      ]
     },
     "metadata": {},
     "output_type": "display_data"
    },
    {
     "data": {
      "text/plain": [
       "Output()"
      ],
      "application/vnd.jupyter.widget-view+json": {
       "version_major": 2,
       "version_minor": 0,
       "model_id": "68494e579161468586741ab7fefbe7fc"
      }
     },
     "metadata": {},
     "output_type": "display_data"
    },
    {
     "name": "stdout",
     "output_type": "stream",
     "text": [
      "✅ Success: 6OC8_nanobody_D.pdb\n"
     ]
    },
    {
     "data": {
      "text/plain": [],
      "text/html": [
       "<pre style=\"white-space:pre;overflow-x:auto;line-height:normal;font-family:Menlo,'DejaVu Sans Mono',consolas,'Courier New',monospace\"></pre>\n"
      ]
     },
     "metadata": {},
     "output_type": "display_data"
    },
    {
     "data": {
      "text/plain": [
       "Output()"
      ],
      "application/vnd.jupyter.widget-view+json": {
       "version_major": 2,
       "version_minor": 0,
       "model_id": "ec17e03c63cb4e2dac208c15065f7b39"
      }
     },
     "metadata": {},
     "output_type": "display_data"
    },
    {
     "name": "stdout",
     "output_type": "stream",
     "text": [
      "✅ Success: 5FWO_nanobody_A.pdb\n"
     ]
    },
    {
     "data": {
      "text/plain": [],
      "text/html": [
       "<pre style=\"white-space:pre;overflow-x:auto;line-height:normal;font-family:Menlo,'DejaVu Sans Mono',consolas,'Courier New',monospace\"></pre>\n"
      ]
     },
     "metadata": {},
     "output_type": "display_data"
    },
    {
     "data": {
      "text/plain": [
       "Output()"
      ],
      "application/vnd.jupyter.widget-view+json": {
       "version_major": 2,
       "version_minor": 0,
       "model_id": "d6d292f7b1a346a6b0e1ad0be0cfcc5e"
      }
     },
     "metadata": {},
     "output_type": "display_data"
    },
    {
     "name": "stdout",
     "output_type": "stream",
     "text": [
      "✅ Success: 6U14_nanobody_A.pdb\n"
     ]
    },
    {
     "data": {
      "text/plain": [],
      "text/html": [
       "<pre style=\"white-space:pre;overflow-x:auto;line-height:normal;font-family:Menlo,'DejaVu Sans Mono',consolas,'Courier New',monospace\"></pre>\n"
      ]
     },
     "metadata": {},
     "output_type": "display_data"
    },
    {
     "data": {
      "text/plain": [
       "Output()"
      ],
      "application/vnd.jupyter.widget-view+json": {
       "version_major": 2,
       "version_minor": 0,
       "model_id": "3c426857be674f378896dbe1acafc56a"
      }
     },
     "metadata": {},
     "output_type": "display_data"
    },
    {
     "name": "stdout",
     "output_type": "stream",
     "text": [
      "✅ Success: 9G2G_nanobody_C.pdb\n"
     ]
    },
    {
     "data": {
      "text/plain": [],
      "text/html": [
       "<pre style=\"white-space:pre;overflow-x:auto;line-height:normal;font-family:Menlo,'DejaVu Sans Mono',consolas,'Courier New',monospace\"></pre>\n"
      ]
     },
     "metadata": {},
     "output_type": "display_data"
    },
    {
     "data": {
      "text/plain": [
       "Output()"
      ],
      "application/vnd.jupyter.widget-view+json": {
       "version_major": 2,
       "version_minor": 0,
       "model_id": "c217d41ced9e43ffabac731d8093d2bd"
      }
     },
     "metadata": {},
     "output_type": "display_data"
    },
    {
     "name": "stdout",
     "output_type": "stream",
     "text": [
      "✅ Success: 5O04_nanobody_C.pdb\n"
     ]
    },
    {
     "data": {
      "text/plain": [],
      "text/html": [
       "<pre style=\"white-space:pre;overflow-x:auto;line-height:normal;font-family:Menlo,'DejaVu Sans Mono',consolas,'Courier New',monospace\"></pre>\n"
      ]
     },
     "metadata": {},
     "output_type": "display_data"
    },
    {
     "data": {
      "text/plain": [
       "Output()"
      ],
      "application/vnd.jupyter.widget-view+json": {
       "version_major": 2,
       "version_minor": 0,
       "model_id": "edeaf08e46cf43bda420ab4d5518cfe5"
      }
     },
     "metadata": {},
     "output_type": "display_data"
    },
    {
     "name": "stdout",
     "output_type": "stream",
     "text": [
      "✅ Success: 7ZMN_nanobody_K.pdb\n"
     ]
    },
    {
     "data": {
      "text/plain": [],
      "text/html": [
       "<pre style=\"white-space:pre;overflow-x:auto;line-height:normal;font-family:Menlo,'DejaVu Sans Mono',consolas,'Courier New',monospace\"></pre>\n"
      ]
     },
     "metadata": {},
     "output_type": "display_data"
    },
    {
     "data": {
      "text/plain": [
       "Output()"
      ],
      "application/vnd.jupyter.widget-view+json": {
       "version_major": 2,
       "version_minor": 0,
       "model_id": "de0073c941b945a194c7dd72a64ca2ec"
      }
     },
     "metadata": {},
     "output_type": "display_data"
    },
    {
     "name": "stdout",
     "output_type": "stream",
     "text": [
      "✅ Success: 8COH_nanobody_A.pdb\n"
     ]
    },
    {
     "data": {
      "text/plain": [],
      "text/html": [
       "<pre style=\"white-space:pre;overflow-x:auto;line-height:normal;font-family:Menlo,'DejaVu Sans Mono',consolas,'Courier New',monospace\"></pre>\n"
      ]
     },
     "metadata": {},
     "output_type": "display_data"
    },
    {
     "data": {
      "text/plain": [
       "Output()"
      ],
      "application/vnd.jupyter.widget-view+json": {
       "version_major": 2,
       "version_minor": 0,
       "model_id": "2d73721d34044a849c5a811172f64110"
      }
     },
     "metadata": {},
     "output_type": "display_data"
    },
    {
     "name": "stdout",
     "output_type": "stream",
     "text": [
      "✅ Success: 8YJ8_nanobody_D.pdb\n"
     ]
    },
    {
     "data": {
      "text/plain": [],
      "text/html": [
       "<pre style=\"white-space:pre;overflow-x:auto;line-height:normal;font-family:Menlo,'DejaVu Sans Mono',consolas,'Courier New',monospace\"></pre>\n"
      ]
     },
     "metadata": {},
     "output_type": "display_data"
    },
    {
     "data": {
      "text/plain": [
       "Output()"
      ],
      "application/vnd.jupyter.widget-view+json": {
       "version_major": 2,
       "version_minor": 0,
       "model_id": "7f01396c22fb45e3a1543d44b5b0551a"
      }
     },
     "metadata": {},
     "output_type": "display_data"
    },
    {
     "name": "stdout",
     "output_type": "stream",
     "text": [
      "✅ Success: 9G2A_nanobody_D.pdb\n"
     ]
    },
    {
     "data": {
      "text/plain": [],
      "text/html": [
       "<pre style=\"white-space:pre;overflow-x:auto;line-height:normal;font-family:Menlo,'DejaVu Sans Mono',consolas,'Courier New',monospace\"></pre>\n"
      ]
     },
     "metadata": {},
     "output_type": "display_data"
    },
    {
     "data": {
      "text/plain": [
       "Output()"
      ],
      "application/vnd.jupyter.widget-view+json": {
       "version_major": 2,
       "version_minor": 0,
       "model_id": "d38d1d0706344fb59f2247aedee9277f"
      }
     },
     "metadata": {},
     "output_type": "display_data"
    },
    {
     "name": "stdout",
     "output_type": "stream",
     "text": [
      "✅ Success: 6XYF_nanobody_A.pdb\n"
     ]
    },
    {
     "data": {
      "text/plain": [],
      "text/html": [
       "<pre style=\"white-space:pre;overflow-x:auto;line-height:normal;font-family:Menlo,'DejaVu Sans Mono',consolas,'Courier New',monospace\"></pre>\n"
      ]
     },
     "metadata": {},
     "output_type": "display_data"
    },
    {
     "data": {
      "text/plain": [
       "Output()"
      ],
      "application/vnd.jupyter.widget-view+json": {
       "version_major": 2,
       "version_minor": 0,
       "model_id": "09fbea1c598c4b5fa5f5a60bb5759616"
      }
     },
     "metadata": {},
     "output_type": "display_data"
    },
    {
     "name": "stdout",
     "output_type": "stream",
     "text": [
      "✅ Success: 5IVN_nanobody_A.pdb\n"
     ]
    },
    {
     "data": {
      "text/plain": [],
      "text/html": [
       "<pre style=\"white-space:pre;overflow-x:auto;line-height:normal;font-family:Menlo,'DejaVu Sans Mono',consolas,'Courier New',monospace\"></pre>\n"
      ]
     },
     "metadata": {},
     "output_type": "display_data"
    },
    {
     "data": {
      "text/plain": [
       "Output()"
      ],
      "application/vnd.jupyter.widget-view+json": {
       "version_major": 2,
       "version_minor": 0,
       "model_id": "3597bf6a65384aa788f0417f4ab497a2"
      }
     },
     "metadata": {},
     "output_type": "display_data"
    },
    {
     "name": "stdout",
     "output_type": "stream",
     "text": [
      "✅ Success: 1JTT_nanobody_L.pdb\n"
     ]
    },
    {
     "data": {
      "text/plain": [],
      "text/html": [
       "<pre style=\"white-space:pre;overflow-x:auto;line-height:normal;font-family:Menlo,'DejaVu Sans Mono',consolas,'Courier New',monospace\"></pre>\n"
      ]
     },
     "metadata": {},
     "output_type": "display_data"
    },
    {
     "data": {
      "text/plain": [
       "Output()"
      ],
      "application/vnd.jupyter.widget-view+json": {
       "version_major": 2,
       "version_minor": 0,
       "model_id": "8eed97ac35324163bc60ae8ff773f906"
      }
     },
     "metadata": {},
     "output_type": "display_data"
    },
    {
     "name": "stdout",
     "output_type": "stream",
     "text": [
      "✅ Success: 5O03_nanobody_C.pdb\n"
     ]
    },
    {
     "data": {
      "text/plain": [],
      "text/html": [
       "<pre style=\"white-space:pre;overflow-x:auto;line-height:normal;font-family:Menlo,'DejaVu Sans Mono',consolas,'Courier New',monospace\"></pre>\n"
      ]
     },
     "metadata": {},
     "output_type": "display_data"
    },
    {
     "data": {
      "text/plain": [
       "Output()"
      ],
      "application/vnd.jupyter.widget-view+json": {
       "version_major": 2,
       "version_minor": 0,
       "model_id": "58dc7fca977340f99f9cfb696c81ef6a"
      }
     },
     "metadata": {},
     "output_type": "display_data"
    },
    {
     "name": "stdout",
     "output_type": "stream",
     "text": [
      "✅ Success: 7OLZ_nanobody_C.pdb\n"
     ]
    },
    {
     "data": {
      "text/plain": [],
      "text/html": [
       "<pre style=\"white-space:pre;overflow-x:auto;line-height:normal;font-family:Menlo,'DejaVu Sans Mono',consolas,'Courier New',monospace\"></pre>\n"
      ]
     },
     "metadata": {},
     "output_type": "display_data"
    },
    {
     "data": {
      "text/plain": [
       "Output()"
      ],
      "application/vnd.jupyter.widget-view+json": {
       "version_major": 2,
       "version_minor": 0,
       "model_id": "801f8ce33dde4552a41e7f87f6188f2e"
      }
     },
     "metadata": {},
     "output_type": "display_data"
    },
    {
     "name": "stdout",
     "output_type": "stream",
     "text": [
      "✅ Success: 7PIU_nanobody_N.pdb\n"
     ]
    },
    {
     "data": {
      "text/plain": [],
      "text/html": [
       "<pre style=\"white-space:pre;overflow-x:auto;line-height:normal;font-family:Menlo,'DejaVu Sans Mono',consolas,'Courier New',monospace\"></pre>\n"
      ]
     },
     "metadata": {},
     "output_type": "display_data"
    },
    {
     "data": {
      "text/plain": [
       "Output()"
      ],
      "application/vnd.jupyter.widget-view+json": {
       "version_major": 2,
       "version_minor": 0,
       "model_id": "85ebea32aef643f7990a2ffc86a76b8a"
      }
     },
     "metadata": {},
     "output_type": "display_data"
    },
    {
     "name": "stdout",
     "output_type": "stream",
     "text": [
      "✅ Success: 7ZMT_nanobody_C.pdb\n"
     ]
    },
    {
     "data": {
      "text/plain": [],
      "text/html": [
       "<pre style=\"white-space:pre;overflow-x:auto;line-height:normal;font-family:Menlo,'DejaVu Sans Mono',consolas,'Courier New',monospace\"></pre>\n"
      ]
     },
     "metadata": {},
     "output_type": "display_data"
    },
    {
     "data": {
      "text/plain": [
       "Output()"
      ],
      "application/vnd.jupyter.widget-view+json": {
       "version_major": 2,
       "version_minor": 0,
       "model_id": "a7050ea6631349118f8eb866ff61dee2"
      }
     },
     "metadata": {},
     "output_type": "display_data"
    },
    {
     "name": "stdout",
     "output_type": "stream",
     "text": [
      "✅ Success: 6MXT_nanobody_N.pdb\n"
     ]
    },
    {
     "data": {
      "text/plain": [],
      "text/html": [
       "<pre style=\"white-space:pre;overflow-x:auto;line-height:normal;font-family:Menlo,'DejaVu Sans Mono',consolas,'Courier New',monospace\"></pre>\n"
      ]
     },
     "metadata": {},
     "output_type": "display_data"
    },
    {
     "data": {
      "text/plain": [
       "Output()"
      ],
      "application/vnd.jupyter.widget-view+json": {
       "version_major": 2,
       "version_minor": 0,
       "model_id": "0a6e01cb01a7488295009574d877e7bb"
      }
     },
     "metadata": {},
     "output_type": "display_data"
    },
    {
     "name": "stdout",
     "output_type": "stream",
     "text": [
      "✅ Success: 8C3K_nanobody_B.pdb\n"
     ]
    },
    {
     "data": {
      "text/plain": [],
      "text/html": [
       "<pre style=\"white-space:pre;overflow-x:auto;line-height:normal;font-family:Menlo,'DejaVu Sans Mono',consolas,'Courier New',monospace\"></pre>\n"
      ]
     },
     "metadata": {},
     "output_type": "display_data"
    },
    {
     "data": {
      "text/plain": [
       "Output()"
      ],
      "application/vnd.jupyter.widget-view+json": {
       "version_major": 2,
       "version_minor": 0,
       "model_id": "9a0b574e96fb4ddfa94ac68b2c5931bc"
      }
     },
     "metadata": {},
     "output_type": "display_data"
    },
    {
     "data": {
      "text/plain": [],
      "text/html": [
       "<pre style=\"white-space:pre;overflow-x:auto;line-height:normal;font-family:Menlo,'DejaVu Sans Mono',consolas,'Courier New',monospace\"></pre>\n"
      ]
     },
     "metadata": {},
     "output_type": "display_data"
    },
    {
     "data": {
      "text/plain": [
       "Output()"
      ],
      "application/vnd.jupyter.widget-view+json": {
       "version_major": 2,
       "version_minor": 0,
       "model_id": "4578a88cb5f94c308c22ba2bade33b37"
      }
     },
     "metadata": {},
     "output_type": "display_data"
    },
    {
     "name": "stdout",
     "output_type": "stream",
     "text": [
      "✅ Success: 6JB2_nanobody_A.pdb\n"
     ]
    },
    {
     "data": {
      "text/plain": [],
      "text/html": [
       "<pre style=\"white-space:pre;overflow-x:auto;line-height:normal;font-family:Menlo,'DejaVu Sans Mono',consolas,'Courier New',monospace\"></pre>\n"
      ]
     },
     "metadata": {},
     "output_type": "display_data"
    },
    {
     "data": {
      "text/plain": [
       "Output()"
      ],
      "application/vnd.jupyter.widget-view+json": {
       "version_major": 2,
       "version_minor": 0,
       "model_id": "42ca4545a4f04e16933459500fe35009"
      }
     },
     "metadata": {},
     "output_type": "display_data"
    },
    {
     "name": "stdout",
     "output_type": "stream",
     "text": [
      "✅ Success: 9EN2_nanobody_C.pdb\n"
     ]
    },
    {
     "data": {
      "text/plain": [],
      "text/html": [
       "<pre style=\"white-space:pre;overflow-x:auto;line-height:normal;font-family:Menlo,'DejaVu Sans Mono',consolas,'Courier New',monospace\"></pre>\n"
      ]
     },
     "metadata": {},
     "output_type": "display_data"
    },
    {
     "data": {
      "text/plain": [
       "Output()"
      ],
      "application/vnd.jupyter.widget-view+json": {
       "version_major": 2,
       "version_minor": 0,
       "model_id": "ef9cb7c9b2b543f483cf4f25f43adc4b"
      }
     },
     "metadata": {},
     "output_type": "display_data"
    },
    {
     "name": "stdout",
     "output_type": "stream",
     "text": [
      "✅ Success: 8STL_nanobody_D.pdb\n"
     ]
    },
    {
     "data": {
      "text/plain": [],
      "text/html": [
       "<pre style=\"white-space:pre;overflow-x:auto;line-height:normal;font-family:Menlo,'DejaVu Sans Mono',consolas,'Courier New',monospace\"></pre>\n"
      ]
     },
     "metadata": {},
     "output_type": "display_data"
    },
    {
     "data": {
      "text/plain": [
       "Output()"
      ],
      "application/vnd.jupyter.widget-view+json": {
       "version_major": 2,
       "version_minor": 0,
       "model_id": "01af314b93854efdb28c9aa7b0e3a588"
      }
     },
     "metadata": {},
     "output_type": "display_data"
    },
    {
     "name": "stdout",
     "output_type": "stream",
     "text": [
      "✅ Success: 2XA3_nanobody_A.pdb\n"
     ]
    },
    {
     "data": {
      "text/plain": [],
      "text/html": [
       "<pre style=\"white-space:pre;overflow-x:auto;line-height:normal;font-family:Menlo,'DejaVu Sans Mono',consolas,'Courier New',monospace\"></pre>\n"
      ]
     },
     "metadata": {},
     "output_type": "display_data"
    },
    {
     "data": {
      "text/plain": [
       "Output()"
      ],
      "application/vnd.jupyter.widget-view+json": {
       "version_major": 2,
       "version_minor": 0,
       "model_id": "3ea69d33f2474dfcac48cdcf743fc6be"
      }
     },
     "metadata": {},
     "output_type": "display_data"
    },
    {
     "name": "stdout",
     "output_type": "stream",
     "text": [
      "✅ Success: 4B50_nanobody_A.pdb\n"
     ]
    },
    {
     "data": {
      "text/plain": [],
      "text/html": [
       "<pre style=\"white-space:pre;overflow-x:auto;line-height:normal;font-family:Menlo,'DejaVu Sans Mono',consolas,'Courier New',monospace\"></pre>\n"
      ]
     },
     "metadata": {},
     "output_type": "display_data"
    },
    {
     "data": {
      "text/plain": [
       "Output()"
      ],
      "application/vnd.jupyter.widget-view+json": {
       "version_major": 2,
       "version_minor": 0,
       "model_id": "730ec5950c144fd3b2a981043a4475ce"
      }
     },
     "metadata": {},
     "output_type": "display_data"
    },
    {
     "name": "stdout",
     "output_type": "stream",
     "text": [
      "✅ Success: 4BEL_nanobody_E.pdb\n"
     ]
    },
    {
     "data": {
      "text/plain": [],
      "text/html": [
       "<pre style=\"white-space:pre;overflow-x:auto;line-height:normal;font-family:Menlo,'DejaVu Sans Mono',consolas,'Courier New',monospace\"></pre>\n"
      ]
     },
     "metadata": {},
     "output_type": "display_data"
    },
    {
     "data": {
      "text/plain": [
       "Output()"
      ],
      "application/vnd.jupyter.widget-view+json": {
       "version_major": 2,
       "version_minor": 0,
       "model_id": "ea50ad1f7a56432c8eda8ac998cca07e"
      }
     },
     "metadata": {},
     "output_type": "display_data"
    },
    {
     "name": "stdout",
     "output_type": "stream",
     "text": [
      "✅ Success: 9G2A_nanobody_C.pdb\n"
     ]
    },
    {
     "data": {
      "text/plain": [],
      "text/html": [
       "<pre style=\"white-space:pre;overflow-x:auto;line-height:normal;font-family:Menlo,'DejaVu Sans Mono',consolas,'Courier New',monospace\"></pre>\n"
      ]
     },
     "metadata": {},
     "output_type": "display_data"
    },
    {
     "data": {
      "text/plain": [
       "Output()"
      ],
      "application/vnd.jupyter.widget-view+json": {
       "version_major": 2,
       "version_minor": 0,
       "model_id": "f69b8ab9d383422498800988b6af0759"
      }
     },
     "metadata": {},
     "output_type": "display_data"
    },
    {
     "name": "stdout",
     "output_type": "stream",
     "text": [
      "✅ Success: 9FWW_nanobody_B.pdb\n"
     ]
    },
    {
     "data": {
      "text/plain": [],
      "text/html": [
       "<pre style=\"white-space:pre;overflow-x:auto;line-height:normal;font-family:Menlo,'DejaVu Sans Mono',consolas,'Courier New',monospace\"></pre>\n"
      ]
     },
     "metadata": {},
     "output_type": "display_data"
    },
    {
     "data": {
      "text/plain": [
       "Output()"
      ],
      "application/vnd.jupyter.widget-view+json": {
       "version_major": 2,
       "version_minor": 0,
       "model_id": "09f6a68e31c54e47bf3b52cca5f4d45c"
      }
     },
     "metadata": {},
     "output_type": "display_data"
    },
    {
     "name": "stdout",
     "output_type": "stream",
     "text": [
      "✅ Success: 7O06_nanobody_A.pdb\n"
     ]
    },
    {
     "data": {
      "text/plain": [],
      "text/html": [
       "<pre style=\"white-space:pre;overflow-x:auto;line-height:normal;font-family:Menlo,'DejaVu Sans Mono',consolas,'Courier New',monospace\"></pre>\n"
      ]
     },
     "metadata": {},
     "output_type": "display_data"
    },
    {
     "data": {
      "text/plain": [
       "Output()"
      ],
      "application/vnd.jupyter.widget-view+json": {
       "version_major": 2,
       "version_minor": 0,
       "model_id": "27a6727d26b743479496c1b6a29af15f"
      }
     },
     "metadata": {},
     "output_type": "display_data"
    },
    {
     "name": "stdout",
     "output_type": "stream",
     "text": [
      "✅ Success: 2XXC_nanobody_B.pdb\n"
     ]
    },
    {
     "data": {
      "text/plain": [],
      "text/html": [
       "<pre style=\"white-space:pre;overflow-x:auto;line-height:normal;font-family:Menlo,'DejaVu Sans Mono',consolas,'Courier New',monospace\"></pre>\n"
      ]
     },
     "metadata": {},
     "output_type": "display_data"
    },
    {
     "data": {
      "text/plain": [
       "Output()"
      ],
      "application/vnd.jupyter.widget-view+json": {
       "version_major": 2,
       "version_minor": 0,
       "model_id": "8aa21353ca9741a09d5c97aaa9b3f82c"
      }
     },
     "metadata": {},
     "output_type": "display_data"
    },
    {
     "name": "stdout",
     "output_type": "stream",
     "text": [
      "✅ Success: 5O02_nanobody_C.pdb\n"
     ]
    },
    {
     "data": {
      "text/plain": [],
      "text/html": [
       "<pre style=\"white-space:pre;overflow-x:auto;line-height:normal;font-family:Menlo,'DejaVu Sans Mono',consolas,'Courier New',monospace\"></pre>\n"
      ]
     },
     "metadata": {},
     "output_type": "display_data"
    },
    {
     "data": {
      "text/plain": [
       "Output()"
      ],
      "application/vnd.jupyter.widget-view+json": {
       "version_major": 2,
       "version_minor": 0,
       "model_id": "05065e717a1f4822b780683cc16e0e06"
      }
     },
     "metadata": {},
     "output_type": "display_data"
    },
    {
     "data": {
      "text/plain": [],
      "text/html": [
       "<pre style=\"white-space:pre;overflow-x:auto;line-height:normal;font-family:Menlo,'DejaVu Sans Mono',consolas,'Courier New',monospace\"></pre>\n"
      ]
     },
     "metadata": {},
     "output_type": "display_data"
    },
    {
     "data": {
      "text/plain": [
       "Output()"
      ],
      "application/vnd.jupyter.widget-view+json": {
       "version_major": 2,
       "version_minor": 0,
       "model_id": "a02305eb48f74f04bcb3f204b490f0ee"
      }
     },
     "metadata": {},
     "output_type": "display_data"
    },
    {
     "name": "stdout",
     "output_type": "stream",
     "text": [
      "✅ Success: 7JKM_nanobody_K.pdb\n"
     ]
    },
    {
     "data": {
      "text/plain": [],
      "text/html": [
       "<pre style=\"white-space:pre;overflow-x:auto;line-height:normal;font-family:Menlo,'DejaVu Sans Mono',consolas,'Courier New',monospace\"></pre>\n"
      ]
     },
     "metadata": {},
     "output_type": "display_data"
    },
    {
     "data": {
      "text/plain": [
       "Output()"
      ],
      "application/vnd.jupyter.widget-view+json": {
       "version_major": 2,
       "version_minor": 0,
       "model_id": "eafb185e81f1463ca68513327778afd9"
      }
     },
     "metadata": {},
     "output_type": "display_data"
    },
    {
     "name": "stdout",
     "output_type": "stream",
     "text": [
      "✅ Success: 5F21_nanobody_B.pdb\n"
     ]
    },
    {
     "data": {
      "text/plain": [],
      "text/html": [
       "<pre style=\"white-space:pre;overflow-x:auto;line-height:normal;font-family:Menlo,'DejaVu Sans Mono',consolas,'Courier New',monospace\"></pre>\n"
      ]
     },
     "metadata": {},
     "output_type": "display_data"
    },
    {
     "data": {
      "text/plain": [
       "Output()"
      ],
      "application/vnd.jupyter.widget-view+json": {
       "version_major": 2,
       "version_minor": 0,
       "model_id": "7e729cbe2e1d48e8bb74ee037fe36428"
      }
     },
     "metadata": {},
     "output_type": "display_data"
    },
    {
     "name": "stdout",
     "output_type": "stream",
     "text": [
      "✅ Success: 8QF4_nanobody_E.pdb\n"
     ]
    },
    {
     "data": {
      "text/plain": [],
      "text/html": [
       "<pre style=\"white-space:pre;overflow-x:auto;line-height:normal;font-family:Menlo,'DejaVu Sans Mono',consolas,'Courier New',monospace\"></pre>\n"
      ]
     },
     "metadata": {},
     "output_type": "display_data"
    },
    {
     "data": {
      "text/plain": [
       "Output()"
      ],
      "application/vnd.jupyter.widget-view+json": {
       "version_major": 2,
       "version_minor": 0,
       "model_id": "21b30936abf5424b8f497514597e4738"
      }
     },
     "metadata": {},
     "output_type": "display_data"
    },
    {
     "name": "stdout",
     "output_type": "stream",
     "text": [
      "✅ Success: 6YZ5_nanobody_F.pdb\n"
     ]
    },
    {
     "data": {
      "text/plain": [],
      "text/html": [
       "<pre style=\"white-space:pre;overflow-x:auto;line-height:normal;font-family:Menlo,'DejaVu Sans Mono',consolas,'Courier New',monospace\"></pre>\n"
      ]
     },
     "metadata": {},
     "output_type": "display_data"
    },
    {
     "data": {
      "text/plain": [
       "Output()"
      ],
      "application/vnd.jupyter.widget-view+json": {
       "version_major": 2,
       "version_minor": 0,
       "model_id": "14321da91fc84f4d9afb00c6d2c478d2"
      }
     },
     "metadata": {},
     "output_type": "display_data"
    },
    {
     "name": "stdout",
     "output_type": "stream",
     "text": [
      "✅ Success: 4I0C_nanobody_A.pdb\n"
     ]
    },
    {
     "data": {
      "text/plain": [],
      "text/html": [
       "<pre style=\"white-space:pre;overflow-x:auto;line-height:normal;font-family:Menlo,'DejaVu Sans Mono',consolas,'Courier New',monospace\"></pre>\n"
      ]
     },
     "metadata": {},
     "output_type": "display_data"
    },
    {
     "data": {
      "text/plain": [
       "Output()"
      ],
      "application/vnd.jupyter.widget-view+json": {
       "version_major": 2,
       "version_minor": 0,
       "model_id": "d95a1592099c492ea88877d094bf6c52"
      }
     },
     "metadata": {},
     "output_type": "display_data"
    },
    {
     "name": "stdout",
     "output_type": "stream",
     "text": [
      "✅ Success: 6JB5_nanobody_A.pdb\n"
     ]
    },
    {
     "data": {
      "text/plain": [],
      "text/html": [
       "<pre style=\"white-space:pre;overflow-x:auto;line-height:normal;font-family:Menlo,'DejaVu Sans Mono',consolas,'Courier New',monospace\"></pre>\n"
      ]
     },
     "metadata": {},
     "output_type": "display_data"
    },
    {
     "data": {
      "text/plain": [
       "Output()"
      ],
      "application/vnd.jupyter.widget-view+json": {
       "version_major": 2,
       "version_minor": 0,
       "model_id": "0fd77f13d3e64ffebbcf7b7775d1d09a"
      }
     },
     "metadata": {},
     "output_type": "display_data"
    },
    {
     "name": "stdout",
     "output_type": "stream",
     "text": [
      "✅ Success: 5U64_nanobody_B.pdb\n"
     ]
    },
    {
     "data": {
      "text/plain": [],
      "text/html": [
       "<pre style=\"white-space:pre;overflow-x:auto;line-height:normal;font-family:Menlo,'DejaVu Sans Mono',consolas,'Courier New',monospace\"></pre>\n"
      ]
     },
     "metadata": {},
     "output_type": "display_data"
    },
    {
     "data": {
      "text/plain": [
       "Output()"
      ],
      "application/vnd.jupyter.widget-view+json": {
       "version_major": 2,
       "version_minor": 0,
       "model_id": "b21a5d14a69d49c2aeec0745e913a3c1"
      }
     },
     "metadata": {},
     "output_type": "display_data"
    },
    {
     "name": "stdout",
     "output_type": "stream",
     "text": [
      "✅ Success: 8C3L_nanobody_B.pdb\n"
     ]
    },
    {
     "data": {
      "text/plain": [],
      "text/html": [
       "<pre style=\"white-space:pre;overflow-x:auto;line-height:normal;font-family:Menlo,'DejaVu Sans Mono',consolas,'Courier New',monospace\"></pre>\n"
      ]
     },
     "metadata": {},
     "output_type": "display_data"
    },
    {
     "data": {
      "text/plain": [
       "Output()"
      ],
      "application/vnd.jupyter.widget-view+json": {
       "version_major": 2,
       "version_minor": 0,
       "model_id": "17bc5d2e93a4421b919d55f1e03be904"
      }
     },
     "metadata": {},
     "output_type": "display_data"
    },
    {
     "data": {
      "text/plain": [],
      "text/html": [
       "<pre style=\"white-space:pre;overflow-x:auto;line-height:normal;font-family:Menlo,'DejaVu Sans Mono',consolas,'Courier New',monospace\"></pre>\n"
      ]
     },
     "metadata": {},
     "output_type": "display_data"
    },
    {
     "data": {
      "text/plain": [
       "Output()"
      ],
      "application/vnd.jupyter.widget-view+json": {
       "version_major": 2,
       "version_minor": 0,
       "model_id": "2e263a53d8734208b09e423b3c94a3af"
      }
     },
     "metadata": {},
     "output_type": "display_data"
    },
    {
     "name": "stdout",
     "output_type": "stream",
     "text": [
      "✅ Success: 6RU3_nanobody_C.pdb\n"
     ]
    },
    {
     "data": {
      "text/plain": [],
      "text/html": [
       "<pre style=\"white-space:pre;overflow-x:auto;line-height:normal;font-family:Menlo,'DejaVu Sans Mono',consolas,'Courier New',monospace\"></pre>\n"
      ]
     },
     "metadata": {},
     "output_type": "display_data"
    },
    {
     "data": {
      "text/plain": [
       "Output()"
      ],
      "application/vnd.jupyter.widget-view+json": {
       "version_major": 2,
       "version_minor": 0,
       "model_id": "9504acee51d3468dbf2f4828720611e4"
      }
     },
     "metadata": {},
     "output_type": "display_data"
    },
    {
     "name": "stdout",
     "output_type": "stream",
     "text": [
      "✅ Success: 7ZMO_nanobody_K.pdb\n"
     ]
    },
    {
     "data": {
      "text/plain": [],
      "text/html": [
       "<pre style=\"white-space:pre;overflow-x:auto;line-height:normal;font-family:Menlo,'DejaVu Sans Mono',consolas,'Courier New',monospace\"></pre>\n"
      ]
     },
     "metadata": {},
     "output_type": "display_data"
    },
    {
     "data": {
      "text/plain": [
       "Output()"
      ],
      "application/vnd.jupyter.widget-view+json": {
       "version_major": 2,
       "version_minor": 0,
       "model_id": "4691cac4d77d4ba2a97306c3835560c9"
      }
     },
     "metadata": {},
     "output_type": "display_data"
    },
    {
     "data": {
      "text/plain": [],
      "text/html": [
       "<pre style=\"white-space:pre;overflow-x:auto;line-height:normal;font-family:Menlo,'DejaVu Sans Mono',consolas,'Courier New',monospace\"></pre>\n"
      ]
     },
     "metadata": {},
     "output_type": "display_data"
    },
    {
     "data": {
      "text/plain": [
       "Output()"
      ],
      "application/vnd.jupyter.widget-view+json": {
       "version_major": 2,
       "version_minor": 0,
       "model_id": "a421b89d301a4f95956c871b15372ac8"
      }
     },
     "metadata": {},
     "output_type": "display_data"
    },
    {
     "name": "stdout",
     "output_type": "stream",
     "text": [
      "✅ Success: 7KGK_nanobody_B.pdb\n"
     ]
    },
    {
     "data": {
      "text/plain": [],
      "text/html": [
       "<pre style=\"white-space:pre;overflow-x:auto;line-height:normal;font-family:Menlo,'DejaVu Sans Mono',consolas,'Courier New',monospace\"></pre>\n"
      ]
     },
     "metadata": {},
     "output_type": "display_data"
    },
    {
     "data": {
      "text/plain": [
       "Output()"
      ],
      "application/vnd.jupyter.widget-view+json": {
       "version_major": 2,
       "version_minor": 0,
       "model_id": "bbe84134c8a742ff9478fb96cd5b5bbb"
      }
     },
     "metadata": {},
     "output_type": "display_data"
    },
    {
     "name": "stdout",
     "output_type": "stream",
     "text": [
      "✅ Success: 6Z1V_nanobody_B.pdb\n"
     ]
    },
    {
     "data": {
      "text/plain": [],
      "text/html": [
       "<pre style=\"white-space:pre;overflow-x:auto;line-height:normal;font-family:Menlo,'DejaVu Sans Mono',consolas,'Courier New',monospace\"></pre>\n"
      ]
     },
     "metadata": {},
     "output_type": "display_data"
    },
    {
     "data": {
      "text/plain": [
       "Output()"
      ],
      "application/vnd.jupyter.widget-view+json": {
       "version_major": 2,
       "version_minor": 0,
       "model_id": "821e210a2d3e4790aa7542be8a5da768"
      }
     },
     "metadata": {},
     "output_type": "display_data"
    },
    {
     "name": "stdout",
     "output_type": "stream",
     "text": [
      "✅ Success: 8ELN_nanobody_C.pdb\n"
     ]
    },
    {
     "data": {
      "text/plain": [],
      "text/html": [
       "<pre style=\"white-space:pre;overflow-x:auto;line-height:normal;font-family:Menlo,'DejaVu Sans Mono',consolas,'Courier New',monospace\"></pre>\n"
      ]
     },
     "metadata": {},
     "output_type": "display_data"
    },
    {
     "data": {
      "text/plain": [
       "Output()"
      ],
      "application/vnd.jupyter.widget-view+json": {
       "version_major": 2,
       "version_minor": 0,
       "model_id": "2002e3965bf3454da3dd01e6c68f842b"
      }
     },
     "metadata": {},
     "output_type": "display_data"
    },
    {
     "name": "stdout",
     "output_type": "stream",
     "text": [
      "✅ Success: 4I0C_nanobody_B.pdb\n"
     ]
    },
    {
     "data": {
      "text/plain": [],
      "text/html": [
       "<pre style=\"white-space:pre;overflow-x:auto;line-height:normal;font-family:Menlo,'DejaVu Sans Mono',consolas,'Courier New',monospace\"></pre>\n"
      ]
     },
     "metadata": {},
     "output_type": "display_data"
    },
    {
     "data": {
      "text/plain": [
       "Output()"
      ],
      "application/vnd.jupyter.widget-view+json": {
       "version_major": 2,
       "version_minor": 0,
       "model_id": "0cc0d463e1ee4076894548fa0b55a102"
      }
     },
     "metadata": {},
     "output_type": "display_data"
    },
    {
     "name": "stdout",
     "output_type": "stream",
     "text": [
      "✅ Success: 8AOK_nanobody_B.pdb\n"
     ]
    },
    {
     "data": {
      "text/plain": [],
      "text/html": [
       "<pre style=\"white-space:pre;overflow-x:auto;line-height:normal;font-family:Menlo,'DejaVu Sans Mono',consolas,'Courier New',monospace\"></pre>\n"
      ]
     },
     "metadata": {},
     "output_type": "display_data"
    },
    {
     "data": {
      "text/plain": [
       "Output()"
      ],
      "application/vnd.jupyter.widget-view+json": {
       "version_major": 2,
       "version_minor": 0,
       "model_id": "f1776382481d441caf496e674ed448ad"
      }
     },
     "metadata": {},
     "output_type": "display_data"
    },
    {
     "name": "stdout",
     "output_type": "stream",
     "text": [
      "✅ Success: 8RPE_nanobody_E.pdb\n"
     ]
    },
    {
     "data": {
      "text/plain": [],
      "text/html": [
       "<pre style=\"white-space:pre;overflow-x:auto;line-height:normal;font-family:Menlo,'DejaVu Sans Mono',consolas,'Courier New',monospace\"></pre>\n"
      ]
     },
     "metadata": {},
     "output_type": "display_data"
    },
    {
     "data": {
      "text/plain": [
       "Output()"
      ],
      "application/vnd.jupyter.widget-view+json": {
       "version_major": 2,
       "version_minor": 0,
       "model_id": "dd69ae23eed2436898c54df42004c1cf"
      }
     },
     "metadata": {},
     "output_type": "display_data"
    },
    {
     "name": "stdout",
     "output_type": "stream",
     "text": [
      "✅ Success: 5E1H_nanobody_B.pdb\n"
     ]
    },
    {
     "data": {
      "text/plain": [],
      "text/html": [
       "<pre style=\"white-space:pre;overflow-x:auto;line-height:normal;font-family:Menlo,'DejaVu Sans Mono',consolas,'Courier New',monospace\"></pre>\n"
      ]
     },
     "metadata": {},
     "output_type": "display_data"
    },
    {
     "data": {
      "text/plain": [
       "Output()"
      ],
      "application/vnd.jupyter.widget-view+json": {
       "version_major": 2,
       "version_minor": 0,
       "model_id": "bc0cf14dd9fc4a808ea30839b968ae36"
      }
     },
     "metadata": {},
     "output_type": "display_data"
    },
    {
     "name": "stdout",
     "output_type": "stream",
     "text": [
      "✅ Success: 6R7T_nanobody_A.pdb\n"
     ]
    },
    {
     "data": {
      "text/plain": [],
      "text/html": [
       "<pre style=\"white-space:pre;overflow-x:auto;line-height:normal;font-family:Menlo,'DejaVu Sans Mono',consolas,'Courier New',monospace\"></pre>\n"
      ]
     },
     "metadata": {},
     "output_type": "display_data"
    },
    {
     "data": {
      "text/plain": [
       "Output()"
      ],
      "application/vnd.jupyter.widget-view+json": {
       "version_major": 2,
       "version_minor": 0,
       "model_id": "34ef46c924314ffca8981a58361f2988"
      }
     },
     "metadata": {},
     "output_type": "display_data"
    },
    {
     "name": "stdout",
     "output_type": "stream",
     "text": [
      "✅ Success: 8H3X_nanobody_A.pdb\n"
     ]
    },
    {
     "data": {
      "text/plain": [],
      "text/html": [
       "<pre style=\"white-space:pre;overflow-x:auto;line-height:normal;font-family:Menlo,'DejaVu Sans Mono',consolas,'Courier New',monospace\"></pre>\n"
      ]
     },
     "metadata": {},
     "output_type": "display_data"
    },
    {
     "data": {
      "text/plain": [
       "Output()"
      ],
      "application/vnd.jupyter.widget-view+json": {
       "version_major": 2,
       "version_minor": 0,
       "model_id": "bb759d932afa49db9d051503a0f15e66"
      }
     },
     "metadata": {},
     "output_type": "display_data"
    },
    {
     "name": "stdout",
     "output_type": "stream",
     "text": [
      "✅ Success: 4N9O_nanobody_B.pdb\n"
     ]
    },
    {
     "data": {
      "text/plain": [],
      "text/html": [
       "<pre style=\"white-space:pre;overflow-x:auto;line-height:normal;font-family:Menlo,'DejaVu Sans Mono',consolas,'Courier New',monospace\"></pre>\n"
      ]
     },
     "metadata": {},
     "output_type": "display_data"
    },
    {
     "data": {
      "text/plain": [
       "Output()"
      ],
      "application/vnd.jupyter.widget-view+json": {
       "version_major": 2,
       "version_minor": 0,
       "model_id": "d49e1417895c41838378408831954a6c"
      }
     },
     "metadata": {},
     "output_type": "display_data"
    },
    {
     "name": "stdout",
     "output_type": "stream",
     "text": [
      "✅ Success: 6H70_nanobody_D.pdb\n"
     ]
    },
    {
     "data": {
      "text/plain": [],
      "text/html": [
       "<pre style=\"white-space:pre;overflow-x:auto;line-height:normal;font-family:Menlo,'DejaVu Sans Mono',consolas,'Courier New',monospace\"></pre>\n"
      ]
     },
     "metadata": {},
     "output_type": "display_data"
    },
    {
     "data": {
      "text/plain": [
       "Output()"
      ],
      "application/vnd.jupyter.widget-view+json": {
       "version_major": 2,
       "version_minor": 0,
       "model_id": "4c56502fb89049748547dcc584441ebe"
      }
     },
     "metadata": {},
     "output_type": "display_data"
    },
    {
     "name": "stdout",
     "output_type": "stream",
     "text": [
      "✅ Success: 8C5H_nanobody_N.pdb\n"
     ]
    },
    {
     "data": {
      "text/plain": [],
      "text/html": [
       "<pre style=\"white-space:pre;overflow-x:auto;line-height:normal;font-family:Menlo,'DejaVu Sans Mono',consolas,'Courier New',monospace\"></pre>\n"
      ]
     },
     "metadata": {},
     "output_type": "display_data"
    },
    {
     "data": {
      "text/plain": [
       "Output()"
      ],
      "application/vnd.jupyter.widget-view+json": {
       "version_major": 2,
       "version_minor": 0,
       "model_id": "9ddb9457d8734a6baff6e3c49bd00e87"
      }
     },
     "metadata": {},
     "output_type": "display_data"
    },
    {
     "name": "stdout",
     "output_type": "stream",
     "text": [
      "✅ Success: 4ZG1_nanobody_F.pdb\n"
     ]
    },
    {
     "data": {
      "text/plain": [],
      "text/html": [
       "<pre style=\"white-space:pre;overflow-x:auto;line-height:normal;font-family:Menlo,'DejaVu Sans Mono',consolas,'Courier New',monospace\"></pre>\n"
      ]
     },
     "metadata": {},
     "output_type": "display_data"
    },
    {
     "data": {
      "text/plain": [
       "Output()"
      ],
      "application/vnd.jupyter.widget-view+json": {
       "version_major": 2,
       "version_minor": 0,
       "model_id": "973e9ee02b0f41debb9c10ae6c7fc15c"
      }
     },
     "metadata": {},
     "output_type": "display_data"
    },
    {
     "name": "stdout",
     "output_type": "stream",
     "text": [
      "✅ Success: 8SKJ_nanobody_B.pdb\n"
     ]
    },
    {
     "data": {
      "text/plain": [],
      "text/html": [
       "<pre style=\"white-space:pre;overflow-x:auto;line-height:normal;font-family:Menlo,'DejaVu Sans Mono',consolas,'Courier New',monospace\"></pre>\n"
      ]
     },
     "metadata": {},
     "output_type": "display_data"
    },
    {
     "data": {
      "text/plain": [
       "Output()"
      ],
      "application/vnd.jupyter.widget-view+json": {
       "version_major": 2,
       "version_minor": 0,
       "model_id": "4c201ad552354a9cb8f11f0aa3420337"
      }
     },
     "metadata": {},
     "output_type": "display_data"
    },
    {
     "name": "stdout",
     "output_type": "stream",
     "text": [
      "✅ Success: 7PA5_nanobody_B.pdb\n"
     ]
    },
    {
     "data": {
      "text/plain": [],
      "text/html": [
       "<pre style=\"white-space:pre;overflow-x:auto;line-height:normal;font-family:Menlo,'DejaVu Sans Mono',consolas,'Courier New',monospace\"></pre>\n"
      ]
     },
     "metadata": {},
     "output_type": "display_data"
    },
    {
     "data": {
      "text/plain": [
       "Output()"
      ],
      "application/vnd.jupyter.widget-view+json": {
       "version_major": 2,
       "version_minor": 0,
       "model_id": "53717f73c23d48f78022cde11176dfb3"
      }
     },
     "metadata": {},
     "output_type": "display_data"
    },
    {
     "name": "stdout",
     "output_type": "stream",
     "text": [
      "✅ Success: 7YZI_nanobody_C.pdb\n"
     ]
    },
    {
     "data": {
      "text/plain": [],
      "text/html": [
       "<pre style=\"white-space:pre;overflow-x:auto;line-height:normal;font-family:Menlo,'DejaVu Sans Mono',consolas,'Courier New',monospace\"></pre>\n"
      ]
     },
     "metadata": {},
     "output_type": "display_data"
    },
    {
     "data": {
      "text/plain": [
       "Output()"
      ],
      "application/vnd.jupyter.widget-view+json": {
       "version_major": 2,
       "version_minor": 0,
       "model_id": "f99b38e0826e4ea5bbd451cf07cdb6eb"
      }
     },
     "metadata": {},
     "output_type": "display_data"
    },
    {
     "name": "stdout",
     "output_type": "stream",
     "text": [
      "✅ Success: 8YVO_nanobody_A.pdb\n"
     ]
    },
    {
     "data": {
      "text/plain": [],
      "text/html": [
       "<pre style=\"white-space:pre;overflow-x:auto;line-height:normal;font-family:Menlo,'DejaVu Sans Mono',consolas,'Courier New',monospace\"></pre>\n"
      ]
     },
     "metadata": {},
     "output_type": "display_data"
    },
    {
     "data": {
      "text/plain": [
       "Output()"
      ],
      "application/vnd.jupyter.widget-view+json": {
       "version_major": 2,
       "version_minor": 0,
       "model_id": "26079be0e55f4fa9856cc38e228f0513"
      }
     },
     "metadata": {},
     "output_type": "display_data"
    },
    {
     "name": "stdout",
     "output_type": "stream",
     "text": [
      "✅ Success: 7ZMN_nanobody_C.pdb\n"
     ]
    },
    {
     "data": {
      "text/plain": [],
      "text/html": [
       "<pre style=\"white-space:pre;overflow-x:auto;line-height:normal;font-family:Menlo,'DejaVu Sans Mono',consolas,'Courier New',monospace\"></pre>\n"
      ]
     },
     "metadata": {},
     "output_type": "display_data"
    },
    {
     "data": {
      "text/plain": [
       "Output()"
      ],
      "application/vnd.jupyter.widget-view+json": {
       "version_major": 2,
       "version_minor": 0,
       "model_id": "2623aed57be44207b137eccb71fa8f13"
      }
     },
     "metadata": {},
     "output_type": "display_data"
    },
    {
     "name": "stdout",
     "output_type": "stream",
     "text": [
      "✅ Success: 8B1F_nanobody_B.pdb\n"
     ]
    },
    {
     "data": {
      "text/plain": [],
      "text/html": [
       "<pre style=\"white-space:pre;overflow-x:auto;line-height:normal;font-family:Menlo,'DejaVu Sans Mono',consolas,'Courier New',monospace\"></pre>\n"
      ]
     },
     "metadata": {},
     "output_type": "display_data"
    },
    {
     "data": {
      "text/plain": [
       "Output()"
      ],
      "application/vnd.jupyter.widget-view+json": {
       "version_major": 2,
       "version_minor": 0,
       "model_id": "acea3beadea3473d9b749812c7e4c1b3"
      }
     },
     "metadata": {},
     "output_type": "display_data"
    },
    {
     "name": "stdout",
     "output_type": "stream",
     "text": [
      "✅ Success: 6HHD_nanobody_B.pdb\n"
     ]
    },
    {
     "data": {
      "text/plain": [],
      "text/html": [
       "<pre style=\"white-space:pre;overflow-x:auto;line-height:normal;font-family:Menlo,'DejaVu Sans Mono',consolas,'Courier New',monospace\"></pre>\n"
      ]
     },
     "metadata": {},
     "output_type": "display_data"
    },
    {
     "data": {
      "text/plain": [
       "Output()"
      ],
      "application/vnd.jupyter.widget-view+json": {
       "version_major": 2,
       "version_minor": 0,
       "model_id": "ce8acc8425854139964df094ac4fdada"
      }
     },
     "metadata": {},
     "output_type": "display_data"
    },
    {
     "name": "stdout",
     "output_type": "stream",
     "text": [
      "✅ Success: 8B1I_nanobody_B.pdb\n"
     ]
    },
    {
     "data": {
      "text/plain": [],
      "text/html": [
       "<pre style=\"white-space:pre;overflow-x:auto;line-height:normal;font-family:Menlo,'DejaVu Sans Mono',consolas,'Courier New',monospace\"></pre>\n"
      ]
     },
     "metadata": {},
     "output_type": "display_data"
    },
    {
     "data": {
      "text/plain": [
       "Output()"
      ],
      "application/vnd.jupyter.widget-view+json": {
       "version_major": 2,
       "version_minor": 0,
       "model_id": "c3adddcc72e94326a7d54e4890cd1017"
      }
     },
     "metadata": {},
     "output_type": "display_data"
    },
    {
     "name": "stdout",
     "output_type": "stream",
     "text": [
      "✅ Success: 7ON5_nanobody_A.pdb\n"
     ]
    },
    {
     "data": {
      "text/plain": [],
      "text/html": [
       "<pre style=\"white-space:pre;overflow-x:auto;line-height:normal;font-family:Menlo,'DejaVu Sans Mono',consolas,'Courier New',monospace\"></pre>\n"
      ]
     },
     "metadata": {},
     "output_type": "display_data"
    },
    {
     "data": {
      "text/plain": [
       "Output()"
      ],
      "application/vnd.jupyter.widget-view+json": {
       "version_major": 2,
       "version_minor": 0,
       "model_id": "17c595a86b5a41dbac7ac101b9fbddf8"
      }
     },
     "metadata": {},
     "output_type": "display_data"
    },
    {
     "name": "stdout",
     "output_type": "stream",
     "text": [
      "✅ Success: 7ZMT_nanobody_K.pdb\n"
     ]
    },
    {
     "data": {
      "text/plain": [],
      "text/html": [
       "<pre style=\"white-space:pre;overflow-x:auto;line-height:normal;font-family:Menlo,'DejaVu Sans Mono',consolas,'Courier New',monospace\"></pre>\n"
      ]
     },
     "metadata": {},
     "output_type": "display_data"
    },
    {
     "data": {
      "text/plain": [
       "Output()"
      ],
      "application/vnd.jupyter.widget-view+json": {
       "version_major": 2,
       "version_minor": 0,
       "model_id": "5c73b2ab18e44b46866f27edc8e9af26"
      }
     },
     "metadata": {},
     "output_type": "display_data"
    },
    {
     "name": "stdout",
     "output_type": "stream",
     "text": [
      "✅ Success: 8IIU_nanobody_B.pdb\n"
     ]
    },
    {
     "data": {
      "text/plain": [],
      "text/html": [
       "<pre style=\"white-space:pre;overflow-x:auto;line-height:normal;font-family:Menlo,'DejaVu Sans Mono',consolas,'Courier New',monospace\"></pre>\n"
      ]
     },
     "metadata": {},
     "output_type": "display_data"
    },
    {
     "data": {
      "text/plain": [
       "Output()"
      ],
      "application/vnd.jupyter.widget-view+json": {
       "version_major": 2,
       "version_minor": 0,
       "model_id": "31cf83d51dd94b04b7ab42c98fae9837"
      }
     },
     "metadata": {},
     "output_type": "display_data"
    },
    {
     "name": "stdout",
     "output_type": "stream",
     "text": [
      "✅ Success: 7F5G_nanobody_B.pdb\n"
     ]
    },
    {
     "data": {
      "text/plain": [],
      "text/html": [
       "<pre style=\"white-space:pre;overflow-x:auto;line-height:normal;font-family:Menlo,'DejaVu Sans Mono',consolas,'Courier New',monospace\"></pre>\n"
      ]
     },
     "metadata": {},
     "output_type": "display_data"
    },
    {
     "data": {
      "text/plain": [
       "Output()"
      ],
      "application/vnd.jupyter.widget-view+json": {
       "version_major": 2,
       "version_minor": 0,
       "model_id": "1dac6dbe22a84b9b8ccfd7aaed8b301c"
      }
     },
     "metadata": {},
     "output_type": "display_data"
    },
    {
     "name": "stdout",
     "output_type": "stream",
     "text": [
      "✅ Success: 8FTG_nanobody_H.pdb\n"
     ]
    },
    {
     "data": {
      "text/plain": [],
      "text/html": [
       "<pre style=\"white-space:pre;overflow-x:auto;line-height:normal;font-family:Menlo,'DejaVu Sans Mono',consolas,'Courier New',monospace\"></pre>\n"
      ]
     },
     "metadata": {},
     "output_type": "display_data"
    },
    {
     "data": {
      "text/plain": [
       "Output()"
      ],
      "application/vnd.jupyter.widget-view+json": {
       "version_major": 2,
       "version_minor": 0,
       "model_id": "854c8c3d469940dd8ef5244c17c8d354"
      }
     },
     "metadata": {},
     "output_type": "display_data"
    },
    {
     "name": "stdout",
     "output_type": "stream",
     "text": [
      "✅ Success: 8YVO_nanobody_B.pdb\n"
     ]
    },
    {
     "data": {
      "text/plain": [],
      "text/html": [
       "<pre style=\"white-space:pre;overflow-x:auto;line-height:normal;font-family:Menlo,'DejaVu Sans Mono',consolas,'Courier New',monospace\"></pre>\n"
      ]
     },
     "metadata": {},
     "output_type": "display_data"
    },
    {
     "data": {
      "text/plain": [
       "Output()"
      ],
      "application/vnd.jupyter.widget-view+json": {
       "version_major": 2,
       "version_minor": 0,
       "model_id": "bd92080c0d344144b83c61af439802c1"
      }
     },
     "metadata": {},
     "output_type": "display_data"
    },
    {
     "name": "stdout",
     "output_type": "stream",
     "text": [
      "✅ Success: 2P43_nanobody_A.pdb\n"
     ]
    },
    {
     "data": {
      "text/plain": [],
      "text/html": [
       "<pre style=\"white-space:pre;overflow-x:auto;line-height:normal;font-family:Menlo,'DejaVu Sans Mono',consolas,'Courier New',monospace\"></pre>\n"
      ]
     },
     "metadata": {},
     "output_type": "display_data"
    },
    {
     "data": {
      "text/plain": [
       "Output()"
      ],
      "application/vnd.jupyter.widget-view+json": {
       "version_major": 2,
       "version_minor": 0,
       "model_id": "b50a56c5ad7d404eb2292dd69b632cbf"
      }
     },
     "metadata": {},
     "output_type": "display_data"
    },
    {
     "name": "stdout",
     "output_type": "stream",
     "text": [
      "✅ Success: 8B1A_nanobody_B.pdb\n"
     ]
    },
    {
     "data": {
      "text/plain": [],
      "text/html": [
       "<pre style=\"white-space:pre;overflow-x:auto;line-height:normal;font-family:Menlo,'DejaVu Sans Mono',consolas,'Courier New',monospace\"></pre>\n"
      ]
     },
     "metadata": {},
     "output_type": "display_data"
    },
    {
     "data": {
      "text/plain": [
       "Output()"
      ],
      "application/vnd.jupyter.widget-view+json": {
       "version_major": 2,
       "version_minor": 0,
       "model_id": "8c267b6815cd4430821e479abe9d74f5"
      }
     },
     "metadata": {},
     "output_type": "display_data"
    },
    {
     "name": "stdout",
     "output_type": "stream",
     "text": [
      "✅ Success: 9G48_nanobody_C.pdb\n"
     ]
    },
    {
     "data": {
      "text/plain": [],
      "text/html": [
       "<pre style=\"white-space:pre;overflow-x:auto;line-height:normal;font-family:Menlo,'DejaVu Sans Mono',consolas,'Courier New',monospace\"></pre>\n"
      ]
     },
     "metadata": {},
     "output_type": "display_data"
    },
    {
     "data": {
      "text/plain": [
       "Output()"
      ],
      "application/vnd.jupyter.widget-view+json": {
       "version_major": 2,
       "version_minor": 0,
       "model_id": "c0069f91ac6e4cbc927c418ec9f34eed"
      }
     },
     "metadata": {},
     "output_type": "display_data"
    },
    {
     "name": "stdout",
     "output_type": "stream",
     "text": [
      "✅ Success: 7YZI_nanobody_D.pdb\n"
     ]
    },
    {
     "data": {
      "text/plain": [],
      "text/html": [
       "<pre style=\"white-space:pre;overflow-x:auto;line-height:normal;font-family:Menlo,'DejaVu Sans Mono',consolas,'Courier New',monospace\"></pre>\n"
      ]
     },
     "metadata": {},
     "output_type": "display_data"
    },
    {
     "data": {
      "text/plain": [
       "Output()"
      ],
      "application/vnd.jupyter.widget-view+json": {
       "version_major": 2,
       "version_minor": 0,
       "model_id": "8c69be1ab5e640808e03d55ad8aa1c79"
      }
     },
     "metadata": {},
     "output_type": "display_data"
    },
    {
     "name": "stdout",
     "output_type": "stream",
     "text": [
      "✅ Success: 6V7Z_nanobody_E.pdb\n"
     ]
    },
    {
     "data": {
      "text/plain": [],
      "text/html": [
       "<pre style=\"white-space:pre;overflow-x:auto;line-height:normal;font-family:Menlo,'DejaVu Sans Mono',consolas,'Courier New',monospace\"></pre>\n"
      ]
     },
     "metadata": {},
     "output_type": "display_data"
    },
    {
     "data": {
      "text/plain": [
       "Output()"
      ],
      "application/vnd.jupyter.widget-view+json": {
       "version_major": 2,
       "version_minor": 0,
       "model_id": "d44d8a6827b547709d399a614c214a33"
      }
     },
     "metadata": {},
     "output_type": "display_data"
    },
    {
     "name": "stdout",
     "output_type": "stream",
     "text": [
      "✅ Success: 8AV2_nanobody_C.pdb\n"
     ]
    },
    {
     "data": {
      "text/plain": [],
      "text/html": [
       "<pre style=\"white-space:pre;overflow-x:auto;line-height:normal;font-family:Menlo,'DejaVu Sans Mono',consolas,'Courier New',monospace\"></pre>\n"
      ]
     },
     "metadata": {},
     "output_type": "display_data"
    },
    {
     "data": {
      "text/plain": [
       "Output()"
      ],
      "application/vnd.jupyter.widget-view+json": {
       "version_major": 2,
       "version_minor": 0,
       "model_id": "2e9e215164fe4d2ca372503038ed8275"
      }
     },
     "metadata": {},
     "output_type": "display_data"
    },
    {
     "name": "stdout",
     "output_type": "stream",
     "text": [
      "✅ Success: 4ZG1_nanobody_A.pdb\n"
     ]
    },
    {
     "data": {
      "text/plain": [],
      "text/html": [
       "<pre style=\"white-space:pre;overflow-x:auto;line-height:normal;font-family:Menlo,'DejaVu Sans Mono',consolas,'Courier New',monospace\"></pre>\n"
      ]
     },
     "metadata": {},
     "output_type": "display_data"
    },
    {
     "data": {
      "text/plain": [
       "Output()"
      ],
      "application/vnd.jupyter.widget-view+json": {
       "version_major": 2,
       "version_minor": 0,
       "model_id": "ade838aba4fb40b69358d507d4016428"
      }
     },
     "metadata": {},
     "output_type": "display_data"
    },
    {
     "name": "stdout",
     "output_type": "stream",
     "text": [
      "✅ Success: 6XXP_nanobody_A.pdb\n"
     ]
    },
    {
     "data": {
      "text/plain": [],
      "text/html": [
       "<pre style=\"white-space:pre;overflow-x:auto;line-height:normal;font-family:Menlo,'DejaVu Sans Mono',consolas,'Courier New',monospace\"></pre>\n"
      ]
     },
     "metadata": {},
     "output_type": "display_data"
    },
    {
     "data": {
      "text/plain": [
       "Output()"
      ],
      "application/vnd.jupyter.widget-view+json": {
       "version_major": 2,
       "version_minor": 0,
       "model_id": "64d7a9a6a95947f28737b72d5623d6e0"
      }
     },
     "metadata": {},
     "output_type": "display_data"
    },
    {
     "name": "stdout",
     "output_type": "stream",
     "text": [
      "✅ Success: 8RPE_nanobody_B.pdb\n"
     ]
    },
    {
     "data": {
      "text/plain": [],
      "text/html": [
       "<pre style=\"white-space:pre;overflow-x:auto;line-height:normal;font-family:Menlo,'DejaVu Sans Mono',consolas,'Courier New',monospace\"></pre>\n"
      ]
     },
     "metadata": {},
     "output_type": "display_data"
    },
    {
     "data": {
      "text/plain": [
       "Output()"
      ],
      "application/vnd.jupyter.widget-view+json": {
       "version_major": 2,
       "version_minor": 0,
       "model_id": "6c171fb4fbaf409ba2c62530ccc87dbf"
      }
     },
     "metadata": {},
     "output_type": "display_data"
    },
    {
     "name": "stdout",
     "output_type": "stream",
     "text": [
      "✅ Success: 8B1H_nanobody_B.pdb\n"
     ]
    },
    {
     "data": {
      "text/plain": [],
      "text/html": [
       "<pre style=\"white-space:pre;overflow-x:auto;line-height:normal;font-family:Menlo,'DejaVu Sans Mono',consolas,'Courier New',monospace\"></pre>\n"
      ]
     },
     "metadata": {},
     "output_type": "display_data"
    },
    {
     "data": {
      "text/plain": [
       "Output()"
      ],
      "application/vnd.jupyter.widget-view+json": {
       "version_major": 2,
       "version_minor": 0,
       "model_id": "55ecada3fbeb4a329d438c9eb3bff751"
      }
     },
     "metadata": {},
     "output_type": "display_data"
    },
    {
     "name": "stdout",
     "output_type": "stream",
     "text": [
      "✅ Success: 7YZI_nanobody_E.pdb\n"
     ]
    },
    {
     "data": {
      "text/plain": [],
      "text/html": [
       "<pre style=\"white-space:pre;overflow-x:auto;line-height:normal;font-family:Menlo,'DejaVu Sans Mono',consolas,'Courier New',monospace\"></pre>\n"
      ]
     },
     "metadata": {},
     "output_type": "display_data"
    },
    {
     "data": {
      "text/plain": [
       "Output()"
      ],
      "application/vnd.jupyter.widget-view+json": {
       "version_major": 2,
       "version_minor": 0,
       "model_id": "e012b058392342b29b2ebce5c2e61b91"
      }
     },
     "metadata": {},
     "output_type": "display_data"
    },
    {
     "name": "stdout",
     "output_type": "stream",
     "text": [
      "✅ Success: 6U54_nanobody_A.pdb\n"
     ]
    },
    {
     "data": {
      "text/plain": [],
      "text/html": [
       "<pre style=\"white-space:pre;overflow-x:auto;line-height:normal;font-family:Menlo,'DejaVu Sans Mono',consolas,'Courier New',monospace\"></pre>\n"
      ]
     },
     "metadata": {},
     "output_type": "display_data"
    },
    {
     "data": {
      "text/plain": [
       "Output()"
      ],
      "application/vnd.jupyter.widget-view+json": {
       "version_major": 2,
       "version_minor": 0,
       "model_id": "525dec52b3d64643a616cbc59d99a42d"
      }
     },
     "metadata": {},
     "output_type": "display_data"
    },
    {
     "name": "stdout",
     "output_type": "stream",
     "text": [
      "✅ Success: 4W6Y_nanobody_B.pdb\n"
     ]
    },
    {
     "data": {
      "text/plain": [],
      "text/html": [
       "<pre style=\"white-space:pre;overflow-x:auto;line-height:normal;font-family:Menlo,'DejaVu Sans Mono',consolas,'Courier New',monospace\"></pre>\n"
      ]
     },
     "metadata": {},
     "output_type": "display_data"
    },
    {
     "data": {
      "text/plain": [
       "Output()"
      ],
      "application/vnd.jupyter.widget-view+json": {
       "version_major": 2,
       "version_minor": 0,
       "model_id": "5562abbbea744acba212cc1c9bd028e1"
      }
     },
     "metadata": {},
     "output_type": "display_data"
    },
    {
     "name": "stdout",
     "output_type": "stream",
     "text": [
      "✅ Success: 6HHD_nanobody_D.pdb\n"
     ]
    },
    {
     "data": {
      "text/plain": [],
      "text/html": [
       "<pre style=\"white-space:pre;overflow-x:auto;line-height:normal;font-family:Menlo,'DejaVu Sans Mono',consolas,'Courier New',monospace\"></pre>\n"
      ]
     },
     "metadata": {},
     "output_type": "display_data"
    },
    {
     "data": {
      "text/plain": [
       "Output()"
      ],
      "application/vnd.jupyter.widget-view+json": {
       "version_major": 2,
       "version_minor": 0,
       "model_id": "a6eafe667e334bbf8e814a1f80cdad8c"
      }
     },
     "metadata": {},
     "output_type": "display_data"
    },
    {
     "name": "stdout",
     "output_type": "stream",
     "text": [
      "✅ Success: 8JJV_nanobody_A.pdb\n"
     ]
    },
    {
     "data": {
      "text/plain": [],
      "text/html": [
       "<pre style=\"white-space:pre;overflow-x:auto;line-height:normal;font-family:Menlo,'DejaVu Sans Mono',consolas,'Courier New',monospace\"></pre>\n"
      ]
     },
     "metadata": {},
     "output_type": "display_data"
    },
    {
     "data": {
      "text/plain": [
       "Output()"
      ],
      "application/vnd.jupyter.widget-view+json": {
       "version_major": 2,
       "version_minor": 0,
       "model_id": "d84f33b65bf24f888c625bcb0bc9bd76"
      }
     },
     "metadata": {},
     "output_type": "display_data"
    },
    {
     "name": "stdout",
     "output_type": "stream",
     "text": [
      "✅ Success: 7TJC_nanobody_B.pdb\n"
     ]
    },
    {
     "data": {
      "text/plain": [],
      "text/html": [
       "<pre style=\"white-space:pre;overflow-x:auto;line-height:normal;font-family:Menlo,'DejaVu Sans Mono',consolas,'Courier New',monospace\"></pre>\n"
      ]
     },
     "metadata": {},
     "output_type": "display_data"
    },
    {
     "data": {
      "text/plain": [
       "Output()"
      ],
      "application/vnd.jupyter.widget-view+json": {
       "version_major": 2,
       "version_minor": 0,
       "model_id": "9e3a1e9126394093b44db2e52106949e"
      }
     },
     "metadata": {},
     "output_type": "display_data"
    },
    {
     "name": "stdout",
     "output_type": "stream",
     "text": [
      "✅ Success: 7KN5_nanobody_C.pdb\n"
     ]
    },
    {
     "data": {
      "text/plain": [],
      "text/html": [
       "<pre style=\"white-space:pre;overflow-x:auto;line-height:normal;font-family:Menlo,'DejaVu Sans Mono',consolas,'Courier New',monospace\"></pre>\n"
      ]
     },
     "metadata": {},
     "output_type": "display_data"
    },
    {
     "data": {
      "text/plain": [
       "Output()"
      ],
      "application/vnd.jupyter.widget-view+json": {
       "version_major": 2,
       "version_minor": 0,
       "model_id": "1bab752f2d5b4cb7ae8c0103b4d32adb"
      }
     },
     "metadata": {},
     "output_type": "display_data"
    },
    {
     "name": "stdout",
     "output_type": "stream",
     "text": [
      "✅ Success: 7ANQ_nanobody_B.pdb\n"
     ]
    },
    {
     "data": {
      "text/plain": [],
      "text/html": [
       "<pre style=\"white-space:pre;overflow-x:auto;line-height:normal;font-family:Menlo,'DejaVu Sans Mono',consolas,'Courier New',monospace\"></pre>\n"
      ]
     },
     "metadata": {},
     "output_type": "display_data"
    },
    {
     "data": {
      "text/plain": [
       "Output()"
      ],
      "application/vnd.jupyter.widget-view+json": {
       "version_major": 2,
       "version_minor": 0,
       "model_id": "d444daf88c9d48b0a2dade7f31ae0206"
      }
     },
     "metadata": {},
     "output_type": "display_data"
    },
    {
     "name": "stdout",
     "output_type": "stream",
     "text": [
      "✅ Success: 4ZG1_nanobody_B.pdb\n"
     ]
    },
    {
     "data": {
      "text/plain": [],
      "text/html": [
       "<pre style=\"white-space:pre;overflow-x:auto;line-height:normal;font-family:Menlo,'DejaVu Sans Mono',consolas,'Courier New',monospace\"></pre>\n"
      ]
     },
     "metadata": {},
     "output_type": "display_data"
    },
    {
     "data": {
      "text/plain": [
       "Output()"
      ],
      "application/vnd.jupyter.widget-view+json": {
       "version_major": 2,
       "version_minor": 0,
       "model_id": "c892d5020449471aaf198eea756f78d9"
      }
     },
     "metadata": {},
     "output_type": "display_data"
    },
    {
     "name": "stdout",
     "output_type": "stream",
     "text": [
      "✅ Success: 8B1G_nanobody_B.pdb\n"
     ]
    },
    {
     "data": {
      "text/plain": [],
      "text/html": [
       "<pre style=\"white-space:pre;overflow-x:auto;line-height:normal;font-family:Menlo,'DejaVu Sans Mono',consolas,'Courier New',monospace\"></pre>\n"
      ]
     },
     "metadata": {},
     "output_type": "display_data"
    },
    {
     "data": {
      "text/plain": [
       "Output()"
      ],
      "application/vnd.jupyter.widget-view+json": {
       "version_major": 2,
       "version_minor": 0,
       "model_id": "20b1118b034d48128ae697398a2050b2"
      }
     },
     "metadata": {},
     "output_type": "display_data"
    },
    {
     "name": "stdout",
     "output_type": "stream",
     "text": [
      "✅ Success: 7ZMO_nanobody_C.pdb\n"
     ]
    },
    {
     "data": {
      "text/plain": [],
      "text/html": [
       "<pre style=\"white-space:pre;overflow-x:auto;line-height:normal;font-family:Menlo,'DejaVu Sans Mono',consolas,'Courier New',monospace\"></pre>\n"
      ]
     },
     "metadata": {},
     "output_type": "display_data"
    },
    {
     "data": {
      "text/plain": [
       "Output()"
      ],
      "application/vnd.jupyter.widget-view+json": {
       "version_major": 2,
       "version_minor": 0,
       "model_id": "abe4104a9fff4da3b85cae842d277831"
      }
     },
     "metadata": {},
     "output_type": "display_data"
    },
    {
     "name": "stdout",
     "output_type": "stream",
     "text": [
      "✅ Success: 5E7B_nanobody_A.pdb\n"
     ]
    },
    {
     "data": {
      "text/plain": [],
      "text/html": [
       "<pre style=\"white-space:pre;overflow-x:auto;line-height:normal;font-family:Menlo,'DejaVu Sans Mono',consolas,'Courier New',monospace\"></pre>\n"
      ]
     },
     "metadata": {},
     "output_type": "display_data"
    },
    {
     "data": {
      "text/plain": [
       "Output()"
      ],
      "application/vnd.jupyter.widget-view+json": {
       "version_major": 2,
       "version_minor": 0,
       "model_id": "081d8a4ad7524cad9520968c606ae194"
      }
     },
     "metadata": {},
     "output_type": "display_data"
    },
    {
     "name": "stdout",
     "output_type": "stream",
     "text": [
      "✅ Success: 7F5G_nanobody_D.pdb\n"
     ]
    },
    {
     "data": {
      "text/plain": [],
      "text/html": [
       "<pre style=\"white-space:pre;overflow-x:auto;line-height:normal;font-family:Menlo,'DejaVu Sans Mono',consolas,'Courier New',monospace\"></pre>\n"
      ]
     },
     "metadata": {},
     "output_type": "display_data"
    },
    {
     "data": {
      "text/plain": [
       "Output()"
      ],
      "application/vnd.jupyter.widget-view+json": {
       "version_major": 2,
       "version_minor": 0,
       "model_id": "53ed504904ee41bfb3685f8b25aabbb3"
      }
     },
     "metadata": {},
     "output_type": "display_data"
    },
    {
     "name": "stdout",
     "output_type": "stream",
     "text": [
      "✅ Success: 8SKJ_nanobody_G.pdb\n"
     ]
    },
    {
     "data": {
      "text/plain": [],
      "text/html": [
       "<pre style=\"white-space:pre;overflow-x:auto;line-height:normal;font-family:Menlo,'DejaVu Sans Mono',consolas,'Courier New',monospace\"></pre>\n"
      ]
     },
     "metadata": {},
     "output_type": "display_data"
    },
    {
     "data": {
      "text/plain": [
       "Output()"
      ],
      "application/vnd.jupyter.widget-view+json": {
       "version_major": 2,
       "version_minor": 0,
       "model_id": "cf3a995521104b1485ff36bdf3856a69"
      }
     },
     "metadata": {},
     "output_type": "display_data"
    },
    {
     "name": "stdout",
     "output_type": "stream",
     "text": [
      "✅ Success: 7ZMR_nanobody_K.pdb\n"
     ]
    },
    {
     "data": {
      "text/plain": [],
      "text/html": [
       "<pre style=\"white-space:pre;overflow-x:auto;line-height:normal;font-family:Menlo,'DejaVu Sans Mono',consolas,'Courier New',monospace\"></pre>\n"
      ]
     },
     "metadata": {},
     "output_type": "display_data"
    },
    {
     "data": {
      "text/plain": [
       "Output()"
      ],
      "application/vnd.jupyter.widget-view+json": {
       "version_major": 2,
       "version_minor": 0,
       "model_id": "8537fe4addb44e75a5375d715b0ed85f"
      }
     },
     "metadata": {},
     "output_type": "display_data"
    },
    {
     "name": "stdout",
     "output_type": "stream",
     "text": [
      "✅ Success: 6U53_nanobody_A.pdb\n"
     ]
    },
    {
     "data": {
      "text/plain": [],
      "text/html": [
       "<pre style=\"white-space:pre;overflow-x:auto;line-height:normal;font-family:Menlo,'DejaVu Sans Mono',consolas,'Courier New',monospace\"></pre>\n"
      ]
     },
     "metadata": {},
     "output_type": "display_data"
    },
    {
     "data": {
      "text/plain": [
       "Output()"
      ],
      "application/vnd.jupyter.widget-view+json": {
       "version_major": 2,
       "version_minor": 0,
       "model_id": "a169e08a30e54a88a0a7d8a635a96802"
      }
     },
     "metadata": {},
     "output_type": "display_data"
    },
    {
     "name": "stdout",
     "output_type": "stream",
     "text": [
      "✅ Success: 4I13_nanobody_B.pdb\n"
     ]
    },
    {
     "data": {
      "text/plain": [],
      "text/html": [
       "<pre style=\"white-space:pre;overflow-x:auto;line-height:normal;font-family:Menlo,'DejaVu Sans Mono',consolas,'Courier New',monospace\"></pre>\n"
      ]
     },
     "metadata": {},
     "output_type": "display_data"
    },
    {
     "data": {
      "text/plain": [
       "Output()"
      ],
      "application/vnd.jupyter.widget-view+json": {
       "version_major": 2,
       "version_minor": 0,
       "model_id": "f1a9f6e480bf40c0aace7cd02ce5acd4"
      }
     },
     "metadata": {},
     "output_type": "display_data"
    },
    {
     "name": "stdout",
     "output_type": "stream",
     "text": [
      "✅ Success: 8B1E_nanobody_B.pdb\n"
     ]
    },
    {
     "data": {
      "text/plain": [],
      "text/html": [
       "<pre style=\"white-space:pre;overflow-x:auto;line-height:normal;font-family:Menlo,'DejaVu Sans Mono',consolas,'Courier New',monospace\"></pre>\n"
      ]
     },
     "metadata": {},
     "output_type": "display_data"
    },
    {
     "data": {
      "text/plain": [
       "Output()"
      ],
      "application/vnd.jupyter.widget-view+json": {
       "version_major": 2,
       "version_minor": 0,
       "model_id": "cac91b18d9724ecf8b72df368e2307af"
      }
     },
     "metadata": {},
     "output_type": "display_data"
    },
    {
     "name": "stdout",
     "output_type": "stream",
     "text": [
      "✅ Success: 6GLW_nanobody_A.pdb\n"
     ]
    },
    {
     "data": {
      "text/plain": [],
      "text/html": [
       "<pre style=\"white-space:pre;overflow-x:auto;line-height:normal;font-family:Menlo,'DejaVu Sans Mono',consolas,'Courier New',monospace\"></pre>\n"
      ]
     },
     "metadata": {},
     "output_type": "display_data"
    },
    {
     "data": {
      "text/plain": [
       "Output()"
      ],
      "application/vnd.jupyter.widget-view+json": {
       "version_major": 2,
       "version_minor": 0,
       "model_id": "a2256895ed6145f2b9689b7e0cced3fa"
      }
     },
     "metadata": {},
     "output_type": "display_data"
    },
    {
     "name": "stdout",
     "output_type": "stream",
     "text": [
      "✅ Success: 6ZWK_nanobody_A.pdb\n"
     ]
    },
    {
     "data": {
      "text/plain": [],
      "text/html": [
       "<pre style=\"white-space:pre;overflow-x:auto;line-height:normal;font-family:Menlo,'DejaVu Sans Mono',consolas,'Courier New',monospace\"></pre>\n"
      ]
     },
     "metadata": {},
     "output_type": "display_data"
    },
    {
     "data": {
      "text/plain": [
       "Output()"
      ],
      "application/vnd.jupyter.widget-view+json": {
       "version_major": 2,
       "version_minor": 0,
       "model_id": "f1fe531b3ad14f2b9e61e4f47535986c"
      }
     },
     "metadata": {},
     "output_type": "display_data"
    },
    {
     "data": {
      "text/plain": [],
      "text/html": [
       "<pre style=\"white-space:pre;overflow-x:auto;line-height:normal;font-family:Menlo,'DejaVu Sans Mono',consolas,'Courier New',monospace\"></pre>\n"
      ]
     },
     "metadata": {},
     "output_type": "display_data"
    },
    {
     "data": {
      "text/plain": [
       "Output()"
      ],
      "application/vnd.jupyter.widget-view+json": {
       "version_major": 2,
       "version_minor": 0,
       "model_id": "87b551bd354643dca138a44cf8c29e76"
      }
     },
     "metadata": {},
     "output_type": "display_data"
    },
    {
     "name": "stdout",
     "output_type": "stream",
     "text": [
      "✅ Success: 8E2N_nanobody_B.pdb\n"
     ]
    },
    {
     "data": {
      "text/plain": [],
      "text/html": [
       "<pre style=\"white-space:pre;overflow-x:auto;line-height:normal;font-family:Menlo,'DejaVu Sans Mono',consolas,'Courier New',monospace\"></pre>\n"
      ]
     },
     "metadata": {},
     "output_type": "display_data"
    },
    {
     "data": {
      "text/plain": [
       "Output()"
      ],
      "application/vnd.jupyter.widget-view+json": {
       "version_major": 2,
       "version_minor": 0,
       "model_id": "f7accee4ca574a32a5c865e754fb65e7"
      }
     },
     "metadata": {},
     "output_type": "display_data"
    },
    {
     "name": "stdout",
     "output_type": "stream",
     "text": [
      "✅ Success: 7R63_nanobody_B.pdb\n"
     ]
    },
    {
     "data": {
      "text/plain": [],
      "text/html": [
       "<pre style=\"white-space:pre;overflow-x:auto;line-height:normal;font-family:Menlo,'DejaVu Sans Mono',consolas,'Courier New',monospace\"></pre>\n"
      ]
     },
     "metadata": {},
     "output_type": "display_data"
    },
    {
     "data": {
      "text/plain": [
       "Output()"
      ],
      "application/vnd.jupyter.widget-view+json": {
       "version_major": 2,
       "version_minor": 0,
       "model_id": "4260d654340b44a1949daadeeda3887a"
      }
     },
     "metadata": {},
     "output_type": "display_data"
    },
    {
     "name": "stdout",
     "output_type": "stream",
     "text": [
      "✅ Success: 5LMW_nanobody_A.pdb\n"
     ]
    },
    {
     "data": {
      "text/plain": [],
      "text/html": [
       "<pre style=\"white-space:pre;overflow-x:auto;line-height:normal;font-family:Menlo,'DejaVu Sans Mono',consolas,'Courier New',monospace\"></pre>\n"
      ]
     },
     "metadata": {},
     "output_type": "display_data"
    },
    {
     "data": {
      "text/plain": [
       "Output()"
      ],
      "application/vnd.jupyter.widget-view+json": {
       "version_major": 2,
       "version_minor": 0,
       "model_id": "5d391ae5237645288ffb7a737533df3a"
      }
     },
     "metadata": {},
     "output_type": "display_data"
    },
    {
     "name": "stdout",
     "output_type": "stream",
     "text": [
      "✅ Success: 7T84_nanobody_H.pdb\n"
     ]
    },
    {
     "data": {
      "text/plain": [],
      "text/html": [
       "<pre style=\"white-space:pre;overflow-x:auto;line-height:normal;font-family:Menlo,'DejaVu Sans Mono',consolas,'Courier New',monospace\"></pre>\n"
      ]
     },
     "metadata": {},
     "output_type": "display_data"
    },
    {
     "data": {
      "text/plain": [
       "Output()"
      ],
      "application/vnd.jupyter.widget-view+json": {
       "version_major": 2,
       "version_minor": 0,
       "model_id": "59d48de9a402492c9274c1cc3a511dcb"
      }
     },
     "metadata": {},
     "output_type": "display_data"
    },
    {
     "name": "stdout",
     "output_type": "stream",
     "text": [
      "✅ Success: 6ZWK_nanobody_B.pdb\n"
     ]
    },
    {
     "data": {
      "text/plain": [],
      "text/html": [
       "<pre style=\"white-space:pre;overflow-x:auto;line-height:normal;font-family:Menlo,'DejaVu Sans Mono',consolas,'Courier New',monospace\"></pre>\n"
      ]
     },
     "metadata": {},
     "output_type": "display_data"
    },
    {
     "data": {
      "text/plain": [
       "Output()"
      ],
      "application/vnd.jupyter.widget-view+json": {
       "version_major": 2,
       "version_minor": 0,
       "model_id": "8938a315bf184450b7cb044a3cb9bcf4"
      }
     },
     "metadata": {},
     "output_type": "display_data"
    },
    {
     "name": "stdout",
     "output_type": "stream",
     "text": [
      "✅ Success: 7XL1_nanobody_A.pdb\n"
     ]
    },
    {
     "data": {
      "text/plain": [],
      "text/html": [
       "<pre style=\"white-space:pre;overflow-x:auto;line-height:normal;font-family:Menlo,'DejaVu Sans Mono',consolas,'Courier New',monospace\"></pre>\n"
      ]
     },
     "metadata": {},
     "output_type": "display_data"
    },
    {
     "data": {
      "text/plain": [
       "Output()"
      ],
      "application/vnd.jupyter.widget-view+json": {
       "version_major": 2,
       "version_minor": 0,
       "model_id": "d2fe0f5b1eff4be5ab93ab368add8f04"
      }
     },
     "metadata": {},
     "output_type": "display_data"
    },
    {
     "name": "stdout",
     "output_type": "stream",
     "text": [
      "✅ Success: 8B1B_nanobody_B.pdb\n"
     ]
    },
    {
     "data": {
      "text/plain": [],
      "text/html": [
       "<pre style=\"white-space:pre;overflow-x:auto;line-height:normal;font-family:Menlo,'DejaVu Sans Mono',consolas,'Courier New',monospace\"></pre>\n"
      ]
     },
     "metadata": {},
     "output_type": "display_data"
    },
    {
     "data": {
      "text/plain": [
       "Output()"
      ],
      "application/vnd.jupyter.widget-view+json": {
       "version_major": 2,
       "version_minor": 0,
       "model_id": "e67e5bf165ee471cbcb6c251f8805df9"
      }
     },
     "metadata": {},
     "output_type": "display_data"
    },
    {
     "name": "stdout",
     "output_type": "stream",
     "text": [
      "✅ Success: 7YZK_nanobody_D.pdb\n"
     ]
    },
    {
     "data": {
      "text/plain": [],
      "text/html": [
       "<pre style=\"white-space:pre;overflow-x:auto;line-height:normal;font-family:Menlo,'DejaVu Sans Mono',consolas,'Courier New',monospace\"></pre>\n"
      ]
     },
     "metadata": {},
     "output_type": "display_data"
    },
    {
     "data": {
      "text/plain": [
       "Output()"
      ],
      "application/vnd.jupyter.widget-view+json": {
       "version_major": 2,
       "version_minor": 0,
       "model_id": "db54a1151b484ee7941c96c5b7c62ddf"
      }
     },
     "metadata": {},
     "output_type": "display_data"
    },
    {
     "name": "stdout",
     "output_type": "stream",
     "text": [
      "✅ Success: 6GJS_nanobody_B.pdb\n"
     ]
    },
    {
     "data": {
      "text/plain": [],
      "text/html": [
       "<pre style=\"white-space:pre;overflow-x:auto;line-height:normal;font-family:Menlo,'DejaVu Sans Mono',consolas,'Courier New',monospace\"></pre>\n"
      ]
     },
     "metadata": {},
     "output_type": "display_data"
    },
    {
     "data": {
      "text/plain": [
       "Output()"
      ],
      "application/vnd.jupyter.widget-view+json": {
       "version_major": 2,
       "version_minor": 0,
       "model_id": "4aaf0e3979fc4e2fa3edc1ede32a405b"
      }
     },
     "metadata": {},
     "output_type": "display_data"
    },
    {
     "name": "stdout",
     "output_type": "stream",
     "text": [
      "✅ Success: 8E2N_nanobody_A.pdb\n"
     ]
    },
    {
     "data": {
      "text/plain": [],
      "text/html": [
       "<pre style=\"white-space:pre;overflow-x:auto;line-height:normal;font-family:Menlo,'DejaVu Sans Mono',consolas,'Courier New',monospace\"></pre>\n"
      ]
     },
     "metadata": {},
     "output_type": "display_data"
    },
    {
     "data": {
      "text/plain": [
       "Output()"
      ],
      "application/vnd.jupyter.widget-view+json": {
       "version_major": 2,
       "version_minor": 0,
       "model_id": "e0e06d51a20a489cb78b922bb9db5c9f"
      }
     },
     "metadata": {},
     "output_type": "display_data"
    },
    {
     "name": "stdout",
     "output_type": "stream",
     "text": [
      "✅ Success: 7SAK_nanobody_B.pdb\n"
     ]
    },
    {
     "data": {
      "text/plain": [],
      "text/html": [
       "<pre style=\"white-space:pre;overflow-x:auto;line-height:normal;font-family:Menlo,'DejaVu Sans Mono',consolas,'Courier New',monospace\"></pre>\n"
      ]
     },
     "metadata": {},
     "output_type": "display_data"
    },
    {
     "data": {
      "text/plain": [
       "Output()"
      ],
      "application/vnd.jupyter.widget-view+json": {
       "version_major": 2,
       "version_minor": 0,
       "model_id": "e85c27d6fd61417c9dce1ce4123cb0e5"
      }
     },
     "metadata": {},
     "output_type": "display_data"
    },
    {
     "name": "stdout",
     "output_type": "stream",
     "text": [
      "✅ Success: 6HER_nanobody_B.pdb\n"
     ]
    },
    {
     "data": {
      "text/plain": [],
      "text/html": [
       "<pre style=\"white-space:pre;overflow-x:auto;line-height:normal;font-family:Menlo,'DejaVu Sans Mono',consolas,'Courier New',monospace\"></pre>\n"
      ]
     },
     "metadata": {},
     "output_type": "display_data"
    },
    {
     "data": {
      "text/plain": [
       "Output()"
      ],
      "application/vnd.jupyter.widget-view+json": {
       "version_major": 2,
       "version_minor": 0,
       "model_id": "68273b0f0e5242b6bdf1128314bc0362"
      }
     },
     "metadata": {},
     "output_type": "display_data"
    },
    {
     "name": "stdout",
     "output_type": "stream",
     "text": [
      "✅ Success: 7R1Z_nanobody_A.pdb\n"
     ]
    },
    {
     "data": {
      "text/plain": [],
      "text/html": [
       "<pre style=\"white-space:pre;overflow-x:auto;line-height:normal;font-family:Menlo,'DejaVu Sans Mono',consolas,'Courier New',monospace\"></pre>\n"
      ]
     },
     "metadata": {},
     "output_type": "display_data"
    },
    {
     "data": {
      "text/plain": [
       "Output()"
      ],
      "application/vnd.jupyter.widget-view+json": {
       "version_major": 2,
       "version_minor": 0,
       "model_id": "028d976dc5c24858934dea70d19604ed"
      }
     },
     "metadata": {},
     "output_type": "display_data"
    },
    {
     "name": "stdout",
     "output_type": "stream",
     "text": [
      "✅ Success: 7RTH_nanobody_c.pdb\n"
     ]
    },
    {
     "data": {
      "text/plain": [],
      "text/html": [
       "<pre style=\"white-space:pre;overflow-x:auto;line-height:normal;font-family:Menlo,'DejaVu Sans Mono',consolas,'Courier New',monospace\"></pre>\n"
      ]
     },
     "metadata": {},
     "output_type": "display_data"
    },
    {
     "data": {
      "text/plain": [
       "Output()"
      ],
      "application/vnd.jupyter.widget-view+json": {
       "version_major": 2,
       "version_minor": 0,
       "model_id": "86a17f68ce9d42bcb2c9cdeacead0ea0"
      }
     },
     "metadata": {},
     "output_type": "display_data"
    },
    {
     "name": "stdout",
     "output_type": "stream",
     "text": [
      "✅ Success: 8B1J_nanobody_B.pdb\n"
     ]
    },
    {
     "data": {
      "text/plain": [],
      "text/html": [
       "<pre style=\"white-space:pre;overflow-x:auto;line-height:normal;font-family:Menlo,'DejaVu Sans Mono',consolas,'Courier New',monospace\"></pre>\n"
      ]
     },
     "metadata": {},
     "output_type": "display_data"
    },
    {
     "data": {
      "text/plain": [
       "Output()"
      ],
      "application/vnd.jupyter.widget-view+json": {
       "version_major": 2,
       "version_minor": 0,
       "model_id": "de2e395ca1974deb93a5a3e47bdbd406"
      }
     },
     "metadata": {},
     "output_type": "display_data"
    },
    {
     "name": "stdout",
     "output_type": "stream",
     "text": [
      "✅ Success: 8BE2_nanobody_N.pdb\n"
     ]
    },
    {
     "data": {
      "text/plain": [],
      "text/html": [
       "<pre style=\"white-space:pre;overflow-x:auto;line-height:normal;font-family:Menlo,'DejaVu Sans Mono',consolas,'Courier New',monospace\"></pre>\n"
      ]
     },
     "metadata": {},
     "output_type": "display_data"
    },
    {
     "data": {
      "text/plain": [
       "Output()"
      ],
      "application/vnd.jupyter.widget-view+json": {
       "version_major": 2,
       "version_minor": 0,
       "model_id": "83f1f63ffac848b7968a1399a8cb84c0"
      }
     },
     "metadata": {},
     "output_type": "display_data"
    },
    {
     "name": "stdout",
     "output_type": "stream",
     "text": [
      "✅ Success: 6ZWK_nanobody_C.pdb\n"
     ]
    },
    {
     "data": {
      "text/plain": [],
      "text/html": [
       "<pre style=\"white-space:pre;overflow-x:auto;line-height:normal;font-family:Menlo,'DejaVu Sans Mono',consolas,'Courier New',monospace\"></pre>\n"
      ]
     },
     "metadata": {},
     "output_type": "display_data"
    },
    {
     "data": {
      "text/plain": [
       "Output()"
      ],
      "application/vnd.jupyter.widget-view+json": {
       "version_major": 2,
       "version_minor": 0,
       "model_id": "cc21104330f541ce85b9bebd00b8fb7a"
      }
     },
     "metadata": {},
     "output_type": "display_data"
    },
    {
     "name": "stdout",
     "output_type": "stream",
     "text": [
      "✅ Success: 6Y1R_nanobody_E.pdb\n"
     ]
    },
    {
     "data": {
      "text/plain": [],
      "text/html": [
       "<pre style=\"white-space:pre;overflow-x:auto;line-height:normal;font-family:Menlo,'DejaVu Sans Mono',consolas,'Courier New',monospace\"></pre>\n"
      ]
     },
     "metadata": {},
     "output_type": "display_data"
    },
    {
     "data": {
      "text/plain": [
       "Output()"
      ],
      "application/vnd.jupyter.widget-view+json": {
       "version_major": 2,
       "version_minor": 0,
       "model_id": "5b25db0d95de445385c179bbf7fec13f"
      }
     },
     "metadata": {},
     "output_type": "display_data"
    },
    {
     "name": "stdout",
     "output_type": "stream",
     "text": [
      "✅ Success: 8S0L_nanobody_B.pdb\n"
     ]
    },
    {
     "data": {
      "text/plain": [],
      "text/html": [
       "<pre style=\"white-space:pre;overflow-x:auto;line-height:normal;font-family:Menlo,'DejaVu Sans Mono',consolas,'Courier New',monospace\"></pre>\n"
      ]
     },
     "metadata": {},
     "output_type": "display_data"
    },
    {
     "data": {
      "text/plain": [
       "Output()"
      ],
      "application/vnd.jupyter.widget-view+json": {
       "version_major": 2,
       "version_minor": 0,
       "model_id": "3351d69286724c4fac8e4b41e41e7432"
      }
     },
     "metadata": {},
     "output_type": "display_data"
    },
    {
     "name": "stdout",
     "output_type": "stream",
     "text": [
      "✅ Success: 8P88_nanobody_C.pdb\n"
     ]
    },
    {
     "data": {
      "text/plain": [],
      "text/html": [
       "<pre style=\"white-space:pre;overflow-x:auto;line-height:normal;font-family:Menlo,'DejaVu Sans Mono',consolas,'Courier New',monospace\"></pre>\n"
      ]
     },
     "metadata": {},
     "output_type": "display_data"
    },
    {
     "data": {
      "text/plain": [
       "Output()"
      ],
      "application/vnd.jupyter.widget-view+json": {
       "version_major": 2,
       "version_minor": 0,
       "model_id": "e5054f85efc44d3f81a0c71afc37076d"
      }
     },
     "metadata": {},
     "output_type": "display_data"
    },
    {
     "name": "stdout",
     "output_type": "stream",
     "text": [
      "✅ Success: 8GZ6_nanobody_B.pdb\n"
     ]
    },
    {
     "data": {
      "text/plain": [],
      "text/html": [
       "<pre style=\"white-space:pre;overflow-x:auto;line-height:normal;font-family:Menlo,'DejaVu Sans Mono',consolas,'Courier New',monospace\"></pre>\n"
      ]
     },
     "metadata": {},
     "output_type": "display_data"
    },
    {
     "data": {
      "text/plain": [
       "Output()"
      ],
      "application/vnd.jupyter.widget-view+json": {
       "version_major": 2,
       "version_minor": 0,
       "model_id": "0725e1c3f4bc4541aca94a59457bc244"
      }
     },
     "metadata": {},
     "output_type": "display_data"
    },
    {
     "name": "stdout",
     "output_type": "stream",
     "text": [
      "✅ Success: 7R1Z_nanobody_E.pdb\n"
     ]
    },
    {
     "data": {
      "text/plain": [],
      "text/html": [
       "<pre style=\"white-space:pre;overflow-x:auto;line-height:normal;font-family:Menlo,'DejaVu Sans Mono',consolas,'Courier New',monospace\"></pre>\n"
      ]
     },
     "metadata": {},
     "output_type": "display_data"
    },
    {
     "data": {
      "text/plain": [
       "Output()"
      ],
      "application/vnd.jupyter.widget-view+json": {
       "version_major": 2,
       "version_minor": 0,
       "model_id": "2e3addadfed34b6a85b3a7fc62cbfb26"
      }
     },
     "metadata": {},
     "output_type": "display_data"
    },
    {
     "name": "stdout",
     "output_type": "stream",
     "text": [
      "✅ Success: 4M3K_nanobody_B.pdb\n"
     ]
    },
    {
     "data": {
      "text/plain": [],
      "text/html": [
       "<pre style=\"white-space:pre;overflow-x:auto;line-height:normal;font-family:Menlo,'DejaVu Sans Mono',consolas,'Courier New',monospace\"></pre>\n"
      ]
     },
     "metadata": {},
     "output_type": "display_data"
    },
    {
     "data": {
      "text/plain": [
       "Output()"
      ],
      "application/vnd.jupyter.widget-view+json": {
       "version_major": 2,
       "version_minor": 0,
       "model_id": "c7de8789f6b7485f85b7485314038ad0"
      }
     },
     "metadata": {},
     "output_type": "display_data"
    },
    {
     "name": "stdout",
     "output_type": "stream",
     "text": [
      "✅ Success: 8B1K_nanobody_B.pdb\n"
     ]
    },
    {
     "data": {
      "text/plain": [],
      "text/html": [
       "<pre style=\"white-space:pre;overflow-x:auto;line-height:normal;font-family:Menlo,'DejaVu Sans Mono',consolas,'Courier New',monospace\"></pre>\n"
      ]
     },
     "metadata": {},
     "output_type": "display_data"
    },
    {
     "data": {
      "text/plain": [
       "Output()"
      ],
      "application/vnd.jupyter.widget-view+json": {
       "version_major": 2,
       "version_minor": 0,
       "model_id": "515ecffb716f42859b38d45f95e60ee2"
      }
     },
     "metadata": {},
     "output_type": "display_data"
    },
    {
     "name": "stdout",
     "output_type": "stream",
     "text": [
      "✅ Success: 8B1C_nanobody_B.pdb\n"
     ]
    },
    {
     "data": {
      "text/plain": [],
      "text/html": [
       "<pre style=\"white-space:pre;overflow-x:auto;line-height:normal;font-family:Menlo,'DejaVu Sans Mono',consolas,'Courier New',monospace\"></pre>\n"
      ]
     },
     "metadata": {},
     "output_type": "display_data"
    },
    {
     "data": {
      "text/plain": [
       "Output()"
      ],
      "application/vnd.jupyter.widget-view+json": {
       "version_major": 2,
       "version_minor": 0,
       "model_id": "2aab3ec554e54550aabe733f4d4eae9b"
      }
     },
     "metadata": {},
     "output_type": "display_data"
    },
    {
     "name": "stdout",
     "output_type": "stream",
     "text": [
      "✅ Success: 8YVJ_nanobody_A.pdb\n"
     ]
    },
    {
     "data": {
      "text/plain": [],
      "text/html": [
       "<pre style=\"white-space:pre;overflow-x:auto;line-height:normal;font-family:Menlo,'DejaVu Sans Mono',consolas,'Courier New',monospace\"></pre>\n"
      ]
     },
     "metadata": {},
     "output_type": "display_data"
    },
    {
     "data": {
      "text/plain": [
       "Output()"
      ],
      "application/vnd.jupyter.widget-view+json": {
       "version_major": 2,
       "version_minor": 0,
       "model_id": "f8d7a644b32241afbcfa777e65750076"
      }
     },
     "metadata": {},
     "output_type": "display_data"
    },
    {
     "name": "stdout",
     "output_type": "stream",
     "text": [
      "✅ Success: 7VPY_nanobody_B.pdb\n"
     ]
    },
    {
     "data": {
      "text/plain": [],
      "text/html": [
       "<pre style=\"white-space:pre;overflow-x:auto;line-height:normal;font-family:Menlo,'DejaVu Sans Mono',consolas,'Courier New',monospace\"></pre>\n"
      ]
     },
     "metadata": {},
     "output_type": "display_data"
    },
    {
     "data": {
      "text/plain": [
       "Output()"
      ],
      "application/vnd.jupyter.widget-view+json": {
       "version_major": 2,
       "version_minor": 0,
       "model_id": "ff41701ef08e49cc90364611b45129f2"
      }
     },
     "metadata": {},
     "output_type": "display_data"
    },
    {
     "name": "stdout",
     "output_type": "stream",
     "text": [
      "✅ Success: 7XL0_nanobody_A.pdb\n"
     ]
    },
    {
     "data": {
      "text/plain": [],
      "text/html": [
       "<pre style=\"white-space:pre;overflow-x:auto;line-height:normal;font-family:Menlo,'DejaVu Sans Mono',consolas,'Courier New',monospace\"></pre>\n"
      ]
     },
     "metadata": {},
     "output_type": "display_data"
    },
    {
     "data": {
      "text/plain": [
       "Output()"
      ],
      "application/vnd.jupyter.widget-view+json": {
       "version_major": 2,
       "version_minor": 0,
       "model_id": "14012769c9174bb0873839366c336352"
      }
     },
     "metadata": {},
     "output_type": "display_data"
    },
    {
     "name": "stdout",
     "output_type": "stream",
     "text": [
      "✅ Success: 6FPV_nanobody_B.pdb\n"
     ]
    },
    {
     "data": {
      "text/plain": [],
      "text/html": [
       "<pre style=\"white-space:pre;overflow-x:auto;line-height:normal;font-family:Menlo,'DejaVu Sans Mono',consolas,'Courier New',monospace\"></pre>\n"
      ]
     },
     "metadata": {},
     "output_type": "display_data"
    },
    {
     "data": {
      "text/plain": [
       "Output()"
      ],
      "application/vnd.jupyter.widget-view+json": {
       "version_major": 2,
       "version_minor": 0,
       "model_id": "79e418f25533465eb87bc5dd97478236"
      }
     },
     "metadata": {},
     "output_type": "display_data"
    },
    {
     "name": "stdout",
     "output_type": "stream",
     "text": [
      "✅ Success: 7NBB_nanobody_D.pdb\n"
     ]
    },
    {
     "data": {
      "text/plain": [],
      "text/html": [
       "<pre style=\"white-space:pre;overflow-x:auto;line-height:normal;font-family:Menlo,'DejaVu Sans Mono',consolas,'Courier New',monospace\"></pre>\n"
      ]
     },
     "metadata": {},
     "output_type": "display_data"
    },
    {
     "data": {
      "text/plain": [
       "Output()"
      ],
      "application/vnd.jupyter.widget-view+json": {
       "version_major": 2,
       "version_minor": 0,
       "model_id": "817426c0021e4419b6cf7a9a8bca549a"
      }
     },
     "metadata": {},
     "output_type": "display_data"
    },
    {
     "name": "stdout",
     "output_type": "stream",
     "text": [
      "✅ Success: 6ZWK_nanobody_F.pdb\n"
     ]
    },
    {
     "data": {
      "text/plain": [],
      "text/html": [
       "<pre style=\"white-space:pre;overflow-x:auto;line-height:normal;font-family:Menlo,'DejaVu Sans Mono',consolas,'Courier New',monospace\"></pre>\n"
      ]
     },
     "metadata": {},
     "output_type": "display_data"
    },
    {
     "data": {
      "text/plain": [
       "Output()"
      ],
      "application/vnd.jupyter.widget-view+json": {
       "version_major": 2,
       "version_minor": 0,
       "model_id": "7d2ac7b2edb641628ef016ac72f111d7"
      }
     },
     "metadata": {},
     "output_type": "display_data"
    },
    {
     "name": "stdout",
     "output_type": "stream",
     "text": [
      "✅ Success: 6Y1R_nanobody_B.pdb\n"
     ]
    },
    {
     "data": {
      "text/plain": [],
      "text/html": [
       "<pre style=\"white-space:pre;overflow-x:auto;line-height:normal;font-family:Menlo,'DejaVu Sans Mono',consolas,'Courier New',monospace\"></pre>\n"
      ]
     },
     "metadata": {},
     "output_type": "display_data"
    },
    {
     "data": {
      "text/plain": [
       "Output()"
      ],
      "application/vnd.jupyter.widget-view+json": {
       "version_major": 2,
       "version_minor": 0,
       "model_id": "db08fe2d27e84fa7a73842e7264b8ed3"
      }
     },
     "metadata": {},
     "output_type": "display_data"
    },
    {
     "name": "stdout",
     "output_type": "stream",
     "text": [
      "✅ Success: 6ZWK_nanobody_D.pdb\n"
     ]
    },
    {
     "data": {
      "text/plain": [],
      "text/html": [
       "<pre style=\"white-space:pre;overflow-x:auto;line-height:normal;font-family:Menlo,'DejaVu Sans Mono',consolas,'Courier New',monospace\"></pre>\n"
      ]
     },
     "metadata": {},
     "output_type": "display_data"
    },
    {
     "data": {
      "text/plain": [
       "Output()"
      ],
      "application/vnd.jupyter.widget-view+json": {
       "version_major": 2,
       "version_minor": 0,
       "model_id": "1b4411e0a3bd45d995f987c5ce2a67b5"
      }
     },
     "metadata": {},
     "output_type": "display_data"
    },
    {
     "name": "stdout",
     "output_type": "stream",
     "text": [
      "✅ Success: 8JLY_nanobody_A.pdb\n"
     ]
    },
    {
     "data": {
      "text/plain": [],
      "text/html": [
       "<pre style=\"white-space:pre;overflow-x:auto;line-height:normal;font-family:Menlo,'DejaVu Sans Mono',consolas,'Courier New',monospace\"></pre>\n"
      ]
     },
     "metadata": {},
     "output_type": "display_data"
    },
    {
     "data": {
      "text/plain": [
       "Output()"
      ],
      "application/vnd.jupyter.widget-view+json": {
       "version_major": 2,
       "version_minor": 0,
       "model_id": "19360504bded418bbeb59af39de30e3d"
      }
     },
     "metadata": {},
     "output_type": "display_data"
    },
    {
     "name": "stdout",
     "output_type": "stream",
     "text": [
      "✅ Success: 2XV6_nanobody_D.pdb\n"
     ]
    },
    {
     "data": {
      "text/plain": [],
      "text/html": [
       "<pre style=\"white-space:pre;overflow-x:auto;line-height:normal;font-family:Menlo,'DejaVu Sans Mono',consolas,'Courier New',monospace\"></pre>\n"
      ]
     },
     "metadata": {},
     "output_type": "display_data"
    },
    {
     "data": {
      "text/plain": [
       "Output()"
      ],
      "application/vnd.jupyter.widget-view+json": {
       "version_major": 2,
       "version_minor": 0,
       "model_id": "f985b354148e4a25b05432217e393f7b"
      }
     },
     "metadata": {},
     "output_type": "display_data"
    },
    {
     "name": "stdout",
     "output_type": "stream",
     "text": [
      "✅ Success: 9FXF_nanobody_A.pdb\n"
     ]
    },
    {
     "data": {
      "text/plain": [],
      "text/html": [
       "<pre style=\"white-space:pre;overflow-x:auto;line-height:normal;font-family:Menlo,'DejaVu Sans Mono',consolas,'Courier New',monospace\"></pre>\n"
      ]
     },
     "metadata": {},
     "output_type": "display_data"
    },
    {
     "data": {
      "text/plain": [
       "Output()"
      ],
      "application/vnd.jupyter.widget-view+json": {
       "version_major": 2,
       "version_minor": 0,
       "model_id": "8cf3ccefb933437cb01b21ca3fd403e3"
      }
     },
     "metadata": {},
     "output_type": "display_data"
    },
    {
     "name": "stdout",
     "output_type": "stream",
     "text": [
      "✅ Success: 6XZF_nanobody_B.pdb\n"
     ]
    },
    {
     "data": {
      "text/plain": [],
      "text/html": [
       "<pre style=\"white-space:pre;overflow-x:auto;line-height:normal;font-family:Menlo,'DejaVu Sans Mono',consolas,'Courier New',monospace\"></pre>\n"
      ]
     },
     "metadata": {},
     "output_type": "display_data"
    },
    {
     "data": {
      "text/plain": [
       "Output()"
      ],
      "application/vnd.jupyter.widget-view+json": {
       "version_major": 2,
       "version_minor": 0,
       "model_id": "abee9fe2ef2b4ecab9c9c96f8a89fadd"
      }
     },
     "metadata": {},
     "output_type": "display_data"
    },
    {
     "name": "stdout",
     "output_type": "stream",
     "text": [
      "✅ Success: 8OP0_nanobody_A.pdb\n"
     ]
    },
    {
     "data": {
      "text/plain": [],
      "text/html": [
       "<pre style=\"white-space:pre;overflow-x:auto;line-height:normal;font-family:Menlo,'DejaVu Sans Mono',consolas,'Courier New',monospace\"></pre>\n"
      ]
     },
     "metadata": {},
     "output_type": "display_data"
    },
    {
     "data": {
      "text/plain": [
       "Output()"
      ],
      "application/vnd.jupyter.widget-view+json": {
       "version_major": 2,
       "version_minor": 0,
       "model_id": "2269f1be10f942d996e59b873a4efe18"
      }
     },
     "metadata": {},
     "output_type": "display_data"
    },
    {
     "name": "stdout",
     "output_type": "stream",
     "text": [
      "✅ Success: 7VPY_nanobody_A.pdb\n"
     ]
    },
    {
     "data": {
      "text/plain": [],
      "text/html": [
       "<pre style=\"white-space:pre;overflow-x:auto;line-height:normal;font-family:Menlo,'DejaVu Sans Mono',consolas,'Courier New',monospace\"></pre>\n"
      ]
     },
     "metadata": {},
     "output_type": "display_data"
    },
    {
     "data": {
      "text/plain": [
       "Output()"
      ],
      "application/vnd.jupyter.widget-view+json": {
       "version_major": 2,
       "version_minor": 0,
       "model_id": "a36ea29fa9a0461faad8f0480c898c28"
      }
     },
     "metadata": {},
     "output_type": "display_data"
    },
    {
     "name": "stdout",
     "output_type": "stream",
     "text": [
      "✅ Success: 6V7Y_nanobody_F.pdb\n"
     ]
    },
    {
     "data": {
      "text/plain": [],
      "text/html": [
       "<pre style=\"white-space:pre;overflow-x:auto;line-height:normal;font-family:Menlo,'DejaVu Sans Mono',consolas,'Courier New',monospace\"></pre>\n"
      ]
     },
     "metadata": {},
     "output_type": "display_data"
    },
    {
     "data": {
      "text/plain": [
       "Output()"
      ],
      "application/vnd.jupyter.widget-view+json": {
       "version_major": 2,
       "version_minor": 0,
       "model_id": "78754a037ffc4d4abb838b9f78f1ed23"
      }
     },
     "metadata": {},
     "output_type": "display_data"
    },
    {
     "name": "stdout",
     "output_type": "stream",
     "text": [
      "✅ Success: 6FPV_nanobody_A.pdb\n"
     ]
    },
    {
     "data": {
      "text/plain": [],
      "text/html": [
       "<pre style=\"white-space:pre;overflow-x:auto;line-height:normal;font-family:Menlo,'DejaVu Sans Mono',consolas,'Courier New',monospace\"></pre>\n"
      ]
     },
     "metadata": {},
     "output_type": "display_data"
    },
    {
     "data": {
      "text/plain": [
       "Output()"
      ],
      "application/vnd.jupyter.widget-view+json": {
       "version_major": 2,
       "version_minor": 0,
       "model_id": "f9c999e3d3904b3982996f72ded4b774"
      }
     },
     "metadata": {},
     "output_type": "display_data"
    },
    {
     "name": "stdout",
     "output_type": "stream",
     "text": [
      "✅ Success: 8B1D_nanobody_B.pdb\n"
     ]
    },
    {
     "data": {
      "text/plain": [],
      "text/html": [
       "<pre style=\"white-space:pre;overflow-x:auto;line-height:normal;font-family:Menlo,'DejaVu Sans Mono',consolas,'Courier New',monospace\"></pre>\n"
      ]
     },
     "metadata": {},
     "output_type": "display_data"
    },
    {
     "data": {
      "text/plain": [
       "Output()"
      ],
      "application/vnd.jupyter.widget-view+json": {
       "version_major": 2,
       "version_minor": 0,
       "model_id": "6d58f4f027894bdfb9eb234977c07e4b"
      }
     },
     "metadata": {},
     "output_type": "display_data"
    },
    {
     "name": "stdout",
     "output_type": "stream",
     "text": [
      "✅ Success: 7YZK_nanobody_C.pdb\n"
     ]
    },
    {
     "data": {
      "text/plain": [],
      "text/html": [
       "<pre style=\"white-space:pre;overflow-x:auto;line-height:normal;font-family:Menlo,'DejaVu Sans Mono',consolas,'Courier New',monospace\"></pre>\n"
      ]
     },
     "metadata": {},
     "output_type": "display_data"
    },
    {
     "data": {
      "text/plain": [
       "Output()"
      ],
      "application/vnd.jupyter.widget-view+json": {
       "version_major": 2,
       "version_minor": 0,
       "model_id": "8dd215b2a51d49b99ccb30476aec031c"
      }
     },
     "metadata": {},
     "output_type": "display_data"
    },
    {
     "data": {
      "text/plain": [],
      "text/html": [
       "<pre style=\"white-space:pre;overflow-x:auto;line-height:normal;font-family:Menlo,'DejaVu Sans Mono',consolas,'Courier New',monospace\"></pre>\n"
      ]
     },
     "metadata": {},
     "output_type": "display_data"
    },
    {
     "data": {
      "text/plain": [
       "Output()"
      ],
      "application/vnd.jupyter.widget-view+json": {
       "version_major": 2,
       "version_minor": 0,
       "model_id": "3bfe4e09c8d64fa39bf7c537d790068a"
      }
     },
     "metadata": {},
     "output_type": "display_data"
    },
    {
     "name": "stdout",
     "output_type": "stream",
     "text": [
      "✅ Success: 6Y1R_nanobody_C.pdb\n"
     ]
    },
    {
     "data": {
      "text/plain": [],
      "text/html": [
       "<pre style=\"white-space:pre;overflow-x:auto;line-height:normal;font-family:Menlo,'DejaVu Sans Mono',consolas,'Courier New',monospace\"></pre>\n"
      ]
     },
     "metadata": {},
     "output_type": "display_data"
    },
    {
     "name": "stdout",
     "output_type": "stream",
     "text": [
      "✅ Success: 8ZER_nanobody_D.pdb\n",
      "\n",
      "Summary:\n"
     ]
    }
   ],
   "execution_count": 33
  },
  {
   "metadata": {},
   "cell_type": "code",
   "outputs": [],
   "execution_count": null,
   "source": "",
   "id": "a4fdbc9ba39b1874"
  }
 ],
 "metadata": {
  "kernelspec": {
   "display_name": "Python 3",
   "language": "python",
   "name": "python3"
  },
  "language_info": {
   "codemirror_mode": {
    "name": "ipython",
    "version": 2
   },
   "file_extension": ".py",
   "mimetype": "text/x-python",
   "name": "python",
   "nbconvert_exporter": "python",
   "pygments_lexer": "ipython2",
   "version": "2.7.6"
  }
 },
 "nbformat": 4,
 "nbformat_minor": 5
}
