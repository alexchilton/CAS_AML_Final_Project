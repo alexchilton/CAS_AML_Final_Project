{
 "cells": [
  {
   "cell_type": "code",
   "id": "initial_id",
   "metadata": {
    "collapsed": true
   },
   "source": [
    "from graphein.ml.conversion import GraphFormatConvertor\n",
    "import numpy as np\n",
    "import torch\n",
    "from sklearn.model_selection import train_test_split\n",
    "from graphein.protein.utils import get_obsolete_mapping\n",
    "import pandas as pd\n",
    "import os\n",
    "from tqdm.notebook import tqdm"
   ],
   "outputs": [],
   "execution_count": null
  },
  {
   "metadata": {},
   "cell_type": "code",
   "source": [
    "# CONFIGS\n",
    "import graphein.protein as gp\n",
    "from functools import partial\n",
    "from graphein.ml.conversion import GraphFormatConvertor\n",
    "from graphein.protein.edges.distance import (add_peptide_bonds,\n",
    "                                             add_hydrogen_bond_interactions,\n",
    "                                             add_disulfide_interactions,\n",
    "                                             add_ionic_interactions,\n",
    "                                             add_aromatic_interactions,\n",
    "                                             add_aromatic_sulphur_interactions,\n",
    "                                             add_cation_pi_interactions\n",
    "                                             )\n",
    "\n",
    "\n",
    "# 1: Distance-based\n",
    "dist_edge_func = {\"edge_construction_functions\": [partial(gp.add_distance_threshold, threshold=5, long_interaction_threshold=0)]}\n",
    "\n",
    "# 2: Biochemical interactions, select set\n",
    "select_edge_func = {\"edge_construction_functions\": [add_peptide_bonds,\n",
    "                                                    add_hydrogen_bond_interactions,\n",
    "                                                    add_disulfide_interactions,\n",
    "                                                    add_ionic_interactions,\n",
    "                                                    gp.add_salt_bridges]}\n",
    "\n",
    "# 3: Biochemical interactions, expanded set\n",
    "all_edge_func = {\"edge_construction_functions\": [add_peptide_bonds,\n",
    "                                                 add_aromatic_interactions,\n",
    "                                                 add_hydrogen_bond_interactions,\n",
    "                                                 add_disulfide_interactions,\n",
    "                                                 add_ionic_interactions,\n",
    "                                                 add_aromatic_sulphur_interactions,\n",
    "                                                 add_cation_pi_interactions,\n",
    "                                                 gp.add_hydrophobic_interactions,\n",
    "                                                 gp.add_vdw_interactions,\n",
    "                                                 gp.add_backbone_carbonyl_carbonyl_interactions,\n",
    "                                                 gp.add_salt_bridges]}"
   ],
   "id": "607b3d8c2ff7bb2a",
   "outputs": [],
   "execution_count": null
  },
  {
   "metadata": {},
   "cell_type": "code",
   "source": [
    "\n",
    "# A: Just one-hot encodings\n",
    "one_hot = {\"node_metadata_functions\" : [gp.amino_acid_one_hot]}\n",
    "\n",
    "# B: Selected biochemical features\n",
    "all_graph_metadata = {\"graph_metadata_functions\" : [gp.rsa,\n",
    "                                                    gp.secondary_structure]}\n",
    "all_node_metadata = {\"node_metadata_functions\" : [gp.amino_acid_one_hot,\n",
    "                                                  gp.meiler_embedding,\n",
    "                                                  partial(gp.expasy_protein_scale, add_separate=True)],\n",
    "                     \"dssp_config\": gp.DSSPConfig()\n",
    "                     }\n",
    "\n",
    "\n",
    "config_1A = gp.ProteinGraphConfig(**{**dist_edge_func, **one_hot})\n",
    "config_1B = gp.ProteinGraphConfig(**{**dist_edge_func, **all_graph_metadata, **all_node_metadata})\n",
    "\n",
    "config_2A = gp.ProteinGraphConfig(**{**select_edge_func, **one_hot})\n",
    "config_2B = gp.ProteinGraphConfig(**{**select_edge_func, **all_graph_metadata, **all_node_metadata})\n",
    "\n",
    "config_3A = gp.ProteinGraphConfig(**{**all_edge_func, **one_hot})\n",
    "config_3B = gp.ProteinGraphConfig(**{**all_edge_func, **all_graph_metadata, **all_node_metadata})"
   ],
   "id": "c52372624abe66d2",
   "outputs": [],
   "execution_count": null
  },
  {
   "metadata": {},
   "cell_type": "code",
   "source": [
    "\n",
    "from graphein.ml import InMemoryProteinGraphDataset\n",
    "import os\n",
    "# 1: Distance-based\n",
    "dist_edge_func = {\"edge_construction_functions\": [partial(gp.add_distance_threshold, threshold=5, long_interaction_threshold=0)]}\n",
    "\n",
    "# 2: Biochemical interactions, select set\n",
    "select_edge_func = {\"edge_construction_functions\": [add_peptide_bonds,\n",
    "                                                    add_hydrogen_bond_interactions,\n",
    "                                                    ]}\n",
    "\n",
    "# 3: Biochemical interactions, expanded set\n",
    "all_edge_func = {\"edge_construction_functions\": [add_peptide_bonds,\n",
    "                                                 add_aromatic_interactions,\n",
    "                                                 add_hydrogen_bond_interactions,\n",
    "                                                 add_disulfide_interactions,\n",
    "                                                 add_ionic_interactions,\n",
    "                                                 add_aromatic_sulphur_interactions,\n",
    "                                                 add_cation_pi_interactions,\n",
    "                                                 gp.add_hydrophobic_interactions,\n",
    "                                                 gp.add_vdw_interactions,\n",
    "                                                 gp.add_backbone_carbonyl_carbonyl_interactions,\n",
    "                                                 gp.add_salt_bridges]}\n",
    "\n",
    "# A: Just one-hot encodings\n",
    "one_hot = {\"node_metadata_functions\" : [gp.amino_acid_one_hot, gp.meiler_embedding,\n",
    "                                        partial(gp.expasy_protein_scale, add_separate=True)]}\n",
    "\n",
    "# B: Selected biochemical features\n",
    "all_graph_metadata = {\"graph_metadata_functions\" : [gp.rsa,\n",
    "                                                    gp.secondary_structure]}\n",
    "all_node_metadata = {\"node_metadata_functions\" : [gp.amino_acid_one_hot,\n",
    "                                                  gp.meiler_embedding,\n",
    "                                                  partial(gp.expasy_protein_scale, add_separate=True)],\n",
    "                     #\"dssp_config\": gp.DSSPConfig()\n",
    "                     }\n",
    "\n",
    "\n",
    "config_1A = gp.ProteinGraphConfig(**{**dist_edge_func, **one_hot})\n",
    "config = config_3B #1A is least memory-intensive\n",
    "# Get all properties from your NetworkX graph\n",
    "convertor = GraphFormatConvertor(\n",
    "    src_format=\"nx\",\n",
    "    dst_format=\"pyg\",\n",
    "    columns=[\n",
    "        # Core structural properties\n",
    "        \"coords\", \"edge_index\",\n",
    "\n",
    "        # Amino acid identity features\n",
    "        \"amino_acid_one_hot\", \"residue_name\", \"residue_number\", \"chain_id\",\n",
    "\n",
    "        # Embedding vectors\n",
    "        \"meiler\",\n",
    "\n",
    "        # Physical properties\n",
    "        \"bulkiness\", \"molecularweight\", \"refractivity\", \"recognitionfactors\",\n",
    "\n",
    "        # Chemical properties\n",
    "        \"pka_cooh_alpha\", \"pka_nh3\", \"pka_rgroup\", \"isoelectric_points\",\n",
    "\n",
    "        # Polarity measures\n",
    "        \"polarityzimmerman\", \"polaritygrantham\",\n",
    "\n",
    "        # Hydrophobicity scales (all variants)\n",
    "        \"hphob_eisenberg\", \"hphob_sweet\", \"hphob_woods\", \"hphob_doolittle\",\n",
    "        \"hphob_manavalan\", \"hphob_leo\", \"hphob_black\", \"hphob_breese\",\n",
    "        \"hphob_fauchere\", \"hphob_guy\", \"hphob_janin\", \"hphob_miyazawa\",\n",
    "        \"hphob_argos\", \"hphob_roseman\", \"hphob_tanford\", \"hphob_wolfenden\",\n",
    "        \"hphob_welling\", \"hphob_wilson\", \"hphob_parker\", \"hphob_ph3_4\",\n",
    "        \"hphob_ph7_5\", \"hphob_mobility\", \"hphob_chothia\", \"hphob_rose\",\n",
    "\n",
    "        # Structure related\n",
    "        \"rsa\", \"ss\", \"buriedresidues\", \"accessibleresidues\",\n",
    "        \"averageburied\", \"averageflexibility\",\n",
    "\n",
    "        # Secondary structure propensities\n",
    "        \"alpha_helixfasman\", \"beta_sheetfasman\", \"beta_turnfasman\",\n",
    "        \"alpha_helixroux\", \"beta_sheetroux\", \"beta_turnroux\", \"coilroux\",\n",
    "        \"alpha_helixlevitt\", \"beta_sheetlevitt\", \"beta_turnlevitt\",\n",
    "\n",
    "        # Beta structure details\n",
    "        \"totalbeta_strand\", \"antiparallelbeta_strand\", \"parallelbeta_strand\",\n",
    "\n",
    "        # Other properties\n",
    "        \"transmembranetendency\", \"numbercodons\", \"ratioside\",\n",
    "        \"a_a_composition\", \"a_a_swiss_prot\", \"relativemutability\",\n",
    "\n",
    "        # HPLC related\n",
    "        \"hplchfba\", \"hplctfa\", \"hplc2_1\", \"hplc7_4\"\n",
    "    ]\n",
    ")\n",
    "\n",
    "# Get paths to all your PDB files\n",
    "pdb_dir = os.path.expanduser(\"~/Downloads/nanobody_extracted2\")\n",
    "pdb_paths = [os.path.join(pdb_dir, f) for f in os.listdir(pdb_dir) if f.endswith('.pdb')]\n",
    "\n",
    "# Create label map (assuming you have a way to determine labels)\n",
    "# For example, if nanobody in filename means label=1:\n",
    "label_map = {os.path.splitext(os.path.basename(path))[0]: 1 if \"nanobody\" in path else 0\n",
    "             for path in pdb_paths}\n",
    "\n",
    "# Create the dataset\n",
    "train_ds = InMemoryProteinGraphDataset(\n",
    "    root=\"data/\",\n",
    "    name=\"train\",\n",
    "    paths=pdb_paths,  # Use paths instead of pdb_codes\n",
    "    graph_label_map=label_map,\n",
    "    graphein_config=config_1A,  # Use whichever config you prefer\n",
    "    graph_format_convertor=convertor,\n",
    "    graph_transformation_funcs=[],\n",
    ")"
   ],
   "id": "61c4769ee2eceaf9",
   "outputs": [],
   "execution_count": null
  },
  {
   "metadata": {},
   "cell_type": "code",
   "source": [
    "from torch_geometric.data import DataLoader\n",
    "\n",
    "train_loader = DataLoader(train_ds, batch_size=4, shuffle=True, drop_last=True)\n"
   ],
   "id": "f289721cf6e8255d",
   "outputs": [],
   "execution_count": null
  },
  {
   "metadata": {},
   "cell_type": "code",
   "source": [
    "for b in train_ds:\n",
    "    print(b)\n",
    "    break"
   ],
   "id": "4e13686b3510eb80",
   "outputs": [],
   "execution_count": null
  },
  {
   "metadata": {},
   "cell_type": "code",
   "source": [
    "num_proteins = len(train_ds)\n",
    "print(f\"Number of proteins in the dataset: {num_proteins}\")"
   ],
   "id": "f77c9e4ed5475b82",
   "outputs": [],
   "execution_count": null
  },
  {
   "metadata": {},
   "cell_type": "code",
   "source": [
    "import pandas as pd\n",
    "\n",
    "def protein_to_dataframe(protein_data):\n",
    "    \"\"\"Convert a PyG protein data object to a pandas DataFrame.\"\"\"\n",
    "    data_dict = {}\n",
    "\n",
    "    # Get number of nodes\n",
    "    num_nodes = protein_data.num_nodes\n",
    "\n",
    "    # Add basic node indices\n",
    "    data_dict['node_idx'] = list(range(num_nodes))\n",
    "\n",
    "    # Add all available node features\n",
    "    for key in protein_data.keys:\n",
    "        attr = getattr(protein_data, key)\n",
    "        if attr is not None and hasattr(attr, 'shape') and attr.shape[0] == num_nodes:\n",
    "            # Handle different feature shapes\n",
    "            if len(attr.shape) == 1:  # Single value per node\n",
    "                data_dict[key] = attr.tolist()\n",
    "            elif len(attr.shape) == 2:  # Vector per node\n",
    "                if key == 'amino_acid_one_hot':\n",
    "                    # Convert one-hot to amino acid type\n",
    "                    aa_types = ['ALA', 'ARG', 'ASN', 'ASP', 'CYS', 'GLN', 'GLU', 'GLY', 'HIS', 'ILE',\n",
    "                                'LEU', 'LYS', 'MET', 'PHE', 'PRO', 'SER', 'THR', 'TRP', 'TYR', 'VAL']\n",
    "                    aa_indices = attr.argmax(dim=1).tolist()\n",
    "                    data_dict['amino_acid'] = [aa_types[idx] if idx < len(aa_types) else 'UNK' for idx in aa_indices]\n",
    "                else:\n",
    "                    # For other vector features, we can take the mean or list them as strings\n",
    "                    data_dict[key] = [str(attr[i].tolist()) for i in range(num_nodes)]\n",
    "\n",
    "    # Create DataFrame\n",
    "    df = pd.DataFrame(data_dict)\n",
    "    return df\n",
    "\n",
    "# Convert first protein to DataFrame and display\n",
    "protein_df = protein_to_dataframe(train_ds[0])\n",
    "print(protein_df.head(10))  # Show first 10 residues"
   ],
   "id": "8fe78274b62cbaff",
   "outputs": [],
   "execution_count": null
  },
  {
   "metadata": {},
   "cell_type": "code",
   "source": [
    "from graphein.protein.config import ProteinGraphConfig, DSSPConfig\n",
    "from graphein.protein.graphs import construct_graph\n",
    "from graphein.protein.edges.distance import (\n",
    "    add_aromatic_interactions,\n",
    "    add_disulfide_interactions,\n",
    "    add_hydrophobic_interactions,\n",
    "    add_peptide_bonds,\n",
    ")\n",
    "from graphein.protein.features.nodes import asa, rsa\n",
    "\n",
    "config = ProteinGraphConfig(\n",
    "    edge_construction_functions=[       # List of functions to call to construct edges.\n",
    "        add_hydrophobic_interactions,\n",
    "        add_aromatic_interactions,\n",
    "        add_disulfide_interactions,\n",
    "        add_peptide_bonds,\n",
    "    ],\n",
    "    graph_metadata_functions=[asa, rsa],  # Add ASA and RSA features.\n",
    "    dssp_config=DSSPConfig(),             # Add DSSP config in order to compute ASA and RSA.\n",
    ")\n",
    "\n",
    "g = construct_graph(pdb_code=\"3eiy\", config=config)"
   ],
   "id": "c4a912baa1ee257f",
   "outputs": [],
   "execution_count": null
  },
  {
   "metadata": {},
   "cell_type": "code",
   "source": [
    "from graphein.protein.visualisation import plotly_protein_structure_graph\n",
    "\n",
    "plotly_protein_structure_graph(g, node_size_multiplier=1)"
   ],
   "id": "421cb9f19b24589a",
   "outputs": [],
   "execution_count": null
  },
  {
   "metadata": {},
   "cell_type": "code",
   "source": [
    "from graphein.protein.analysis import plot_residue_composition\n",
    "\n",
    "fig = plot_residue_composition(g, sort_by=\"count\", plot_type=\"pie\") # Can also sort by \"alphabetical\"\n",
    "fig.show()"
   ],
   "id": "458b87acca624c19",
   "outputs": [],
   "execution_count": null
  },
  {
   "metadata": {},
   "cell_type": "code",
   "source": [
    "fig = plot_residue_composition(g, sort_by=\"count\", plot_type=\"bar\")\n",
    "fig.show()"
   ],
   "id": "ec0a4c67a6f99fd1",
   "outputs": [],
   "execution_count": null
  },
  {
   "metadata": {},
   "cell_type": "code",
   "source": [
    "from graphein.protein.analysis import graph_summary\n",
    "\n",
    "graph_summary(g)"
   ],
   "id": "c46ecbffaa8d7cd8",
   "outputs": [],
   "execution_count": null
  },
  {
   "metadata": {},
   "cell_type": "code",
   "source": "graph_summary(g, plot=True)",
   "id": "951123b9370e5dc9",
   "outputs": [],
   "execution_count": null
  },
  {
   "metadata": {},
   "cell_type": "code",
   "source": [
    "from graphein.protein.analysis import plot_degree_distribution\n",
    "\n",
    "fig = plot_degree_distribution(g)\n",
    "fig.show()"
   ],
   "id": "c6cc4ed850e6561",
   "outputs": [],
   "execution_count": null
  },
  {
   "metadata": {},
   "cell_type": "code",
   "source": [
    "from graphein.protein.analysis import plot_degree_by_residue_type\n",
    "\n",
    "fig = plot_degree_by_residue_type(g, normalise_by_residue_occurrence=False)\n",
    "fig.show()"
   ],
   "id": "5152f0535bc1c92b",
   "outputs": [],
   "execution_count": null
  },
  {
   "metadata": {},
   "cell_type": "code",
   "source": [
    "fig = plot_degree_by_residue_type(g, normalise_by_residue_occurrence=True)\n",
    "fig.show()"
   ],
   "id": "e6bfa97a3348a3c3",
   "outputs": [],
   "execution_count": null
  },
  {
   "metadata": {},
   "cell_type": "code",
   "source": "",
   "id": "662340280b79fc0a",
   "outputs": [],
   "execution_count": null
  },
  {
   "metadata": {},
   "cell_type": "code",
   "source": [
    "from graphein.protein.analysis import plot_edge_type_distribution\n",
    "\n",
    "fig = plot_edge_type_distribution(g, plot_type=\"bar\")\n",
    "fig.show()"
   ],
   "id": "3aabbe09f9755ddf",
   "outputs": [],
   "execution_count": null
  },
  {
   "metadata": {},
   "cell_type": "code",
   "source": [
    "from graphein.protein.analysis import plot_edge_type_distribution\n",
    "\n",
    "fig = plot_edge_type_distribution(g, plot_type=\"pie\")\n",
    "fig.show()"
   ],
   "id": "c78727c992ce77d6",
   "outputs": [],
   "execution_count": null
  },
  {
   "metadata": {},
   "cell_type": "code",
   "source": [
    "plot_graph_metric_property_correlation(\n",
    "    g: nx.Graph,                                # Graph to plot\n",
    "summary_statistics: List[str] = [           # Graph theoretic metrics to include\n",
    "\"degree\",\n",
    "\"betweenness_centrality\",\n",
    "\"closeness_centrality\",\n",
    "\"eigenvector_centrality\",\n",
    "\"communicability_betweenness_centrality\",\n",
    "],\n",
    "properties: List[str] = [\"asa\", \"rsa\"],     # Node features to include\n",
    "colour_by: Optional[str] = \"residue_type\",  # How to colour the points\n",
    "opacity: float = 0.2,                       # Opacity of markers\n",
    "diagonal_visible: bool = True,              # Whether or not to show the leading diagonal of the plot\n",
    "title: Optional[str] = None,                # Plot title\n",
    "height: int = 1000,                         # Plot height\n",
    "width: int = 1000,                          # Plot width\n",
    "font_size: int = 10,                        # Font size for axes, title and ticks\n",
    ")"
   ],
   "id": "5b94e42c43e0f5d7",
   "outputs": [],
   "execution_count": null
  },
  {
   "metadata": {},
   "cell_type": "code",
   "source": [
    "from graphein.protein.analysis import plot_graph_metric_property_correlation\n",
    "\n",
    "plot_graph_metric_property_correlation(g, diagonal_visible=False)"
   ],
   "id": "dd0015ac4364a883",
   "outputs": [],
   "execution_count": null
  },
  {
   "metadata": {},
   "cell_type": "code",
   "source": "plot_graph_metric_property_correlation(g, diagonal_visible=False, colour_by=None)",
   "id": "69a01ba3bb1a807e",
   "outputs": [],
   "execution_count": null
  },
  {
   "metadata": {},
   "cell_type": "code",
   "source": [
    "for _, d in g.nodes(data=True):\n",
    "    print(d.keys())\n",
    "    break"
   ],
   "id": "277e705d9d1a16fa",
   "outputs": [],
   "execution_count": null
  },
  {
   "metadata": {},
   "cell_type": "code",
   "source": [
    "from functools import partial\n",
    "from graphein.protein.features.nodes import expasy_protein_scale\n",
    "\n",
    "# Construct the graph with the expasy features.\n",
    "config = ProteinGraphConfig(\n",
    "    edge_construction_functions=[\n",
    "        add_hydrophobic_interactions,\n",
    "        add_aromatic_interactions,\n",
    "        add_disulfide_interactions,\n",
    "        add_peptide_bonds,\n",
    "    ],\n",
    "    node_metadata_functions=[partial(expasy_protein_scale, add_separate=True)], # Add expasy scale (add partial it so each feature is added under a separate key)\n",
    ")\n",
    "g = construct_graph(\n",
    "    pdb_code=\"3eiy\",\n",
    "    config=config\n",
    ")\n",
    "\n",
    "# Plot\n",
    "plot_graph_metric_property_correlation(\n",
    "    g,\n",
    "    diagonal_visible=False,\n",
    "    colour_by=\"residue_type\",\n",
    "    properties=[\n",
    "        \"pka_rgroup\",\n",
    "        \"isoelectric_points\",\n",
    "        \"bulkiness\",\n",
    "        \"transmembranetendency\",\n",
    "        \"coilroux\",\n",
    "        \"relativemutability\"\n",
    "    ]\n",
    ")"
   ],
   "id": "495835f78ba1aeb",
   "outputs": [],
   "execution_count": null
  },
  {
   "metadata": {},
   "cell_type": "code",
   "source": [
    "from graphein.protein.graphs import construct_graph\n",
    "from graphein.protein.config import ProteinGraphConfig\n",
    "from graphein.protein.edges.distance import add_hydrogen_bond_interactions, add_ionic_interactions, add_peptide_bonds\n",
    "\n",
    "# Create backbone graph\n",
    "config = ProteinGraphConfig()\n",
    "simple_graph = construct_graph(config, pdb_code=\"3eiy\")\n",
    "\n",
    "# Create backbone graph with additional interactions\n",
    "edge_funcs = [add_hydrogen_bond_interactions, add_ionic_interactions, add_peptide_bonds]\n",
    "config = ProteinGraphConfig(edge_construction_functions= edge_funcs)\n",
    "complex_graph = construct_graph(config, pdb_code=\"3eiy\")"
   ],
   "id": "4828b123fd4254f1",
   "outputs": [],
   "execution_count": null
  },
  {
   "metadata": {},
   "cell_type": "code",
   "source": [
    "from graphein.protein.visualisation import plot_distance_matrix\n",
    "\n",
    "plot_distance_matrix(simple_graph)"
   ],
   "id": "1967e8bb04ff0bea",
   "outputs": [],
   "execution_count": null
  },
  {
   "metadata": {},
   "cell_type": "code",
   "source": [
    "contact_map = (simple_graph.graph[\"dist_mat\"] > 10).astype(int) # Threshold distance matrix\n",
    "plot_distance_matrix(g=simple_graph, dist_mat=contact_map) # Plot contact map"
   ],
   "id": "ff47091c2be000de",
   "outputs": [],
   "execution_count": null
  },
  {
   "metadata": {},
   "cell_type": "code",
   "source": [
    "from graphein.protein.visualisation import plot_distance_landscape\n",
    "\n",
    "plot_distance_landscape(simple_graph)"
   ],
   "id": "7076dbcf42a607dc",
   "outputs": [],
   "execution_count": null
  },
  {
   "metadata": {},
   "cell_type": "code",
   "source": [
    "from graphein.protein.visualisation import plotly_protein_structure_graph\n",
    "\n",
    "plotly_protein_structure_graph(\n",
    "    G=simple_graph,\n",
    "    plot_title=\"Simple Protein Structure (Backbone only)\",\n",
    "    colour_nodes_by=\"residue_number\",\n",
    "    colour_edges_by=\"kind\",\n",
    "    node_size_min=1\n",
    ")"
   ],
   "id": "39d5875b9bc3612e",
   "outputs": [],
   "execution_count": null
  },
  {
   "metadata": {},
   "cell_type": "code",
   "source": [
    "from graphein.protein.visualisation import plotly_protein_structure_graph\n",
    "\n",
    "plotly_protein_structure_graph(\n",
    "    G=complex_graph,\n",
    "    plot_title=\"Residue level graph with Hydrogen bonds, ionic interactions and peptide bonds\",\n",
    "    colour_nodes_by=\"residue_number\",\n",
    "    colour_edges_by=\"kind\",\n",
    "    node_size_min=20,\n",
    "    node_size_multiplier=1\n",
    ")"
   ],
   "id": "cf180bf5a096469a",
   "outputs": [],
   "execution_count": null
  },
  {
   "metadata": {},
   "cell_type": "code",
   "source": [
    "from graphein.protein.edges.atomic import add_atomic_edges\n",
    "config = ProteinGraphConfig(granularity='atom', edge_construction_functions=[add_atomic_edges])\n",
    "g = construct_graph(config, pdb_code=\"3eiy\")\n",
    "\n",
    "# Create atomic graph\n",
    "plotly_protein_structure_graph(\n",
    "    g,\n",
    "    plot_title=\"Atom level graph\",\n",
    "    colour_nodes_by=\"atom_type\",\n",
    "    colour_edges_by=\"kind\",\n",
    "    node_size_min=10,\n",
    "    node_size_multiplier=1\n",
    ")"
   ],
   "id": "a9290cb860be1c7",
   "outputs": [],
   "execution_count": null
  },
  {
   "metadata": {},
   "cell_type": "code",
   "source": [
    "from graphein.protein.visualisation import plot_protein_structure_graph\n",
    "\n",
    "p = plot_protein_structure_graph(G=simple_graph, angle=0, colour_edges_by=\"kind\", colour_nodes_by=\"seq_position\", label_node_ids=False)"
   ],
   "id": "275c6b269cc8d9b0",
   "outputs": [],
   "execution_count": null
  },
  {
   "metadata": {},
   "cell_type": "code",
   "source": [
    "from graphein.protein.visualisation import asteroid_plot\n",
    "asteroid_plot(complex_graph, node_id=\"A:VAL:70\", k=4, colour_nodes_by=\"shell\")"
   ],
   "id": "924aec074b3fb7c1",
   "outputs": [],
   "execution_count": null
  }
 ],
 "metadata": {
  "kernelspec": {
   "display_name": "Python 3",
   "language": "python",
   "name": "python3"
  },
  "language_info": {
   "codemirror_mode": {
    "name": "ipython",
    "version": 2
   },
   "file_extension": ".py",
   "mimetype": "text/x-python",
   "name": "python",
   "nbconvert_exporter": "python",
   "pygments_lexer": "ipython2",
   "version": "2.7.6"
  }
 },
 "nbformat": 4,
 "nbformat_minor": 5
}
