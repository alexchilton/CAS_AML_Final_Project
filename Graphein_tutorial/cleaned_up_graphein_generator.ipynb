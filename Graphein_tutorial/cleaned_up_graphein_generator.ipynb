{
 "cells": [
  {
   "metadata": {},
   "cell_type": "markdown",
   "source": "This is a clean generator for the generating graphs from the larger pdbs\n",
   "id": "e8ae8ac35e50384c"
  },
  {
   "metadata": {},
   "cell_type": "markdown",
   "source": "First we do the imports and paths",
   "id": "b51e92103223e588"
  },
  {
   "metadata": {
    "ExecuteTime": {
     "end_time": "2025-03-29T10:40:15.536554Z",
     "start_time": "2025-03-29T10:40:15.516203Z"
    }
   },
   "cell_type": "code",
   "source": [
    "\n",
    "import os\n",
    "import pickle\n",
    "import numpy as np\n",
    "import pandas as pd\n",
    "import matplotlib.pyplot as plt\n",
    "import networkx as nx\n",
    "from graphein.protein.config import ProteinGraphConfig, DSSPConfig\n",
    "from graphein.protein.graphs import construct_graph\n",
    "from graphein.protein.features.nodes.dssp import add_dssp_df\n",
    "from graphein.protein.utils import download_pdb\n",
    "import graphein.protein as gp\n",
    "from functools import partial\n",
    "from graphein.ml.conversion import GraphFormatConvertor\n",
    "from graphein.protein.edges.distance import (add_peptide_bonds,\n",
    "                                             add_hydrogen_bond_interactions,\n",
    "                                             add_disulfide_interactions,\n",
    "                                             add_ionic_interactions,\n",
    "                                             add_aromatic_interactions,\n",
    "                                             add_aromatic_sulphur_interactions,\n",
    "                                             add_cation_pi_interactions\n",
    "                                             )\n",
    "\n",
    "\n",
    "\n",
    "# Set DSSP path environment variable this is mac specific\n",
    "os.environ[\"DSSP_PATH\"] = \"/opt/homebrew/bin/mkdssp\"\n",
    "print(f\"DSSP_PATH set to: {os.environ['DSSP_PATH']}\")"
   ],
   "id": "95f2df2ee65e5286",
   "outputs": [
    {
     "name": "stdout",
     "output_type": "stream",
     "text": [
      "DSSP_PATH set to: /opt/homebrew/bin/mkdssp\n"
     ]
    }
   ],
   "execution_count": 15
  },
  {
   "metadata": {},
   "cell_type": "markdown",
   "source": "this is the config for the graphs properties",
   "id": "b2b58bf2566d988e"
  },
  {
   "metadata": {},
   "cell_type": "code",
   "outputs": [],
   "execution_count": null,
   "source": [
    "# Use this edge function set for complete biochemical interactions\n",
    "all_edge_func = {\"edge_construction_functions\": [\n",
    "\n",
    "    add_peptide_bonds,\n",
    "    add_aromatic_interactions,\n",
    "    add_hydrogen_bond_interactions,\n",
    "    add_disulfide_interactions,\n",
    "    add_ionic_interactions,\n",
    "    add_aromatic_sulphur_interactions,\n",
    "    add_cation_pi_interactions,\n",
    "    gp.add_hydrophobic_interactions,\n",
    "    gp.add_salt_bridges]}\n",
    "# not sure the salt bridges always work\n",
    "\n",
    "\n",
    "# Use these metadata configurations for the properties you need\n",
    "complete_config = {\n",
    "    #\"graph_metadata_functions\": [gp.rsa, gp.secondary_structure], - these come from the dssp\n",
    "    \"node_metadata_functions\": [gp.amino_acid_one_hot,\n",
    "                                gp.meiler_embedding,\n",
    "                                partial(gp.expasy_protein_scale, add_separate=True)]\n",
    "}\n",
    "\n",
    "# Combined configuration\n",
    "full_config = gp.ProteinGraphConfig(**{**all_edge_func, **complete_config})\n"
   ],
   "id": "57f19987605d61dd"
  },
  {
   "metadata": {
    "ExecuteTime": {
     "end_time": "2025-03-29T10:19:53.379150Z",
     "start_time": "2025-03-29T10:19:53.358284Z"
    }
   },
   "cell_type": "code",
   "source": [
    "def generate_graph_no_dssp():\n",
    "    graph = construct_graph(path=\"2X89.pdb\", config=full_config)\n",
    "    return graph\n"
   ],
   "id": "abb5c309c2d39f23",
   "outputs": [],
   "execution_count": 8
  },
  {
   "metadata": {},
   "cell_type": "markdown",
   "source": "this is just the dssp stuff being spliced on to the graphein generated graph",
   "id": "c1ff00c2a5649482"
  },
  {
   "metadata": {
    "ExecuteTime": {
     "end_time": "2025-03-29T10:19:57.613024Z",
     "start_time": "2025-03-29T10:19:57.600251Z"
    }
   },
   "cell_type": "code",
   "source": [
    "def add_all_dssp_features_to_nodes(graph):\n",
    "    \"\"\"\n",
    "    Extract all available DSSP features from the dataframe and add them to nodes.\n",
    "    \"\"\"\n",
    "    if \"dssp_df\" not in graph.graph:\n",
    "        print(\"No DSSP dataframe found in graph\")\n",
    "        return graph\n",
    "\n",
    "    # Get the DSSP dataframe\n",
    "    dssp_df = graph.graph[\"dssp_df\"]\n",
    "\n",
    "    # Print available columns in DSSP dataframe\n",
    "    print(f\"Available DSSP features: {list(dssp_df.columns)}\")\n",
    "\n",
    "    # Map of common DSSP column names and their descriptions\n",
    "    dssp_features = {\n",
    "        'ss': 'Secondary structure (ss_value)',\n",
    "        'aa': 'Amino acid (dssp_aa)',\n",
    "        'acc': 'Absolute solvent accessibility (acc)',\n",
    "        'phi': 'Phi angle (phi)',\n",
    "        'psi': 'Psi angle (psi)',\n",
    "        'dssp_index': 'DSSP residue index (dssp_index)',\n",
    "        'NH_O_1_relidx': 'First NH-O hydrogen bond relative index (nh_o1_relidx)',\n",
    "        'NH_O_1_energy': 'First NH-O hydrogen bond energy (nh_o1_energy)',\n",
    "        'O_NH_1_relidx': 'First O-NH hydrogen bond relative index (o_nh1_relidx)',\n",
    "        'O_NH_1_energy': 'First O-NH hydrogen bond energy (o_nh1_energy)',\n",
    "        'NH_O_2_relidx': 'Second NH-O hydrogen bond relative index (nh_o2_relidx)',\n",
    "        'NH_O_2_energy': 'Second NH-O hydrogen bond energy (nh_o2_energy)',\n",
    "        'O_NH_2_relidx': 'Second O-NH hydrogen bond relative index (o_nh2_relidx)',\n",
    "        'O_NH_2_energy': 'Second O-NH hydrogen bond energy (o_nh2_energy)',\n",
    "    }\n",
    "\n",
    "    # Variation in column naming across different versions\n",
    "    alt_column_names = {\n",
    "        'ss': ['ss', 'SS', 'sec_struc'],\n",
    "        'aa': ['aa', 'AA', 'amino_acid'],\n",
    "        'acc': ['acc', 'ACC', 'accessibility'],\n",
    "        'phi': ['phi', 'PHI'],\n",
    "        'psi': ['psi', 'PSI'],\n",
    "        'dssp_index': ['dssp_index', 'id'],\n",
    "        'NH_O_1_relidx': ['NH_O_1_relidx', 'NH-O_1_relidx', 'NH_O_1_ridx'],\n",
    "        'NH_O_1_energy': ['NH_O_1_energy', 'NH-O_1_energy'],\n",
    "        'O_NH_1_relidx': ['O_NH_1_relidx', 'O-NH_1_relidx', 'O_NH_1_ridx'],\n",
    "        'O_NH_1_energy': ['O_NH_1_energy', 'O-NH_1_energy'],\n",
    "        'NH_O_2_relidx': ['NH_O_2_relidx', 'NH-O_2_relidx', 'NH_O_2_ridx'],\n",
    "        'NH_O_2_energy': ['NH_O_2_energy', 'NH-O_2_energy'],\n",
    "        'O_NH_2_relidx': ['O_NH_2_relidx', 'O-NH_2_relidx', 'O_NH_2_ridx'],\n",
    "        'O_NH_2_energy': ['O_NH_2_energy', 'O-NH_2_energy'],\n",
    "    }\n",
    "\n",
    "    # Find the actual column names in the dataframe\n",
    "    actual_columns = {}\n",
    "    for feature, alternatives in alt_column_names.items():\n",
    "        for alt in alternatives:\n",
    "            if alt in dssp_df.columns:\n",
    "                actual_columns[feature] = alt\n",
    "                break\n",
    "\n",
    "    print(f\"Found {len(actual_columns)} DSSP features in the dataframe\")\n",
    "\n",
    "    # Track how many nodes were updated\n",
    "    updated_nodes = 0\n",
    "    features_added = set()\n",
    "\n",
    "    # Different versions of Graphein might have different column names for chain & residue\n",
    "    # Try to identify the correct column names\n",
    "    chain_col = next((c for c in dssp_df.columns if 'chain' in c.lower()), None)\n",
    "    res_num_col = next((c for c in dssp_df.columns if 'res' in c.lower() and 'num' in c.lower()), None)\n",
    "\n",
    "    if not chain_col or not res_num_col:\n",
    "        print(f\"Could not identify chain and residue number columns in DSSP dataframe\")\n",
    "        print(f\"Available columns: {dssp_df.columns}\")\n",
    "        return graph\n",
    "\n",
    "    print(f\"Using '{chain_col}' for chain ID and '{res_num_col}' for residue number\")\n",
    "\n",
    "    # Add features to each node\n",
    "    for node, data in graph.nodes(data=True):\n",
    "        # Extract chain and residue info from node ID\n",
    "        parts = str(node).split(':')\n",
    "        if len(parts) < 3:\n",
    "            continue\n",
    "\n",
    "        chain = parts[0]\n",
    "        residue_num = parts[2]\n",
    "\n",
    "        try:\n",
    "            # Find matching row in DSSP dataframe\n",
    "            mask = (dssp_df[chain_col] == chain) & (dssp_df[res_num_col] == int(residue_num))\n",
    "            matching_rows = dssp_df[mask]\n",
    "\n",
    "            if matching_rows.empty:\n",
    "                continue\n",
    "\n",
    "            # Add all available features to the node\n",
    "            for feature, col_name in actual_columns.items():\n",
    "                # Get the node attribute name from feature descriptions\n",
    "                node_attr = dssp_features[feature].split('(')[1].split(')')[0] if '(' in dssp_features[feature] else feature\n",
    "\n",
    "                # Add the feature to the node\n",
    "                if col_name in matching_rows.columns:\n",
    "                    data[node_attr] = matching_rows[col_name].values[0]\n",
    "                    features_added.add(node_attr)\n",
    "\n",
    "            updated_nodes += 1\n",
    "\n",
    "        except (ValueError, KeyError) as e:\n",
    "            # Skip this node if there are issues\n",
    "            continue\n",
    "\n",
    "    print(f\"Updated {updated_nodes} out of {len(graph.nodes)} nodes\")\n",
    "    print(f\"Added the following features to nodes: {sorted(list(features_added))}\")\n",
    "\n",
    "    return graph\n"
   ],
   "id": "305a7bd0e9a50634",
   "outputs": [],
   "execution_count": 9
  },
  {
   "metadata": {
    "ExecuteTime": {
     "end_time": "2025-03-29T10:20:02.530587Z",
     "start_time": "2025-03-29T10:20:02.512672Z"
    }
   },
   "cell_type": "code",
   "source": [
    "def debug_graph(graph):\n",
    "    ''' Debugging function to print basic graph info '''\n",
    "    # Check graph type\n",
    "    print(f\"Graph type: {type(graph)}\")\n",
    "\n",
    "    # Print basic node info\n",
    "    print(f\"\\nNumber of nodes: {len(graph.nodes())}\")\n",
    "    if len(graph.nodes()) > 0:\n",
    "        sample_node = list(graph.nodes())[0]\n",
    "        print(f\"Sample node: {sample_node}\")\n",
    "        print(f\"Sample node attributes: {graph.nodes[sample_node]}\")\n",
    "\n",
    "    # Print basic edge info\n",
    "    print(f\"\\nNumber of edges: {len(graph.edges())}\")\n",
    "    if len(graph.edges()) > 0:\n",
    "        sample_edge = list(graph.edges())[0]\n",
    "        print(f\"Sample edge: {sample_edge}\")\n",
    "        print(f\"Sample edge attributes: {graph.edges[sample_edge]}\")\n",
    "\n"
   ],
   "id": "6cb603dd91dda415",
   "outputs": [],
   "execution_count": 10
  },
  {
   "metadata": {
    "ExecuteTime": {
     "end_time": "2025-03-29T10:20:05.263045Z",
     "start_time": "2025-03-29T10:20:04.691384Z"
    }
   },
   "cell_type": "code",
   "source": [
    "# Run the test and debug\n",
    "result = generate_graph_no_dssp()\n",
    "debug_graph(result)"
   ],
   "id": "fb264c6168ebbdce",
   "outputs": [
    {
     "data": {
      "text/plain": [
       "Output()"
      ],
      "application/vnd.jupyter.widget-view+json": {
       "version_major": 2,
       "version_minor": 0,
       "model_id": "204f2f23a25b4739959db3d1d7077094"
      }
     },
     "metadata": {},
     "output_type": "display_data"
    },
    {
     "data": {
      "text/plain": [],
      "text/html": [
       "<pre style=\"white-space:pre;overflow-x:auto;line-height:normal;font-family:Menlo,'DejaVu Sans Mono',consolas,'Courier New',monospace\"></pre>\n"
      ]
     },
     "metadata": {},
     "output_type": "display_data"
    },
    {
     "name": "stdout",
     "output_type": "stream",
     "text": [
      "Graph type: <class 'networkx.classes.graph.Graph'>\n",
      "\n",
      "Number of nodes: 744\n",
      "Sample node: A:GLN:1\n",
      "Sample node attributes: {'chain_id': 'A', 'residue_name': 'GLN', 'residue_number': 1, 'atom_type': 'CA', 'element_symbol': 'C', 'coords': array([-71.294,  32.652,  -7.308], dtype=float32), 'b_factor': 70.94999694824219, 'amino_acid_one_hot': array([0, 0, 0, 0, 0, 0, 0, 0, 0, 0, 0, 0, 0, 1, 0, 0, 0, 0, 0, 0]), 'meiler': dim_1    1.56\n",
      "dim_2    0.18\n",
      "dim_3    3.95\n",
      "dim_4   -0.22\n",
      "dim_5    5.65\n",
      "dim_6    0.35\n",
      "dim_7    0.25\n",
      "Name: GLN, dtype: float64, 'pka_cooh_alpha': 2.17, 'pka_nh3': 9.13, 'pka_rgroup': 7.0, 'isoelectric_points': 5.65, 'molecularweight': 146.0, 'numbercodons': 2.0, 'bulkiness': 14.45, 'polarityzimmerman': 3.53, 'polaritygrantham': 10.5, 'refractivity': 17.56, 'recognitionfactors': 87.0, 'hphob_eisenberg': -0.85, 'hphob_sweet': -0.91, 'hphob_woods': 0.2, 'hphob_doolittle': -3.5, 'hphob_manavalan': 11.76, 'hphob_leo': -0.71, 'hphob_black': 0.251, 'hphob_breese': 0.97, 'hphob_fauchere': -0.22, 'hphob_guy': 0.95, 'hphob_janin': -0.7, 'hphob_miyazawa': 3.87, 'hphob_argos': 0.33, 'hphob_roseman': -1.3, 'hphob_tanford': -0.85, 'hphob_wolfenden': -9.38, 'hphob_welling': -0.11, 'hphob_wilson': -0.2, 'hphob_parker': 6.0, 'hphob_ph3_4': -0.96, 'hphob_ph7_5': -0.93, 'hphob_mobility': 1.4, 'hplchfba': 1.8, 'hplctfa': -0.3, 'transmembranetendency': -1.84, 'hplc2_1': -2.5, 'hplc7_4': -4.8, 'buriedresidues': 1.6, 'accessibleresidues': 5.2, 'hphob_chothia': 0.07, 'hphob_rose': 0.62, 'ratioside': 0.89, 'averageburied': 119.2, 'averageflexibility': 0.49, 'alpha_helixfasman': 1.11, 'beta_sheetfasman': 1.1, 'beta_turnfasman': 0.98, 'alpha_helixroux': 1.164, 'beta_sheetroux': 0.84, 'beta_turnroux': 0.997, 'coilroux': 0.947, 'alpha_helixlevitt': 1.27, 'beta_sheetlevitt': 0.8, 'beta_turnlevitt': 0.98, 'totalbeta_strand': 0.95, 'antiparallelbeta_strand': 1.18, 'parallelbeta_strand': 0.28, 'a_a_composition': 4.0, 'a_a_swiss_prot': 3.93, 'relativemutability': 93.0}\n",
      "\n",
      "Number of edges: 1400\n",
      "Sample edge: ('A:GLN:1', 'A:VAL:2')\n",
      "Sample edge attributes: {'kind': {'peptide_bond'}, 'distance': 3.824114237232667}\n"
     ]
    }
   ],
   "execution_count": 11
  },
  {
   "metadata": {
    "ExecuteTime": {
     "end_time": "2025-03-29T10:20:11.987288Z",
     "start_time": "2025-03-29T10:20:08.868108Z"
    }
   },
   "cell_type": "code",
   "source": [
    "graph_test = generate_graph_no_dssp()\n",
    "\n",
    "config = ProteinGraphConfig()\n",
    "config.dssp_config = DSSPConfig()\n",
    "\n",
    "# Add DSSP dataframe\n",
    "print(\"Adding DSSP dataframe...\")\n",
    "graph_test = add_dssp_df(graph_test, dssp_config=config.dssp_config)\n",
    "\n",
    "# Add secondary structure to nodes - this is from the function above...\n",
    "graph_test = add_all_dssp_features_to_nodes(graph_test)\n",
    "\n",
    "debug_graph(graph_test)\n"
   ],
   "id": "19da0d05e3ab9474",
   "outputs": [
    {
     "data": {
      "text/plain": [
       "Output()"
      ],
      "application/vnd.jupyter.widget-view+json": {
       "version_major": 2,
       "version_minor": 0,
       "model_id": "ad64c9fad372449d941d380b2d778e4e"
      }
     },
     "metadata": {},
     "output_type": "display_data"
    },
    {
     "data": {
      "text/plain": [],
      "text/html": [
       "<pre style=\"white-space:pre;overflow-x:auto;line-height:normal;font-family:Menlo,'DejaVu Sans Mono',consolas,'Courier New',monospace\"></pre>\n"
      ]
     },
     "metadata": {},
     "output_type": "display_data"
    },
    {
     "name": "stdout",
     "output_type": "stream",
     "text": [
      "Adding DSSP dataframe...\n",
      "Available DSSP features: ['chain', 'resnum', 'icode', 'aa', 'ss', 'asa', 'phi', 'psi', 'dssp_index', 'NH_O_1_relidx', 'NH_O_1_energy', 'O_NH_1_relidx', 'O_NH_1_energy', 'NH_O_2_relidx', 'NH_O_2_energy', 'O_NH_2_relidx', 'O_NH_2_energy']\n",
      "Found 13 DSSP features in the dataframe\n",
      "Using 'chain' for chain ID and 'resnum' for residue number\n",
      "Updated 744 out of 744 nodes\n",
      "Added the following features to nodes: ['dssp_aa', 'dssp_index', 'nh_o1_energy', 'nh_o1_relidx', 'nh_o2_energy', 'nh_o2_relidx', 'o_nh1_energy', 'o_nh1_relidx', 'o_nh2_energy', 'o_nh2_relidx', 'phi', 'psi', 'ss_value']\n",
      "Graph type: <class 'networkx.classes.graph.Graph'>\n",
      "\n",
      "Number of nodes: 744\n",
      "Sample node: A:GLN:1\n",
      "Sample node attributes: {'chain_id': 'A', 'residue_name': 'GLN', 'residue_number': 1, 'atom_type': 'CA', 'element_symbol': 'C', 'coords': array([-71.294,  32.652,  -7.308], dtype=float32), 'b_factor': 70.94999694824219, 'amino_acid_one_hot': array([0, 0, 0, 0, 0, 0, 0, 0, 0, 0, 0, 0, 0, 1, 0, 0, 0, 0, 0, 0]), 'meiler': dim_1    1.56\n",
      "dim_2    0.18\n",
      "dim_3    3.95\n",
      "dim_4   -0.22\n",
      "dim_5    5.65\n",
      "dim_6    0.35\n",
      "dim_7    0.25\n",
      "Name: GLN, dtype: float64, 'pka_cooh_alpha': 2.17, 'pka_nh3': 9.13, 'pka_rgroup': 7.0, 'isoelectric_points': 5.65, 'molecularweight': 146.0, 'numbercodons': 2.0, 'bulkiness': 14.45, 'polarityzimmerman': 3.53, 'polaritygrantham': 10.5, 'refractivity': 17.56, 'recognitionfactors': 87.0, 'hphob_eisenberg': -0.85, 'hphob_sweet': -0.91, 'hphob_woods': 0.2, 'hphob_doolittle': -3.5, 'hphob_manavalan': 11.76, 'hphob_leo': -0.71, 'hphob_black': 0.251, 'hphob_breese': 0.97, 'hphob_fauchere': -0.22, 'hphob_guy': 0.95, 'hphob_janin': -0.7, 'hphob_miyazawa': 3.87, 'hphob_argos': 0.33, 'hphob_roseman': -1.3, 'hphob_tanford': -0.85, 'hphob_wolfenden': -9.38, 'hphob_welling': -0.11, 'hphob_wilson': -0.2, 'hphob_parker': 6.0, 'hphob_ph3_4': -0.96, 'hphob_ph7_5': -0.93, 'hphob_mobility': 1.4, 'hplchfba': 1.8, 'hplctfa': -0.3, 'transmembranetendency': -1.84, 'hplc2_1': -2.5, 'hplc7_4': -4.8, 'buriedresidues': 1.6, 'accessibleresidues': 5.2, 'hphob_chothia': 0.07, 'hphob_rose': 0.62, 'ratioside': 0.89, 'averageburied': 119.2, 'averageflexibility': 0.49, 'alpha_helixfasman': 1.11, 'beta_sheetfasman': 1.1, 'beta_turnfasman': 0.98, 'alpha_helixroux': 1.164, 'beta_sheetroux': 0.84, 'beta_turnroux': 0.997, 'coilroux': 0.947, 'alpha_helixlevitt': 1.27, 'beta_sheetlevitt': 0.8, 'beta_turnlevitt': 0.98, 'totalbeta_strand': 0.95, 'antiparallelbeta_strand': 1.18, 'parallelbeta_strand': 0.28, 'a_a_composition': 4.0, 'a_a_swiss_prot': 3.93, 'relativemutability': 93.0, 'ss_value': '-', 'dssp_aa': 'GLN', 'phi': 360.0, 'psi': -57.3, 'dssp_index': 1, 'nh_o1_relidx': 0, 'nh_o1_energy': 0.0, 'o_nh1_relidx': 2, 'o_nh1_energy': -0.3, 'nh_o2_relidx': 0, 'nh_o2_energy': 0.0, 'o_nh2_relidx': 26, 'o_nh2_energy': -0.1}\n",
      "\n",
      "Number of edges: 1400\n",
      "Sample edge: ('A:GLN:1', 'A:VAL:2')\n",
      "Sample edge attributes: {'kind': {'peptide_bond'}, 'distance': 3.824114237232667}\n"
     ]
    }
   ],
   "execution_count": 12
  },
  {
   "metadata": {
    "ExecuteTime": {
     "end_time": "2025-03-29T10:40:23.172784Z",
     "start_time": "2025-03-29T10:40:23.108230Z"
    }
   },
   "cell_type": "code",
   "source": [
    "# this could take in a list of chains from the known nanos directory.\n",
    "\n",
    "def extract_chain_subgraphs(graph):\n",
    "    \"\"\"\n",
    "    Extract subgraphs for each chain in the input graph.\n",
    "\n",
    "    Parameters:\n",
    "    -----------\n",
    "    graph : graphein graph object\n",
    "        The input protein graph with multiple chains\n",
    "\n",
    "    Returns:\n",
    "    --------\n",
    "    dict\n",
    "        Dictionary mapping chain IDs to their respective subgraphs\n",
    "    \"\"\"\n",
    "    # Get all unique chain IDs\n",
    "    chains = set([data[\"chain_id\"] for _, data in graph.nodes(data=True)])\n",
    "    print(f\"Available chains: {chains}\")\n",
    "    print(f\"Graph name: {graph.name}\")\n",
    "\n",
    "    # Create a dictionary to store all subgraphs\n",
    "    chain_subgraphs = {}\n",
    "\n",
    "    # Extract subgraph for each chain\n",
    "    for chain in chains:\n",
    "        subgraph = gp.extract_subgraph_from_chains(graph, [chain])\n",
    "        chain_subgraphs[chain] = subgraph\n",
    "        print(f\"Extracted subgraph for chain {chain} with {subgraph.number_of_nodes()} nodes\")\n",
    "\n",
    "    return chain_subgraphs\n",
    "\n",
    "# Usage\n",
    "chain_subgraphs = extract_chain_subgraphs(graph_test)\n",
    "\n",
    "# Access individual chain subgraphs\n",
    "s_g_A = chain_subgraphs.get(\"A\")\n",
    "if s_g_A:\n",
    "    debug_graph(s_g_A)\n",
    "\n",
    "# You can loop through all chain subgraphs if needed\n",
    "for chain_id, subgraph in chain_subgraphs.items():\n",
    "    print(f\"Chain {chain_id}: {subgraph.number_of_nodes()} nodes, {subgraph.number_of_edges()} edges\")\n",
    "\n",
    "with open(\"2X89_nanobody_A.pkl\", \"wb\") as f: # or json or whatever...\n",
    "    pickle.dump(s_g_A, f)"
   ],
   "id": "e0eee639e13322bd",
   "outputs": [
    {
     "name": "stdout",
     "output_type": "stream",
     "text": [
      "Available chains: {'C', 'E', 'G', 'D', 'A', 'B', 'F'}\n",
      "Graph name: 2X89\n",
      "Extracted subgraph for chain C with 128 nodes\n",
      "Extracted subgraph for chain E with 91 nodes\n",
      "Extracted subgraph for chain G with 86 nodes\n",
      "Extracted subgraph for chain D with 92 nodes\n",
      "Extracted subgraph for chain A with 128 nodes\n",
      "Extracted subgraph for chain B with 128 nodes\n",
      "Extracted subgraph for chain F with 91 nodes\n",
      "Graph type: <class 'networkx.classes.graph.Graph'>\n",
      "\n",
      "Number of nodes: 128\n",
      "Sample node: A:GLY:9\n",
      "Sample node attributes: {'chain_id': 'A', 'residue_name': 'GLY', 'residue_number': 9, 'atom_type': 'CA', 'element_symbol': 'C', 'coords': array([-79.664,  15.809,  10.036], dtype=float32), 'b_factor': 60.4900016784668, 'amino_acid_one_hot': array([0, 0, 0, 0, 0, 1, 0, 0, 0, 0, 0, 0, 0, 0, 0, 0, 0, 0, 0, 0]), 'meiler': dim_1    0.00\n",
      "dim_2    0.00\n",
      "dim_3    0.00\n",
      "dim_4    0.00\n",
      "dim_5    6.07\n",
      "dim_6    0.13\n",
      "dim_7    0.15\n",
      "Name: GLY, dtype: float64, 'pka_cooh_alpha': 2.34, 'pka_nh3': 9.6, 'pka_rgroup': 7.0, 'isoelectric_points': 6.06, 'molecularweight': 75.0, 'numbercodons': 4.0, 'bulkiness': 3.4, 'polarityzimmerman': 0.0, 'polaritygrantham': 9.0, 'refractivity': 0.0, 'recognitionfactors': 84.0, 'hphob_eisenberg': 0.48, 'hphob_sweet': -0.67, 'hphob_woods': 0.0, 'hphob_doolittle': -0.4, 'hphob_manavalan': 12.43, 'hphob_leo': 0.0, 'hphob_black': 0.501, 'hphob_breese': 0.81, 'hphob_fauchere': 0.0, 'hphob_guy': 0.33, 'hphob_janin': 0.3, 'hphob_miyazawa': 4.48, 'hphob_argos': 1.09, 'hphob_roseman': 0.0, 'hphob_tanford': 0.48, 'hphob_wolfenden': 2.39, 'hphob_welling': -1.84, 'hphob_wilson': 1.2, 'hphob_parker': 5.7, 'hphob_ph3_4': 0.0, 'hphob_ph7_5': 0.0, 'hphob_mobility': 4.1, 'hplchfba': -2.3, 'hplctfa': -1.2, 'transmembranetendency': -0.19, 'hplc2_1': -0.5, 'hplc7_4': 0.0, 'buriedresidues': 11.8, 'accessibleresidues': 6.7, 'hphob_chothia': 0.36, 'hphob_rose': 0.72, 'ratioside': 0.74, 'averageburied': 62.9, 'averageflexibility': 0.54, 'alpha_helixfasman': 0.57, 'beta_sheetfasman': 0.75, 'beta_turnfasman': 1.56, 'alpha_helixroux': 0.51, 'beta_sheetroux': 0.657, 'beta_turnroux': 1.86, 'coilroux': 1.251, 'alpha_helixlevitt': 0.56, 'beta_sheetlevitt': 0.92, 'beta_turnlevitt': 1.64, 'totalbeta_strand': 0.61, 'antiparallelbeta_strand': 0.56, 'parallelbeta_strand': 0.79, 'a_a_composition': 7.2, 'a_a_swiss_prot': 7.07, 'relativemutability': 49.0, 'ss_value': '-', 'dssp_aa': 'GLY', 'phi': -71.5, 'psi': 163.5, 'dssp_index': 9, 'nh_o1_relidx': 9, 'nh_o1_energy': -0.1, 'o_nh1_relidx': 2, 'o_nh1_energy': -0.3, 'nh_o2_relidx': 85, 'nh_o2_energy': -0.1, 'o_nh2_relidx': -1, 'o_nh2_energy': -0.3}\n",
      "\n",
      "Number of edges: 231\n",
      "Sample edge: ('A:GLY:9', 'A:GLY:8')\n",
      "Sample edge attributes: {'kind': {'peptide_bond'}, 'distance': 3.816467998790026}\n",
      "Chain C: 128 nodes, 231 edges\n",
      "Chain E: 91 nodes, 147 edges\n",
      "Chain G: 86 nodes, 148 edges\n",
      "Chain D: 92 nodes, 152 edges\n",
      "Chain A: 128 nodes, 231 edges\n",
      "Chain B: 128 nodes, 234 edges\n",
      "Chain F: 91 nodes, 152 edges\n"
     ]
    }
   ],
   "execution_count": 16
  },
  {
   "metadata": {},
   "cell_type": "markdown",
   "source": "Send on to pytorch geometric memory loader dataset or whatever and Now it would be possible to use this as a loop to get and split all of the pdbs to generate the graphs for each nano - based on the nano directory or or or",
   "id": "ad381f2e4cd3dc72"
  },
  {
   "metadata": {},
   "cell_type": "code",
   "outputs": [],
   "execution_count": null,
   "source": "",
   "id": "42260abcc66ddddd"
  }
 ],
 "metadata": {
  "kernelspec": {
   "display_name": "Python 3",
   "language": "python",
   "name": "python3"
  },
  "language_info": {
   "codemirror_mode": {
    "name": "ipython",
    "version": 2
   },
   "file_extension": ".py",
   "mimetype": "text/x-python",
   "name": "python",
   "nbconvert_exporter": "python",
   "pygments_lexer": "ipython2",
   "version": "2.7.6"
  }
 },
 "nbformat": 4,
 "nbformat_minor": 5
}
